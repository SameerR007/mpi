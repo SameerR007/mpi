{
 "cells": [
  {
   "cell_type": "code",
   "execution_count": 1,
   "metadata": {},
   "outputs": [],
   "source": [
    "import pandas as pd"
   ]
  },
  {
   "cell_type": "code",
   "execution_count": 2,
   "metadata": {},
   "outputs": [],
   "source": [
    "data1=pd.read_csv(\"patents_not_found.csv\")"
   ]
  },
  {
   "cell_type": "code",
   "execution_count": 3,
   "metadata": {},
   "outputs": [],
   "source": [
    "data2=pd.read_csv(\"patents_without_embeddings.csv\")"
   ]
  },
  {
   "cell_type": "code",
   "execution_count": 4,
   "metadata": {},
   "outputs": [
    {
     "data": {
      "text/html": [
       "<div>\n",
       "<style scoped>\n",
       "    .dataframe tbody tr th:only-of-type {\n",
       "        vertical-align: middle;\n",
       "    }\n",
       "\n",
       "    .dataframe tbody tr th {\n",
       "        vertical-align: top;\n",
       "    }\n",
       "\n",
       "    .dataframe thead th {\n",
       "        text-align: right;\n",
       "    }\n",
       "</style>\n",
       "<table border=\"1\" class=\"dataframe\">\n",
       "  <thead>\n",
       "    <tr style=\"text-align: right;\">\n",
       "      <th></th>\n",
       "      <th>key</th>\n",
       "    </tr>\n",
       "  </thead>\n",
       "  <tbody>\n",
       "    <tr>\n",
       "      <th>0</th>\n",
       "      <td>EP470080A1</td>\n",
       "    </tr>\n",
       "    <tr>\n",
       "      <th>1</th>\n",
       "      <td>EP0823839A1</td>\n",
       "    </tr>\n",
       "    <tr>\n",
       "      <th>2</th>\n",
       "      <td>EP221816A2</td>\n",
       "    </tr>\n",
       "    <tr>\n",
       "      <th>3</th>\n",
       "      <td>EP332113A2</td>\n",
       "    </tr>\n",
       "    <tr>\n",
       "      <th>4</th>\n",
       "      <td>EP0519036A1</td>\n",
       "    </tr>\n",
       "  </tbody>\n",
       "</table>\n",
       "</div>"
      ],
      "text/plain": [
       "           key\n",
       "0   EP470080A1\n",
       "1  EP0823839A1\n",
       "2   EP221816A2\n",
       "3   EP332113A2\n",
       "4  EP0519036A1"
      ]
     },
     "execution_count": 4,
     "metadata": {},
     "output_type": "execute_result"
    }
   ],
   "source": [
    "data1.head()"
   ]
  },
  {
   "cell_type": "code",
   "execution_count": 5,
   "metadata": {},
   "outputs": [
    {
     "data": {
      "text/html": [
       "<div>\n",
       "<style scoped>\n",
       "    .dataframe tbody tr th:only-of-type {\n",
       "        vertical-align: middle;\n",
       "    }\n",
       "\n",
       "    .dataframe tbody tr th {\n",
       "        vertical-align: top;\n",
       "    }\n",
       "\n",
       "    .dataframe thead th {\n",
       "        text-align: right;\n",
       "    }\n",
       "</style>\n",
       "<table border=\"1\" class=\"dataframe\">\n",
       "  <thead>\n",
       "    <tr style=\"text-align: right;\">\n",
       "      <th></th>\n",
       "      <th>key</th>\n",
       "    </tr>\n",
       "  </thead>\n",
       "  <tbody>\n",
       "    <tr>\n",
       "      <th>0</th>\n",
       "      <td>EP0286634A1</td>\n",
       "    </tr>\n",
       "    <tr>\n",
       "      <th>1</th>\n",
       "      <td>EP0320505A1</td>\n",
       "    </tr>\n",
       "    <tr>\n",
       "      <th>2</th>\n",
       "      <td>EP0401206A1</td>\n",
       "    </tr>\n",
       "    <tr>\n",
       "      <th>3</th>\n",
       "      <td>EP0670744A1</td>\n",
       "    </tr>\n",
       "    <tr>\n",
       "      <th>4</th>\n",
       "      <td>EP0607158A1</td>\n",
       "    </tr>\n",
       "  </tbody>\n",
       "</table>\n",
       "</div>"
      ],
      "text/plain": [
       "           key\n",
       "0  EP0286634A1\n",
       "1  EP0320505A1\n",
       "2  EP0401206A1\n",
       "3  EP0670744A1\n",
       "4  EP0607158A1"
      ]
     },
     "execution_count": 5,
     "metadata": {},
     "output_type": "execute_result"
    }
   ],
   "source": [
    "data2.head()"
   ]
  },
  {
   "cell_type": "code",
   "execution_count": 6,
   "metadata": {},
   "outputs": [
    {
     "data": {
      "text/plain": [
       "11487"
      ]
     },
     "execution_count": 6,
     "metadata": {},
     "output_type": "execute_result"
    }
   ],
   "source": [
    "len(data1)"
   ]
  },
  {
   "cell_type": "code",
   "execution_count": 7,
   "metadata": {},
   "outputs": [
    {
     "data": {
      "text/plain": [
       "85153"
      ]
     },
     "execution_count": 7,
     "metadata": {},
     "output_type": "execute_result"
    }
   ],
   "source": [
    "len(data2)"
   ]
  },
  {
   "cell_type": "code",
   "execution_count": 8,
   "metadata": {},
   "outputs": [],
   "source": [
    "data = pd.concat([data1, data2], axis=0, ignore_index=True)"
   ]
  },
  {
   "cell_type": "code",
   "execution_count": 9,
   "metadata": {},
   "outputs": [
    {
     "data": {
      "text/html": [
       "<div>\n",
       "<style scoped>\n",
       "    .dataframe tbody tr th:only-of-type {\n",
       "        vertical-align: middle;\n",
       "    }\n",
       "\n",
       "    .dataframe tbody tr th {\n",
       "        vertical-align: top;\n",
       "    }\n",
       "\n",
       "    .dataframe thead th {\n",
       "        text-align: right;\n",
       "    }\n",
       "</style>\n",
       "<table border=\"1\" class=\"dataframe\">\n",
       "  <thead>\n",
       "    <tr style=\"text-align: right;\">\n",
       "      <th></th>\n",
       "      <th>key</th>\n",
       "    </tr>\n",
       "  </thead>\n",
       "  <tbody>\n",
       "    <tr>\n",
       "      <th>0</th>\n",
       "      <td>EP470080A1</td>\n",
       "    </tr>\n",
       "    <tr>\n",
       "      <th>1</th>\n",
       "      <td>EP0823839A1</td>\n",
       "    </tr>\n",
       "    <tr>\n",
       "      <th>2</th>\n",
       "      <td>EP221816A2</td>\n",
       "    </tr>\n",
       "    <tr>\n",
       "      <th>3</th>\n",
       "      <td>EP332113A2</td>\n",
       "    </tr>\n",
       "    <tr>\n",
       "      <th>4</th>\n",
       "      <td>EP0519036A1</td>\n",
       "    </tr>\n",
       "  </tbody>\n",
       "</table>\n",
       "</div>"
      ],
      "text/plain": [
       "           key\n",
       "0   EP470080A1\n",
       "1  EP0823839A1\n",
       "2   EP221816A2\n",
       "3   EP332113A2\n",
       "4  EP0519036A1"
      ]
     },
     "execution_count": 9,
     "metadata": {},
     "output_type": "execute_result"
    }
   ],
   "source": [
    "data.head()"
   ]
  },
  {
   "cell_type": "code",
   "execution_count": 10,
   "metadata": {},
   "outputs": [
    {
     "data": {
      "text/plain": [
       "96640"
      ]
     },
     "execution_count": 10,
     "metadata": {},
     "output_type": "execute_result"
    }
   ],
   "source": [
    "len(data)"
   ]
  },
  {
   "cell_type": "code",
   "execution_count": 11,
   "metadata": {},
   "outputs": [],
   "source": [
    "import mysql.connector\n",
    "import os\n",
    "from dotenv import load_dotenv"
   ]
  },
  {
   "cell_type": "code",
   "execution_count": 12,
   "metadata": {},
   "outputs": [],
   "source": [
    "load_dotenv()\n",
    "db_config = {\n",
    "    'host': os.getenv('DB_HOST'),\n",
    "    'user': os.getenv('DB_USER'),\n",
    "    'password': os.getenv('DB_PASSWORD'),\n",
    "    'database': os.getenv('DB_DATABASE')\n",
    "}"
   ]
  },
  {
   "cell_type": "code",
   "execution_count": 13,
   "metadata": {},
   "outputs": [
    {
     "data": {
      "text/plain": [
       "True"
      ]
     },
     "execution_count": 13,
     "metadata": {},
     "output_type": "execute_result"
    }
   ],
   "source": [
    "#sql query to get appln_ids of representative patents with the help of keys\n",
    "conn = mysql.connector.connect(**db_config)\n",
    "cursor = conn.cursor(dictionary=True)\n",
    "keys=tuple(data['key'])\n",
    "query = f\"\"\"\n",
    "SELECT \n",
    "\tt1.publn_auth,\n",
    "\tt1.appln_id,   \n",
    "    t1.publn_nr,\n",
    "    t1.publn_kind\n",
    "FROM\n",
    "\tpatstat_s24.tls211_pat_publn t1\n",
    "WHERE\n",
    "    CONCAT(t1.publn_auth, t1.publn_nr, t1.publn_kind) IN {keys}\n",
    "\"\"\"\n",
    "cursor.execute(query)\n",
    "results = cursor.fetchall()\n",
    "cursor.close()"
   ]
  },
  {
   "cell_type": "code",
   "execution_count": 14,
   "metadata": {},
   "outputs": [],
   "source": [
    "data3=pd.DataFrame(results)"
   ]
  },
  {
   "cell_type": "code",
   "execution_count": 15,
   "metadata": {},
   "outputs": [
    {
     "data": {
      "text/html": [
       "<div>\n",
       "<style scoped>\n",
       "    .dataframe tbody tr th:only-of-type {\n",
       "        vertical-align: middle;\n",
       "    }\n",
       "\n",
       "    .dataframe tbody tr th {\n",
       "        vertical-align: top;\n",
       "    }\n",
       "\n",
       "    .dataframe thead th {\n",
       "        text-align: right;\n",
       "    }\n",
       "</style>\n",
       "<table border=\"1\" class=\"dataframe\">\n",
       "  <thead>\n",
       "    <tr style=\"text-align: right;\">\n",
       "      <th></th>\n",
       "      <th>publn_auth</th>\n",
       "      <th>appln_id</th>\n",
       "      <th>publn_nr</th>\n",
       "      <th>publn_kind</th>\n",
       "    </tr>\n",
       "  </thead>\n",
       "  <tbody>\n",
       "    <tr>\n",
       "      <th>0</th>\n",
       "      <td>EP</td>\n",
       "      <td>12717</td>\n",
       "      <td>1947248</td>\n",
       "      <td>A1</td>\n",
       "    </tr>\n",
       "    <tr>\n",
       "      <th>1</th>\n",
       "      <td>EP</td>\n",
       "      <td>48850</td>\n",
       "      <td>1955742</td>\n",
       "      <td>A1</td>\n",
       "    </tr>\n",
       "    <tr>\n",
       "      <th>2</th>\n",
       "      <td>EP</td>\n",
       "      <td>176206</td>\n",
       "      <td>1972749</td>\n",
       "      <td>A1</td>\n",
       "    </tr>\n",
       "    <tr>\n",
       "      <th>3</th>\n",
       "      <td>EP</td>\n",
       "      <td>126845</td>\n",
       "      <td>1982623</td>\n",
       "      <td>A1</td>\n",
       "    </tr>\n",
       "    <tr>\n",
       "      <th>4</th>\n",
       "      <td>EP</td>\n",
       "      <td>277044</td>\n",
       "      <td>2005998</td>\n",
       "      <td>A2</td>\n",
       "    </tr>\n",
       "  </tbody>\n",
       "</table>\n",
       "</div>"
      ],
      "text/plain": [
       "  publn_auth  appln_id publn_nr publn_kind\n",
       "0         EP     12717  1947248         A1\n",
       "1         EP     48850  1955742         A1\n",
       "2         EP    176206  1972749         A1\n",
       "3         EP    126845  1982623         A1\n",
       "4         EP    277044  2005998         A2"
      ]
     },
     "execution_count": 15,
     "metadata": {},
     "output_type": "execute_result"
    }
   ],
   "source": [
    "data3.head()"
   ]
  },
  {
   "cell_type": "code",
   "execution_count": 16,
   "metadata": {},
   "outputs": [
    {
     "data": {
      "text/plain": [
       "96640"
      ]
     },
     "execution_count": 16,
     "metadata": {},
     "output_type": "execute_result"
    }
   ],
   "source": [
    "len(data3)"
   ]
  },
  {
   "cell_type": "code",
   "execution_count": 17,
   "metadata": {},
   "outputs": [],
   "source": [
    "data3['key']=data3['publn_auth']+data3['publn_nr']+data3['publn_kind']"
   ]
  },
  {
   "cell_type": "code",
   "execution_count": 18,
   "metadata": {},
   "outputs": [
    {
     "data": {
      "text/html": [
       "<div>\n",
       "<style scoped>\n",
       "    .dataframe tbody tr th:only-of-type {\n",
       "        vertical-align: middle;\n",
       "    }\n",
       "\n",
       "    .dataframe tbody tr th {\n",
       "        vertical-align: top;\n",
       "    }\n",
       "\n",
       "    .dataframe thead th {\n",
       "        text-align: right;\n",
       "    }\n",
       "</style>\n",
       "<table border=\"1\" class=\"dataframe\">\n",
       "  <thead>\n",
       "    <tr style=\"text-align: right;\">\n",
       "      <th></th>\n",
       "      <th>publn_auth</th>\n",
       "      <th>appln_id</th>\n",
       "      <th>publn_nr</th>\n",
       "      <th>publn_kind</th>\n",
       "      <th>key</th>\n",
       "    </tr>\n",
       "  </thead>\n",
       "  <tbody>\n",
       "    <tr>\n",
       "      <th>0</th>\n",
       "      <td>EP</td>\n",
       "      <td>12717</td>\n",
       "      <td>1947248</td>\n",
       "      <td>A1</td>\n",
       "      <td>EP1947248A1</td>\n",
       "    </tr>\n",
       "    <tr>\n",
       "      <th>1</th>\n",
       "      <td>EP</td>\n",
       "      <td>48850</td>\n",
       "      <td>1955742</td>\n",
       "      <td>A1</td>\n",
       "      <td>EP1955742A1</td>\n",
       "    </tr>\n",
       "    <tr>\n",
       "      <th>2</th>\n",
       "      <td>EP</td>\n",
       "      <td>176206</td>\n",
       "      <td>1972749</td>\n",
       "      <td>A1</td>\n",
       "      <td>EP1972749A1</td>\n",
       "    </tr>\n",
       "    <tr>\n",
       "      <th>3</th>\n",
       "      <td>EP</td>\n",
       "      <td>126845</td>\n",
       "      <td>1982623</td>\n",
       "      <td>A1</td>\n",
       "      <td>EP1982623A1</td>\n",
       "    </tr>\n",
       "    <tr>\n",
       "      <th>4</th>\n",
       "      <td>EP</td>\n",
       "      <td>277044</td>\n",
       "      <td>2005998</td>\n",
       "      <td>A2</td>\n",
       "      <td>EP2005998A2</td>\n",
       "    </tr>\n",
       "  </tbody>\n",
       "</table>\n",
       "</div>"
      ],
      "text/plain": [
       "  publn_auth  appln_id publn_nr publn_kind          key\n",
       "0         EP     12717  1947248         A1  EP1947248A1\n",
       "1         EP     48850  1955742         A1  EP1955742A1\n",
       "2         EP    176206  1972749         A1  EP1972749A1\n",
       "3         EP    126845  1982623         A1  EP1982623A1\n",
       "4         EP    277044  2005998         A2  EP2005998A2"
      ]
     },
     "execution_count": 18,
     "metadata": {},
     "output_type": "execute_result"
    }
   ],
   "source": [
    "data3.head()"
   ]
  },
  {
   "cell_type": "code",
   "execution_count": 19,
   "metadata": {},
   "outputs": [],
   "source": [
    "data3=data3[['key','appln_id']]"
   ]
  },
  {
   "cell_type": "code",
   "execution_count": 20,
   "metadata": {},
   "outputs": [
    {
     "data": {
      "text/plain": [
       "96640"
      ]
     },
     "execution_count": 20,
     "metadata": {},
     "output_type": "execute_result"
    }
   ],
   "source": [
    "len(data3)"
   ]
  },
  {
   "cell_type": "code",
   "execution_count": 21,
   "metadata": {},
   "outputs": [
    {
     "data": {
      "text/html": [
       "<div>\n",
       "<style scoped>\n",
       "    .dataframe tbody tr th:only-of-type {\n",
       "        vertical-align: middle;\n",
       "    }\n",
       "\n",
       "    .dataframe tbody tr th {\n",
       "        vertical-align: top;\n",
       "    }\n",
       "\n",
       "    .dataframe thead th {\n",
       "        text-align: right;\n",
       "    }\n",
       "</style>\n",
       "<table border=\"1\" class=\"dataframe\">\n",
       "  <thead>\n",
       "    <tr style=\"text-align: right;\">\n",
       "      <th></th>\n",
       "      <th>key</th>\n",
       "      <th>appln_id</th>\n",
       "    </tr>\n",
       "  </thead>\n",
       "  <tbody>\n",
       "    <tr>\n",
       "      <th>0</th>\n",
       "      <td>EP1947248A1</td>\n",
       "      <td>12717</td>\n",
       "    </tr>\n",
       "    <tr>\n",
       "      <th>1</th>\n",
       "      <td>EP1955742A1</td>\n",
       "      <td>48850</td>\n",
       "    </tr>\n",
       "    <tr>\n",
       "      <th>2</th>\n",
       "      <td>EP1972749A1</td>\n",
       "      <td>176206</td>\n",
       "    </tr>\n",
       "    <tr>\n",
       "      <th>3</th>\n",
       "      <td>EP1982623A1</td>\n",
       "      <td>126845</td>\n",
       "    </tr>\n",
       "    <tr>\n",
       "      <th>4</th>\n",
       "      <td>EP2005998A2</td>\n",
       "      <td>277044</td>\n",
       "    </tr>\n",
       "  </tbody>\n",
       "</table>\n",
       "</div>"
      ],
      "text/plain": [
       "           key  appln_id\n",
       "0  EP1947248A1     12717\n",
       "1  EP1955742A1     48850\n",
       "2  EP1972749A1    176206\n",
       "3  EP1982623A1    126845\n",
       "4  EP2005998A2    277044"
      ]
     },
     "execution_count": 21,
     "metadata": {},
     "output_type": "execute_result"
    }
   ],
   "source": [
    "data3.head()"
   ]
  },
  {
   "cell_type": "code",
   "execution_count": 22,
   "metadata": {},
   "outputs": [
    {
     "data": {
      "text/plain": [
       "0     12717\n",
       "1     48850\n",
       "2    176206\n",
       "3    126845\n",
       "4    277044\n",
       "Name: appln_id, dtype: int64"
      ]
     },
     "execution_count": 22,
     "metadata": {},
     "output_type": "execute_result"
    }
   ],
   "source": [
    "data3['appln_id'][0:5]"
   ]
  },
  {
   "cell_type": "code",
   "execution_count": 23,
   "metadata": {},
   "outputs": [
    {
     "data": {
      "text/plain": [
       "True"
      ]
     },
     "execution_count": 23,
     "metadata": {},
     "output_type": "execute_result"
    }
   ],
   "source": [
    "conn = mysql.connector.connect(**db_config)\n",
    "cursor = conn.cursor(dictionary=True)\n",
    "ids=tuple(data3['appln_id'])\n",
    "query = f\"\"\"\n",
    "SELECT \n",
    "\tt1.appln_id,   \n",
    "    t1.appln_title\n",
    "FROM\n",
    "\tpatstat_s24.tls202_appln_title t1\n",
    "WHERE\n",
    "    t1.appln_id IN {ids}\n",
    "    AND t1.appln_title_lg = 'en'\n",
    "\"\"\"\n",
    "cursor.execute(query)\n",
    "results = cursor.fetchall()\n",
    "cursor.close()"
   ]
  },
  {
   "cell_type": "code",
   "execution_count": 24,
   "metadata": {},
   "outputs": [],
   "source": [
    "data4=pd.DataFrame(results)"
   ]
  },
  {
   "cell_type": "code",
   "execution_count": 25,
   "metadata": {},
   "outputs": [
    {
     "data": {
      "text/html": [
       "<div>\n",
       "<style scoped>\n",
       "    .dataframe tbody tr th:only-of-type {\n",
       "        vertical-align: middle;\n",
       "    }\n",
       "\n",
       "    .dataframe tbody tr th {\n",
       "        vertical-align: top;\n",
       "    }\n",
       "\n",
       "    .dataframe thead th {\n",
       "        text-align: right;\n",
       "    }\n",
       "</style>\n",
       "<table border=\"1\" class=\"dataframe\">\n",
       "  <thead>\n",
       "    <tr style=\"text-align: right;\">\n",
       "      <th></th>\n",
       "      <th>appln_id</th>\n",
       "      <th>appln_title</th>\n",
       "    </tr>\n",
       "  </thead>\n",
       "  <tbody>\n",
       "    <tr>\n",
       "      <th>0</th>\n",
       "      <td>28</td>\n",
       "      <td>DRIVE COMPRISING A MOTOR AND AT LEAST ONE GEAR...</td>\n",
       "    </tr>\n",
       "    <tr>\n",
       "      <th>1</th>\n",
       "      <td>92</td>\n",
       "      <td>DEVICE FOR FIXING A SKI BINDING TO A SKI</td>\n",
       "    </tr>\n",
       "    <tr>\n",
       "      <th>2</th>\n",
       "      <td>94</td>\n",
       "      <td>PIECE OF FURNITURE IN PARTICULAR A SEAT</td>\n",
       "    </tr>\n",
       "    <tr>\n",
       "      <th>3</th>\n",
       "      <td>122</td>\n",
       "      <td>REMOTE CONTROLLABLE LOCKING DEVICE FOR A VEHICLE</td>\n",
       "    </tr>\n",
       "    <tr>\n",
       "      <th>4</th>\n",
       "      <td>128</td>\n",
       "      <td>GN CONTAINER</td>\n",
       "    </tr>\n",
       "  </tbody>\n",
       "</table>\n",
       "</div>"
      ],
      "text/plain": [
       "   appln_id                                        appln_title\n",
       "0        28  DRIVE COMPRISING A MOTOR AND AT LEAST ONE GEAR...\n",
       "1        92           DEVICE FOR FIXING A SKI BINDING TO A SKI\n",
       "2        94            PIECE OF FURNITURE IN PARTICULAR A SEAT\n",
       "3       122   REMOTE CONTROLLABLE LOCKING DEVICE FOR A VEHICLE\n",
       "4       128                                       GN CONTAINER"
      ]
     },
     "execution_count": 25,
     "metadata": {},
     "output_type": "execute_result"
    }
   ],
   "source": [
    "data4.head()"
   ]
  },
  {
   "cell_type": "code",
   "execution_count": 26,
   "metadata": {},
   "outputs": [
    {
     "data": {
      "text/plain": [
       "96640"
      ]
     },
     "execution_count": 26,
     "metadata": {},
     "output_type": "execute_result"
    }
   ],
   "source": [
    "len(data4)"
   ]
  },
  {
   "cell_type": "code",
   "execution_count": 27,
   "metadata": {},
   "outputs": [
    {
     "data": {
      "text/plain": [
       "True"
      ]
     },
     "execution_count": 27,
     "metadata": {},
     "output_type": "execute_result"
    }
   ],
   "source": [
    "conn = mysql.connector.connect(**db_config)\n",
    "cursor = conn.cursor(dictionary=True)\n",
    "ids=tuple(data3['appln_id'])\n",
    "query = f\"\"\"\n",
    "SELECT \n",
    "\tt1.appln_id,   \n",
    "    t1.appln_title\n",
    "FROM\n",
    "\tpatstat_s24.tls202_appln_title t1\n",
    "WHERE\n",
    "    t1.appln_id IN {ids}\n",
    "    AND t1.appln_title_lg != 'en'\n",
    "\"\"\"\n",
    "cursor.execute(query)\n",
    "results = cursor.fetchall()\n",
    "cursor.close()"
   ]
  },
  {
   "cell_type": "code",
   "execution_count": 28,
   "metadata": {},
   "outputs": [
    {
     "data": {
      "text/html": [
       "<div>\n",
       "<style scoped>\n",
       "    .dataframe tbody tr th:only-of-type {\n",
       "        vertical-align: middle;\n",
       "    }\n",
       "\n",
       "    .dataframe tbody tr th {\n",
       "        vertical-align: top;\n",
       "    }\n",
       "\n",
       "    .dataframe thead th {\n",
       "        text-align: right;\n",
       "    }\n",
       "</style>\n",
       "<table border=\"1\" class=\"dataframe\">\n",
       "  <thead>\n",
       "    <tr style=\"text-align: right;\">\n",
       "      <th></th>\n",
       "    </tr>\n",
       "  </thead>\n",
       "  <tbody>\n",
       "  </tbody>\n",
       "</table>\n",
       "</div>"
      ],
      "text/plain": [
       "Empty DataFrame\n",
       "Columns: []\n",
       "Index: []"
      ]
     },
     "execution_count": 28,
     "metadata": {},
     "output_type": "execute_result"
    }
   ],
   "source": [
    "pd.DataFrame(results).head()"
   ]
  },
  {
   "cell_type": "code",
   "execution_count": 29,
   "metadata": {},
   "outputs": [],
   "source": [
    "data5 = pd.merge(data3, data4, on='appln_id', how='inner')"
   ]
  },
  {
   "cell_type": "code",
   "execution_count": 30,
   "metadata": {},
   "outputs": [
    {
     "data": {
      "text/html": [
       "<div>\n",
       "<style scoped>\n",
       "    .dataframe tbody tr th:only-of-type {\n",
       "        vertical-align: middle;\n",
       "    }\n",
       "\n",
       "    .dataframe tbody tr th {\n",
       "        vertical-align: top;\n",
       "    }\n",
       "\n",
       "    .dataframe thead th {\n",
       "        text-align: right;\n",
       "    }\n",
       "</style>\n",
       "<table border=\"1\" class=\"dataframe\">\n",
       "  <thead>\n",
       "    <tr style=\"text-align: right;\">\n",
       "      <th></th>\n",
       "      <th>key</th>\n",
       "      <th>appln_id</th>\n",
       "      <th>appln_title</th>\n",
       "    </tr>\n",
       "  </thead>\n",
       "  <tbody>\n",
       "    <tr>\n",
       "      <th>0</th>\n",
       "      <td>EP1947248A1</td>\n",
       "      <td>12717</td>\n",
       "      <td>ANTISEISMIC CONSTRUCTION</td>\n",
       "    </tr>\n",
       "    <tr>\n",
       "      <th>1</th>\n",
       "      <td>EP1955742A1</td>\n",
       "      <td>48850</td>\n",
       "      <td>DEVICE FOR TRAINING AND IMPROVING A VOLLEYBALL...</td>\n",
       "    </tr>\n",
       "    <tr>\n",
       "      <th>2</th>\n",
       "      <td>EP1972749A1</td>\n",
       "      <td>176206</td>\n",
       "      <td>Door or window comprising means for laterally ...</td>\n",
       "    </tr>\n",
       "    <tr>\n",
       "      <th>3</th>\n",
       "      <td>EP1982623A1</td>\n",
       "      <td>126845</td>\n",
       "      <td>COASTER FOR DRINKING VESSELS</td>\n",
       "    </tr>\n",
       "    <tr>\n",
       "      <th>4</th>\n",
       "      <td>EP2005998A2</td>\n",
       "      <td>277044</td>\n",
       "      <td>RADIOCOMMUNICATION SYSTEM FOR A TEAM SPORT GAME</td>\n",
       "    </tr>\n",
       "  </tbody>\n",
       "</table>\n",
       "</div>"
      ],
      "text/plain": [
       "           key  appln_id                                        appln_title\n",
       "0  EP1947248A1     12717                           ANTISEISMIC CONSTRUCTION\n",
       "1  EP1955742A1     48850  DEVICE FOR TRAINING AND IMPROVING A VOLLEYBALL...\n",
       "2  EP1972749A1    176206  Door or window comprising means for laterally ...\n",
       "3  EP1982623A1    126845                       COASTER FOR DRINKING VESSELS\n",
       "4  EP2005998A2    277044    RADIOCOMMUNICATION SYSTEM FOR A TEAM SPORT GAME"
      ]
     },
     "execution_count": 30,
     "metadata": {},
     "output_type": "execute_result"
    }
   ],
   "source": [
    "data5.head()"
   ]
  },
  {
   "cell_type": "code",
   "execution_count": 31,
   "metadata": {},
   "outputs": [
    {
     "data": {
      "text/plain": [
       "96640"
      ]
     },
     "execution_count": 31,
     "metadata": {},
     "output_type": "execute_result"
    }
   ],
   "source": [
    "len(data5)"
   ]
  },
  {
   "cell_type": "code",
   "execution_count": 32,
   "metadata": {},
   "outputs": [
    {
     "data": {
      "text/plain": [
       "True"
      ]
     },
     "execution_count": 32,
     "metadata": {},
     "output_type": "execute_result"
    }
   ],
   "source": [
    "conn = mysql.connector.connect(**db_config)\n",
    "cursor = conn.cursor(dictionary=True)\n",
    "ids=tuple(data5['appln_id'])\n",
    "query = f\"\"\"\n",
    "SELECT \n",
    "\tt1.appln_id,   \n",
    "    t1.appln_abstract\n",
    "FROM\n",
    "\tpatstat_s24.tls203_appln_abstr t1\n",
    "WHERE\n",
    "    t1.appln_id IN {ids}\n",
    "    AND t1.appln_abstract_lg = 'en'\n",
    "\"\"\"\n",
    "cursor.execute(query)\n",
    "results = cursor.fetchall()\n",
    "cursor.close()"
   ]
  },
  {
   "cell_type": "code",
   "execution_count": 33,
   "metadata": {},
   "outputs": [],
   "source": [
    "data6=pd.DataFrame(results)"
   ]
  },
  {
   "cell_type": "code",
   "execution_count": 34,
   "metadata": {},
   "outputs": [
    {
     "data": {
      "text/html": [
       "<div>\n",
       "<style scoped>\n",
       "    .dataframe tbody tr th:only-of-type {\n",
       "        vertical-align: middle;\n",
       "    }\n",
       "\n",
       "    .dataframe tbody tr th {\n",
       "        vertical-align: top;\n",
       "    }\n",
       "\n",
       "    .dataframe thead th {\n",
       "        text-align: right;\n",
       "    }\n",
       "</style>\n",
       "<table border=\"1\" class=\"dataframe\">\n",
       "  <thead>\n",
       "    <tr style=\"text-align: right;\">\n",
       "      <th></th>\n",
       "      <th>appln_id</th>\n",
       "      <th>appln_abstract</th>\n",
       "    </tr>\n",
       "  </thead>\n",
       "  <tbody>\n",
       "    <tr>\n",
       "      <th>0</th>\n",
       "      <td>28</td>\n",
       "      <td>The invention relates to a drive comprising a ...</td>\n",
       "    </tr>\n",
       "    <tr>\n",
       "      <th>1</th>\n",
       "      <td>92</td>\n",
       "      <td>The invention relates to a device for fixing a...</td>\n",
       "    </tr>\n",
       "    <tr>\n",
       "      <th>2</th>\n",
       "      <td>94</td>\n",
       "      <td>The invention relates to a piece of furniture,...</td>\n",
       "    </tr>\n",
       "    <tr>\n",
       "      <th>3</th>\n",
       "      <td>122</td>\n",
       "      <td>The invention relates to a remote controlled l...</td>\n",
       "    </tr>\n",
       "    <tr>\n",
       "      <th>4</th>\n",
       "      <td>128</td>\n",
       "      <td>The invention relates to an intelligent GN (ga...</td>\n",
       "    </tr>\n",
       "  </tbody>\n",
       "</table>\n",
       "</div>"
      ],
      "text/plain": [
       "   appln_id                                     appln_abstract\n",
       "0        28  The invention relates to a drive comprising a ...\n",
       "1        92  The invention relates to a device for fixing a...\n",
       "2        94  The invention relates to a piece of furniture,...\n",
       "3       122  The invention relates to a remote controlled l...\n",
       "4       128  The invention relates to an intelligent GN (ga..."
      ]
     },
     "execution_count": 34,
     "metadata": {},
     "output_type": "execute_result"
    }
   ],
   "source": [
    "data6.head()"
   ]
  },
  {
   "cell_type": "code",
   "execution_count": 35,
   "metadata": {},
   "outputs": [
    {
     "data": {
      "text/plain": [
       "79516"
      ]
     },
     "execution_count": 35,
     "metadata": {},
     "output_type": "execute_result"
    }
   ],
   "source": [
    "len(data6)"
   ]
  },
  {
   "cell_type": "code",
   "execution_count": 37,
   "metadata": {},
   "outputs": [
    {
     "data": {
      "text/plain": [
       "True"
      ]
     },
     "execution_count": 37,
     "metadata": {},
     "output_type": "execute_result"
    }
   ],
   "source": [
    "conn = mysql.connector.connect(**db_config)\n",
    "cursor = conn.cursor(dictionary=True)\n",
    "ids=tuple(data5['appln_id'])\n",
    "query = f\"\"\"\n",
    "SELECT \n",
    "\tt1.appln_id,   \n",
    "    t1.appln_abstract\n",
    "FROM\n",
    "\tpatstat_s24.tls203_appln_abstr t1\n",
    "WHERE\n",
    "    t1.appln_id IN {ids}\n",
    "    AND t1.appln_abstract_lg != 'en'\n",
    "\"\"\"\n",
    "cursor.execute(query)\n",
    "results = cursor.fetchall()\n",
    "cursor.close()"
   ]
  },
  {
   "cell_type": "code",
   "execution_count": 38,
   "metadata": {},
   "outputs": [],
   "source": [
    "data7=pd.DataFrame(results)"
   ]
  },
  {
   "cell_type": "code",
   "execution_count": 39,
   "metadata": {},
   "outputs": [
    {
     "data": {
      "text/html": [
       "<div>\n",
       "<style scoped>\n",
       "    .dataframe tbody tr th:only-of-type {\n",
       "        vertical-align: middle;\n",
       "    }\n",
       "\n",
       "    .dataframe tbody tr th {\n",
       "        vertical-align: top;\n",
       "    }\n",
       "\n",
       "    .dataframe thead th {\n",
       "        text-align: right;\n",
       "    }\n",
       "</style>\n",
       "<table border=\"1\" class=\"dataframe\">\n",
       "  <thead>\n",
       "    <tr style=\"text-align: right;\">\n",
       "      <th></th>\n",
       "      <th>appln_id</th>\n",
       "      <th>appln_abstract</th>\n",
       "    </tr>\n",
       "  </thead>\n",
       "  <tbody>\n",
       "    <tr>\n",
       "      <th>0</th>\n",
       "      <td>667</td>\n",
       "      <td>Es ist ein Seil aus Fäden (2), Garnen, Zwirnen...</td>\n",
       "    </tr>\n",
       "    <tr>\n",
       "      <th>1</th>\n",
       "      <td>673</td>\n",
       "      <td>Bei einer optischen Anzeige- und Funktionskont...</td>\n",
       "    </tr>\n",
       "    <tr>\n",
       "      <th>2</th>\n",
       "      <td>713</td>\n",
       "      <td>Eine Verbundplatte besteht aus einer Naturstei...</td>\n",
       "    </tr>\n",
       "    <tr>\n",
       "      <th>3</th>\n",
       "      <td>4390</td>\n",
       "      <td>Procédé de fabrication de ces compacteurs dans...</td>\n",
       "    </tr>\n",
       "    <tr>\n",
       "      <th>4</th>\n",
       "      <td>4675</td>\n",
       "      <td>Procédé et dispositif (40) permettant de distr...</td>\n",
       "    </tr>\n",
       "  </tbody>\n",
       "</table>\n",
       "</div>"
      ],
      "text/plain": [
       "   appln_id                                     appln_abstract\n",
       "0       667  Es ist ein Seil aus Fäden (2), Garnen, Zwirnen...\n",
       "1       673  Bei einer optischen Anzeige- und Funktionskont...\n",
       "2       713  Eine Verbundplatte besteht aus einer Naturstei...\n",
       "3      4390  Procédé de fabrication de ces compacteurs dans...\n",
       "4      4675  Procédé et dispositif (40) permettant de distr..."
      ]
     },
     "execution_count": 39,
     "metadata": {},
     "output_type": "execute_result"
    }
   ],
   "source": [
    "data7.head()"
   ]
  },
  {
   "cell_type": "code",
   "execution_count": 40,
   "metadata": {},
   "outputs": [
    {
     "data": {
      "text/plain": [
       "15693"
      ]
     },
     "execution_count": 40,
     "metadata": {},
     "output_type": "execute_result"
    }
   ],
   "source": [
    "len(data7)"
   ]
  },
  {
   "cell_type": "code",
   "execution_count": 41,
   "metadata": {},
   "outputs": [
    {
     "data": {
      "text/plain": [
       "95209"
      ]
     },
     "execution_count": 41,
     "metadata": {},
     "output_type": "execute_result"
    }
   ],
   "source": [
    "15693+79516"
   ]
  },
  {
   "cell_type": "code",
   "execution_count": 42,
   "metadata": {},
   "outputs": [],
   "source": [
    "#confirming"
   ]
  },
  {
   "cell_type": "code",
   "execution_count": 43,
   "metadata": {},
   "outputs": [],
   "source": [
    "data67 = pd.concat([data6, data7], axis=0, ignore_index=True)"
   ]
  },
  {
   "cell_type": "code",
   "execution_count": 44,
   "metadata": {},
   "outputs": [
    {
     "data": {
      "text/html": [
       "<div>\n",
       "<style scoped>\n",
       "    .dataframe tbody tr th:only-of-type {\n",
       "        vertical-align: middle;\n",
       "    }\n",
       "\n",
       "    .dataframe tbody tr th {\n",
       "        vertical-align: top;\n",
       "    }\n",
       "\n",
       "    .dataframe thead th {\n",
       "        text-align: right;\n",
       "    }\n",
       "</style>\n",
       "<table border=\"1\" class=\"dataframe\">\n",
       "  <thead>\n",
       "    <tr style=\"text-align: right;\">\n",
       "      <th></th>\n",
       "      <th>appln_id</th>\n",
       "      <th>appln_abstract</th>\n",
       "    </tr>\n",
       "  </thead>\n",
       "  <tbody>\n",
       "    <tr>\n",
       "      <th>0</th>\n",
       "      <td>28</td>\n",
       "      <td>The invention relates to a drive comprising a ...</td>\n",
       "    </tr>\n",
       "    <tr>\n",
       "      <th>1</th>\n",
       "      <td>92</td>\n",
       "      <td>The invention relates to a device for fixing a...</td>\n",
       "    </tr>\n",
       "    <tr>\n",
       "      <th>2</th>\n",
       "      <td>94</td>\n",
       "      <td>The invention relates to a piece of furniture,...</td>\n",
       "    </tr>\n",
       "    <tr>\n",
       "      <th>3</th>\n",
       "      <td>122</td>\n",
       "      <td>The invention relates to a remote controlled l...</td>\n",
       "    </tr>\n",
       "    <tr>\n",
       "      <th>4</th>\n",
       "      <td>128</td>\n",
       "      <td>The invention relates to an intelligent GN (ga...</td>\n",
       "    </tr>\n",
       "  </tbody>\n",
       "</table>\n",
       "</div>"
      ],
      "text/plain": [
       "   appln_id                                     appln_abstract\n",
       "0        28  The invention relates to a drive comprising a ...\n",
       "1        92  The invention relates to a device for fixing a...\n",
       "2        94  The invention relates to a piece of furniture,...\n",
       "3       122  The invention relates to a remote controlled l...\n",
       "4       128  The invention relates to an intelligent GN (ga..."
      ]
     },
     "execution_count": 44,
     "metadata": {},
     "output_type": "execute_result"
    }
   ],
   "source": [
    "data67.head()"
   ]
  },
  {
   "cell_type": "code",
   "execution_count": 45,
   "metadata": {},
   "outputs": [
    {
     "data": {
      "text/plain": [
       "95209"
      ]
     },
     "execution_count": 45,
     "metadata": {},
     "output_type": "execute_result"
    }
   ],
   "source": [
    "len(data67)"
   ]
  },
  {
   "cell_type": "code",
   "execution_count": 46,
   "metadata": {},
   "outputs": [],
   "source": [
    "data67_2 = pd.merge(data5, data67, on='appln_id', how='inner')"
   ]
  },
  {
   "cell_type": "code",
   "execution_count": 47,
   "metadata": {},
   "outputs": [
    {
     "data": {
      "text/html": [
       "<div>\n",
       "<style scoped>\n",
       "    .dataframe tbody tr th:only-of-type {\n",
       "        vertical-align: middle;\n",
       "    }\n",
       "\n",
       "    .dataframe tbody tr th {\n",
       "        vertical-align: top;\n",
       "    }\n",
       "\n",
       "    .dataframe thead th {\n",
       "        text-align: right;\n",
       "    }\n",
       "</style>\n",
       "<table border=\"1\" class=\"dataframe\">\n",
       "  <thead>\n",
       "    <tr style=\"text-align: right;\">\n",
       "      <th></th>\n",
       "      <th>key</th>\n",
       "      <th>appln_id</th>\n",
       "      <th>appln_title</th>\n",
       "      <th>appln_abstract</th>\n",
       "    </tr>\n",
       "  </thead>\n",
       "  <tbody>\n",
       "    <tr>\n",
       "      <th>0</th>\n",
       "      <td>EP1947248A1</td>\n",
       "      <td>12717</td>\n",
       "      <td>ANTISEISMIC CONSTRUCTION</td>\n",
       "      <td>Die Erfindung betrifft ein Verfahren für eine ...</td>\n",
       "    </tr>\n",
       "    <tr>\n",
       "      <th>1</th>\n",
       "      <td>EP1955742A1</td>\n",
       "      <td>48850</td>\n",
       "      <td>DEVICE FOR TRAINING AND IMPROVING A VOLLEYBALL...</td>\n",
       "      <td>Die Erfindung bezieht sich auf eine Einrichtun...</td>\n",
       "    </tr>\n",
       "    <tr>\n",
       "      <th>2</th>\n",
       "      <td>EP1972749A1</td>\n",
       "      <td>176206</td>\n",
       "      <td>Door or window comprising means for laterally ...</td>\n",
       "      <td>Porte, fenêtre, ou analogue, à châssis formé d...</td>\n",
       "    </tr>\n",
       "    <tr>\n",
       "      <th>3</th>\n",
       "      <td>EP1982623A1</td>\n",
       "      <td>126845</td>\n",
       "      <td>COASTER FOR DRINKING VESSELS</td>\n",
       "      <td>Es handelt sich um einen Untersetzer für mit F...</td>\n",
       "    </tr>\n",
       "    <tr>\n",
       "      <th>4</th>\n",
       "      <td>EP2005998A2</td>\n",
       "      <td>277044</td>\n",
       "      <td>RADIOCOMMUNICATION SYSTEM FOR A TEAM SPORT GAME</td>\n",
       "      <td>Die Erfindung bezieht sich auf ein Funkverbind...</td>\n",
       "    </tr>\n",
       "  </tbody>\n",
       "</table>\n",
       "</div>"
      ],
      "text/plain": [
       "           key  appln_id                                        appln_title  \\\n",
       "0  EP1947248A1     12717                           ANTISEISMIC CONSTRUCTION   \n",
       "1  EP1955742A1     48850  DEVICE FOR TRAINING AND IMPROVING A VOLLEYBALL...   \n",
       "2  EP1972749A1    176206  Door or window comprising means for laterally ...   \n",
       "3  EP1982623A1    126845                       COASTER FOR DRINKING VESSELS   \n",
       "4  EP2005998A2    277044    RADIOCOMMUNICATION SYSTEM FOR A TEAM SPORT GAME   \n",
       "\n",
       "                                      appln_abstract  \n",
       "0  Die Erfindung betrifft ein Verfahren für eine ...  \n",
       "1  Die Erfindung bezieht sich auf eine Einrichtun...  \n",
       "2  Porte, fenêtre, ou analogue, à châssis formé d...  \n",
       "3  Es handelt sich um einen Untersetzer für mit F...  \n",
       "4  Die Erfindung bezieht sich auf ein Funkverbind...  "
      ]
     },
     "execution_count": 47,
     "metadata": {},
     "output_type": "execute_result"
    }
   ],
   "source": [
    "data67_2.head()"
   ]
  },
  {
   "cell_type": "code",
   "execution_count": 48,
   "metadata": {},
   "outputs": [
    {
     "data": {
      "text/plain": [
       "95209"
      ]
     },
     "execution_count": 48,
     "metadata": {},
     "output_type": "execute_result"
    }
   ],
   "source": [
    "len(data67_2)"
   ]
  },
  {
   "cell_type": "code",
   "execution_count": 49,
   "metadata": {},
   "outputs": [],
   "source": [
    "data67_3 = pd.merge(data5, data67, on='appln_id', how='outer', indicator=True)"
   ]
  },
  {
   "cell_type": "code",
   "execution_count": 50,
   "metadata": {},
   "outputs": [
    {
     "data": {
      "text/html": [
       "<div>\n",
       "<style scoped>\n",
       "    .dataframe tbody tr th:only-of-type {\n",
       "        vertical-align: middle;\n",
       "    }\n",
       "\n",
       "    .dataframe tbody tr th {\n",
       "        vertical-align: top;\n",
       "    }\n",
       "\n",
       "    .dataframe thead th {\n",
       "        text-align: right;\n",
       "    }\n",
       "</style>\n",
       "<table border=\"1\" class=\"dataframe\">\n",
       "  <thead>\n",
       "    <tr style=\"text-align: right;\">\n",
       "      <th></th>\n",
       "      <th>key</th>\n",
       "      <th>appln_id</th>\n",
       "      <th>appln_title</th>\n",
       "      <th>appln_abstract</th>\n",
       "      <th>_merge</th>\n",
       "    </tr>\n",
       "  </thead>\n",
       "  <tbody>\n",
       "    <tr>\n",
       "      <th>0</th>\n",
       "      <td>EP1380090A1</td>\n",
       "      <td>28</td>\n",
       "      <td>DRIVE COMPRISING A MOTOR AND AT LEAST ONE GEAR...</td>\n",
       "      <td>The invention relates to a drive comprising a ...</td>\n",
       "      <td>both</td>\n",
       "    </tr>\n",
       "    <tr>\n",
       "      <th>1</th>\n",
       "      <td>EP1809396A1</td>\n",
       "      <td>92</td>\n",
       "      <td>DEVICE FOR FIXING A SKI BINDING TO A SKI</td>\n",
       "      <td>The invention relates to a device for fixing a...</td>\n",
       "      <td>both</td>\n",
       "    </tr>\n",
       "    <tr>\n",
       "      <th>2</th>\n",
       "      <td>EP1850699A1</td>\n",
       "      <td>94</td>\n",
       "      <td>PIECE OF FURNITURE IN PARTICULAR A SEAT</td>\n",
       "      <td>The invention relates to a piece of furniture,...</td>\n",
       "      <td>both</td>\n",
       "    </tr>\n",
       "    <tr>\n",
       "      <th>3</th>\n",
       "      <td>EP1928710A1</td>\n",
       "      <td>122</td>\n",
       "      <td>REMOTE CONTROLLABLE LOCKING DEVICE FOR A VEHICLE</td>\n",
       "      <td>The invention relates to a remote controlled l...</td>\n",
       "      <td>both</td>\n",
       "    </tr>\n",
       "    <tr>\n",
       "      <th>4</th>\n",
       "      <td>EP1935212A1</td>\n",
       "      <td>128</td>\n",
       "      <td>GN CONTAINER</td>\n",
       "      <td>The invention relates to an intelligent GN (ga...</td>\n",
       "      <td>both</td>\n",
       "    </tr>\n",
       "  </tbody>\n",
       "</table>\n",
       "</div>"
      ],
      "text/plain": [
       "           key  appln_id                                        appln_title  \\\n",
       "0  EP1380090A1        28  DRIVE COMPRISING A MOTOR AND AT LEAST ONE GEAR...   \n",
       "1  EP1809396A1        92           DEVICE FOR FIXING A SKI BINDING TO A SKI   \n",
       "2  EP1850699A1        94            PIECE OF FURNITURE IN PARTICULAR A SEAT   \n",
       "3  EP1928710A1       122   REMOTE CONTROLLABLE LOCKING DEVICE FOR A VEHICLE   \n",
       "4  EP1935212A1       128                                       GN CONTAINER   \n",
       "\n",
       "                                      appln_abstract _merge  \n",
       "0  The invention relates to a drive comprising a ...   both  \n",
       "1  The invention relates to a device for fixing a...   both  \n",
       "2  The invention relates to a piece of furniture,...   both  \n",
       "3  The invention relates to a remote controlled l...   both  \n",
       "4  The invention relates to an intelligent GN (ga...   both  "
      ]
     },
     "execution_count": 50,
     "metadata": {},
     "output_type": "execute_result"
    }
   ],
   "source": [
    "data67_3.head()"
   ]
  },
  {
   "cell_type": "code",
   "execution_count": 55,
   "metadata": {},
   "outputs": [],
   "source": [
    "data67_4=data67_3[data67_3['_merge']!=\"both\"]"
   ]
  },
  {
   "cell_type": "code",
   "execution_count": 59,
   "metadata": {},
   "outputs": [
    {
     "data": {
      "text/html": [
       "<div>\n",
       "<style scoped>\n",
       "    .dataframe tbody tr th:only-of-type {\n",
       "        vertical-align: middle;\n",
       "    }\n",
       "\n",
       "    .dataframe tbody tr th {\n",
       "        vertical-align: top;\n",
       "    }\n",
       "\n",
       "    .dataframe thead th {\n",
       "        text-align: right;\n",
       "    }\n",
       "</style>\n",
       "<table border=\"1\" class=\"dataframe\">\n",
       "  <thead>\n",
       "    <tr style=\"text-align: right;\">\n",
       "      <th></th>\n",
       "      <th>key</th>\n",
       "      <th>appln_id</th>\n",
       "    </tr>\n",
       "  </thead>\n",
       "  <tbody>\n",
       "    <tr>\n",
       "      <th>57</th>\n",
       "      <td>EP0147905A2</td>\n",
       "      <td>4379</td>\n",
       "    </tr>\n",
       "    <tr>\n",
       "      <th>59</th>\n",
       "      <td>EP0219694A2</td>\n",
       "      <td>4443</td>\n",
       "    </tr>\n",
       "    <tr>\n",
       "      <th>61</th>\n",
       "      <td>EP215657A2</td>\n",
       "      <td>4525</td>\n",
       "    </tr>\n",
       "    <tr>\n",
       "      <th>194</th>\n",
       "      <td>EP0214633A1</td>\n",
       "      <td>41453</td>\n",
       "    </tr>\n",
       "    <tr>\n",
       "      <th>286</th>\n",
       "      <td>EP0220904A2</td>\n",
       "      <td>57017</td>\n",
       "    </tr>\n",
       "    <tr>\n",
       "      <th>...</th>\n",
       "      <td>...</td>\n",
       "      <td>...</td>\n",
       "    </tr>\n",
       "    <tr>\n",
       "      <th>84420</th>\n",
       "      <td>EP2315539A2</td>\n",
       "      <td>274692831</td>\n",
       "    </tr>\n",
       "    <tr>\n",
       "      <th>88500</th>\n",
       "      <td>EP2365149A2</td>\n",
       "      <td>329076126</td>\n",
       "    </tr>\n",
       "    <tr>\n",
       "      <th>92568</th>\n",
       "      <td>EP2593936A2</td>\n",
       "      <td>336583549</td>\n",
       "    </tr>\n",
       "    <tr>\n",
       "      <th>92693</th>\n",
       "      <td>EP2663207A1</td>\n",
       "      <td>336706345</td>\n",
       "    </tr>\n",
       "    <tr>\n",
       "      <th>93017</th>\n",
       "      <td>EP2618696A1</td>\n",
       "      <td>337507241</td>\n",
       "    </tr>\n",
       "  </tbody>\n",
       "</table>\n",
       "<p>1431 rows × 2 columns</p>\n",
       "</div>"
      ],
      "text/plain": [
       "               key   appln_id\n",
       "57     EP0147905A2       4379\n",
       "59     EP0219694A2       4443\n",
       "61      EP215657A2       4525\n",
       "194    EP0214633A1      41453\n",
       "286    EP0220904A2      57017\n",
       "...            ...        ...\n",
       "84420  EP2315539A2  274692831\n",
       "88500  EP2365149A2  329076126\n",
       "92568  EP2593936A2  336583549\n",
       "92693  EP2663207A1  336706345\n",
       "93017  EP2618696A1  337507241\n",
       "\n",
       "[1431 rows x 2 columns]"
      ]
     },
     "execution_count": 59,
     "metadata": {},
     "output_type": "execute_result"
    }
   ],
   "source": [
    "data67_4[['key','appln_id']]"
   ]
  },
  {
   "cell_type": "code",
   "execution_count": 60,
   "metadata": {},
   "outputs": [],
   "source": [
    "data67_4[['key','appln_id']].to_csv(\"applnids_notin_tls203_appln_abstr.csv\",index=False)"
   ]
  },
  {
   "cell_type": "code",
   "execution_count": 61,
   "metadata": {},
   "outputs": [
    {
     "data": {
      "text/html": [
       "<div>\n",
       "<style scoped>\n",
       "    .dataframe tbody tr th:only-of-type {\n",
       "        vertical-align: middle;\n",
       "    }\n",
       "\n",
       "    .dataframe tbody tr th {\n",
       "        vertical-align: top;\n",
       "    }\n",
       "\n",
       "    .dataframe thead th {\n",
       "        text-align: right;\n",
       "    }\n",
       "</style>\n",
       "<table border=\"1\" class=\"dataframe\">\n",
       "  <thead>\n",
       "    <tr style=\"text-align: right;\">\n",
       "      <th></th>\n",
       "      <th>key</th>\n",
       "      <th>appln_id</th>\n",
       "    </tr>\n",
       "  </thead>\n",
       "  <tbody>\n",
       "    <tr>\n",
       "      <th>0</th>\n",
       "      <td>EP0147905A2</td>\n",
       "      <td>4379</td>\n",
       "    </tr>\n",
       "    <tr>\n",
       "      <th>1</th>\n",
       "      <td>EP0219694A2</td>\n",
       "      <td>4443</td>\n",
       "    </tr>\n",
       "    <tr>\n",
       "      <th>2</th>\n",
       "      <td>EP215657A2</td>\n",
       "      <td>4525</td>\n",
       "    </tr>\n",
       "    <tr>\n",
       "      <th>3</th>\n",
       "      <td>EP0214633A1</td>\n",
       "      <td>41453</td>\n",
       "    </tr>\n",
       "    <tr>\n",
       "      <th>4</th>\n",
       "      <td>EP0220904A2</td>\n",
       "      <td>57017</td>\n",
       "    </tr>\n",
       "  </tbody>\n",
       "</table>\n",
       "</div>"
      ],
      "text/plain": [
       "           key  appln_id\n",
       "0  EP0147905A2      4379\n",
       "1  EP0219694A2      4443\n",
       "2   EP215657A2      4525\n",
       "3  EP0214633A1     41453\n",
       "4  EP0220904A2     57017"
      ]
     },
     "execution_count": 61,
     "metadata": {},
     "output_type": "execute_result"
    }
   ],
   "source": [
    "pd.read_csv(\"applnids_notin_tls203_appln_abstr.csv\").head()"
   ]
  },
  {
   "cell_type": "code",
   "execution_count": 63,
   "metadata": {},
   "outputs": [
    {
     "data": {
      "text/plain": [
       "1431"
      ]
     },
     "execution_count": 63,
     "metadata": {},
     "output_type": "execute_result"
    }
   ],
   "source": [
    "len(pd.read_csv(\"applnids_notin_tls203_appln_abstr.csv\"))"
   ]
  },
  {
   "cell_type": "code",
   "execution_count": 64,
   "metadata": {},
   "outputs": [],
   "source": [
    "#patents not in tls203_appln_abstr = 1431"
   ]
  },
  {
   "cell_type": "code",
   "execution_count": 65,
   "metadata": {},
   "outputs": [
    {
     "data": {
      "text/html": [
       "<div>\n",
       "<style scoped>\n",
       "    .dataframe tbody tr th:only-of-type {\n",
       "        vertical-align: middle;\n",
       "    }\n",
       "\n",
       "    .dataframe tbody tr th {\n",
       "        vertical-align: top;\n",
       "    }\n",
       "\n",
       "    .dataframe thead th {\n",
       "        text-align: right;\n",
       "    }\n",
       "</style>\n",
       "<table border=\"1\" class=\"dataframe\">\n",
       "  <thead>\n",
       "    <tr style=\"text-align: right;\">\n",
       "      <th></th>\n",
       "      <th>appln_id</th>\n",
       "      <th>appln_abstract</th>\n",
       "    </tr>\n",
       "  </thead>\n",
       "  <tbody>\n",
       "    <tr>\n",
       "      <th>0</th>\n",
       "      <td>667</td>\n",
       "      <td>Es ist ein Seil aus Fäden (2), Garnen, Zwirnen...</td>\n",
       "    </tr>\n",
       "    <tr>\n",
       "      <th>1</th>\n",
       "      <td>673</td>\n",
       "      <td>Bei einer optischen Anzeige- und Funktionskont...</td>\n",
       "    </tr>\n",
       "    <tr>\n",
       "      <th>2</th>\n",
       "      <td>713</td>\n",
       "      <td>Eine Verbundplatte besteht aus einer Naturstei...</td>\n",
       "    </tr>\n",
       "    <tr>\n",
       "      <th>3</th>\n",
       "      <td>4390</td>\n",
       "      <td>Procédé de fabrication de ces compacteurs dans...</td>\n",
       "    </tr>\n",
       "    <tr>\n",
       "      <th>4</th>\n",
       "      <td>4675</td>\n",
       "      <td>Procédé et dispositif (40) permettant de distr...</td>\n",
       "    </tr>\n",
       "  </tbody>\n",
       "</table>\n",
       "</div>"
      ],
      "text/plain": [
       "   appln_id                                     appln_abstract\n",
       "0       667  Es ist ein Seil aus Fäden (2), Garnen, Zwirnen...\n",
       "1       673  Bei einer optischen Anzeige- und Funktionskont...\n",
       "2       713  Eine Verbundplatte besteht aus einer Naturstei...\n",
       "3      4390  Procédé de fabrication de ces compacteurs dans...\n",
       "4      4675  Procédé et dispositif (40) permettant de distr..."
      ]
     },
     "execution_count": 65,
     "metadata": {},
     "output_type": "execute_result"
    }
   ],
   "source": [
    "data7.head()"
   ]
  },
  {
   "cell_type": "code",
   "execution_count": null,
   "metadata": {},
   "outputs": [],
   "source": []
  },
  {
   "cell_type": "code",
   "execution_count": 66,
   "metadata": {},
   "outputs": [
    {
     "data": {
      "text/plain": [
       "15693"
      ]
     },
     "execution_count": 66,
     "metadata": {},
     "output_type": "execute_result"
    }
   ],
   "source": [
    "len(data7)"
   ]
  },
  {
   "cell_type": "code",
   "execution_count": 67,
   "metadata": {},
   "outputs": [],
   "source": [
    "data_not_en = pd.merge(data5, data7, on='appln_id', how='inner')"
   ]
  },
  {
   "cell_type": "code",
   "execution_count": 68,
   "metadata": {},
   "outputs": [
    {
     "data": {
      "text/html": [
       "<div>\n",
       "<style scoped>\n",
       "    .dataframe tbody tr th:only-of-type {\n",
       "        vertical-align: middle;\n",
       "    }\n",
       "\n",
       "    .dataframe tbody tr th {\n",
       "        vertical-align: top;\n",
       "    }\n",
       "\n",
       "    .dataframe thead th {\n",
       "        text-align: right;\n",
       "    }\n",
       "</style>\n",
       "<table border=\"1\" class=\"dataframe\">\n",
       "  <thead>\n",
       "    <tr style=\"text-align: right;\">\n",
       "      <th></th>\n",
       "      <th>key</th>\n",
       "      <th>appln_id</th>\n",
       "      <th>appln_title</th>\n",
       "      <th>appln_abstract</th>\n",
       "    </tr>\n",
       "  </thead>\n",
       "  <tbody>\n",
       "    <tr>\n",
       "      <th>0</th>\n",
       "      <td>EP1947248A1</td>\n",
       "      <td>12717</td>\n",
       "      <td>ANTISEISMIC CONSTRUCTION</td>\n",
       "      <td>Die Erfindung betrifft ein Verfahren für eine ...</td>\n",
       "    </tr>\n",
       "    <tr>\n",
       "      <th>1</th>\n",
       "      <td>EP1955742A1</td>\n",
       "      <td>48850</td>\n",
       "      <td>DEVICE FOR TRAINING AND IMPROVING A VOLLEYBALL...</td>\n",
       "      <td>Die Erfindung bezieht sich auf eine Einrichtun...</td>\n",
       "    </tr>\n",
       "    <tr>\n",
       "      <th>2</th>\n",
       "      <td>EP1972749A1</td>\n",
       "      <td>176206</td>\n",
       "      <td>Door or window comprising means for laterally ...</td>\n",
       "      <td>Porte, fenêtre, ou analogue, à châssis formé d...</td>\n",
       "    </tr>\n",
       "    <tr>\n",
       "      <th>3</th>\n",
       "      <td>EP1982623A1</td>\n",
       "      <td>126845</td>\n",
       "      <td>COASTER FOR DRINKING VESSELS</td>\n",
       "      <td>Es handelt sich um einen Untersetzer für mit F...</td>\n",
       "    </tr>\n",
       "    <tr>\n",
       "      <th>4</th>\n",
       "      <td>EP2005998A2</td>\n",
       "      <td>277044</td>\n",
       "      <td>RADIOCOMMUNICATION SYSTEM FOR A TEAM SPORT GAME</td>\n",
       "      <td>Die Erfindung bezieht sich auf ein Funkverbind...</td>\n",
       "    </tr>\n",
       "  </tbody>\n",
       "</table>\n",
       "</div>"
      ],
      "text/plain": [
       "           key  appln_id                                        appln_title  \\\n",
       "0  EP1947248A1     12717                           ANTISEISMIC CONSTRUCTION   \n",
       "1  EP1955742A1     48850  DEVICE FOR TRAINING AND IMPROVING A VOLLEYBALL...   \n",
       "2  EP1972749A1    176206  Door or window comprising means for laterally ...   \n",
       "3  EP1982623A1    126845                       COASTER FOR DRINKING VESSELS   \n",
       "4  EP2005998A2    277044    RADIOCOMMUNICATION SYSTEM FOR A TEAM SPORT GAME   \n",
       "\n",
       "                                      appln_abstract  \n",
       "0  Die Erfindung betrifft ein Verfahren für eine ...  \n",
       "1  Die Erfindung bezieht sich auf eine Einrichtun...  \n",
       "2  Porte, fenêtre, ou analogue, à châssis formé d...  \n",
       "3  Es handelt sich um einen Untersetzer für mit F...  \n",
       "4  Die Erfindung bezieht sich auf ein Funkverbind...  "
      ]
     },
     "execution_count": 68,
     "metadata": {},
     "output_type": "execute_result"
    }
   ],
   "source": [
    "data_not_en.head()"
   ]
  },
  {
   "cell_type": "code",
   "execution_count": 69,
   "metadata": {},
   "outputs": [
    {
     "data": {
      "text/plain": [
       "15693"
      ]
     },
     "execution_count": 69,
     "metadata": {},
     "output_type": "execute_result"
    }
   ],
   "source": [
    "len(data_not_en)"
   ]
  },
  {
   "cell_type": "code",
   "execution_count": 77,
   "metadata": {},
   "outputs": [],
   "source": [
    "data_not_en[['key','appln_id']].to_csv(\"patents_not_en_abstract.csv\",index=False)"
   ]
  },
  {
   "cell_type": "code",
   "execution_count": 78,
   "metadata": {},
   "outputs": [
    {
     "data": {
      "text/html": [
       "<div>\n",
       "<style scoped>\n",
       "    .dataframe tbody tr th:only-of-type {\n",
       "        vertical-align: middle;\n",
       "    }\n",
       "\n",
       "    .dataframe tbody tr th {\n",
       "        vertical-align: top;\n",
       "    }\n",
       "\n",
       "    .dataframe thead th {\n",
       "        text-align: right;\n",
       "    }\n",
       "</style>\n",
       "<table border=\"1\" class=\"dataframe\">\n",
       "  <thead>\n",
       "    <tr style=\"text-align: right;\">\n",
       "      <th></th>\n",
       "      <th>key</th>\n",
       "      <th>appln_id</th>\n",
       "    </tr>\n",
       "  </thead>\n",
       "  <tbody>\n",
       "    <tr>\n",
       "      <th>0</th>\n",
       "      <td>EP1947248A1</td>\n",
       "      <td>12717</td>\n",
       "    </tr>\n",
       "    <tr>\n",
       "      <th>1</th>\n",
       "      <td>EP1955742A1</td>\n",
       "      <td>48850</td>\n",
       "    </tr>\n",
       "    <tr>\n",
       "      <th>2</th>\n",
       "      <td>EP1972749A1</td>\n",
       "      <td>176206</td>\n",
       "    </tr>\n",
       "    <tr>\n",
       "      <th>3</th>\n",
       "      <td>EP1982623A1</td>\n",
       "      <td>126845</td>\n",
       "    </tr>\n",
       "    <tr>\n",
       "      <th>4</th>\n",
       "      <td>EP2005998A2</td>\n",
       "      <td>277044</td>\n",
       "    </tr>\n",
       "  </tbody>\n",
       "</table>\n",
       "</div>"
      ],
      "text/plain": [
       "           key  appln_id\n",
       "0  EP1947248A1     12717\n",
       "1  EP1955742A1     48850\n",
       "2  EP1972749A1    176206\n",
       "3  EP1982623A1    126845\n",
       "4  EP2005998A2    277044"
      ]
     },
     "execution_count": 78,
     "metadata": {},
     "output_type": "execute_result"
    }
   ],
   "source": [
    "pd.read_csv(\"patents_not_en_abstract.csv\").head()"
   ]
  },
  {
   "cell_type": "code",
   "execution_count": 72,
   "metadata": {},
   "outputs": [],
   "source": [
    "#patents with non english abstract=15693"
   ]
  },
  {
   "cell_type": "code",
   "execution_count": 73,
   "metadata": {},
   "outputs": [],
   "source": [
    "data_with_en = pd.merge(data5, data6, on='appln_id', how='inner')"
   ]
  },
  {
   "cell_type": "code",
   "execution_count": 74,
   "metadata": {},
   "outputs": [
    {
     "data": {
      "text/html": [
       "<div>\n",
       "<style scoped>\n",
       "    .dataframe tbody tr th:only-of-type {\n",
       "        vertical-align: middle;\n",
       "    }\n",
       "\n",
       "    .dataframe tbody tr th {\n",
       "        vertical-align: top;\n",
       "    }\n",
       "\n",
       "    .dataframe thead th {\n",
       "        text-align: right;\n",
       "    }\n",
       "</style>\n",
       "<table border=\"1\" class=\"dataframe\">\n",
       "  <thead>\n",
       "    <tr style=\"text-align: right;\">\n",
       "      <th></th>\n",
       "      <th>key</th>\n",
       "      <th>appln_id</th>\n",
       "      <th>appln_title</th>\n",
       "      <th>appln_abstract</th>\n",
       "    </tr>\n",
       "  </thead>\n",
       "  <tbody>\n",
       "    <tr>\n",
       "      <th>0</th>\n",
       "      <td>EP2074909A1</td>\n",
       "      <td>56455537</td>\n",
       "      <td>Extending roller guide</td>\n",
       "      <td>The guide has an insertion unit (25) with a st...</td>\n",
       "    </tr>\n",
       "    <tr>\n",
       "      <th>1</th>\n",
       "      <td>EP2040575A1</td>\n",
       "      <td>55625363</td>\n",
       "      <td>INSOLE</td>\n",
       "      <td>An insole or foot-strap for footwear that comp...</td>\n",
       "    </tr>\n",
       "    <tr>\n",
       "      <th>2</th>\n",
       "      <td>EP1941003A2</td>\n",
       "      <td>352951</td>\n",
       "      <td>METHODS OF FILTERING A LIQUID STREAM PRODUCED ...</td>\n",
       "      <td>The invention provides methods for producing o...</td>\n",
       "    </tr>\n",
       "    <tr>\n",
       "      <th>3</th>\n",
       "      <td>EP1966449A1</td>\n",
       "      <td>2268</td>\n",
       "      <td>CONCRETE FLOOR DEVICE</td>\n",
       "      <td>The present invention relates to a concrete fl...</td>\n",
       "    </tr>\n",
       "    <tr>\n",
       "      <th>4</th>\n",
       "      <td>EP1934419A1</td>\n",
       "      <td>16369679</td>\n",
       "      <td>FABRIC SHELTER</td>\n",
       "      <td>The invention concerns a shelter comprising a ...</td>\n",
       "    </tr>\n",
       "  </tbody>\n",
       "</table>\n",
       "</div>"
      ],
      "text/plain": [
       "           key  appln_id                                        appln_title  \\\n",
       "0  EP2074909A1  56455537                             Extending roller guide   \n",
       "1  EP2040575A1  55625363                                             INSOLE   \n",
       "2  EP1941003A2    352951  METHODS OF FILTERING A LIQUID STREAM PRODUCED ...   \n",
       "3  EP1966449A1      2268                              CONCRETE FLOOR DEVICE   \n",
       "4  EP1934419A1  16369679                                     FABRIC SHELTER   \n",
       "\n",
       "                                      appln_abstract  \n",
       "0  The guide has an insertion unit (25) with a st...  \n",
       "1  An insole or foot-strap for footwear that comp...  \n",
       "2  The invention provides methods for producing o...  \n",
       "3  The present invention relates to a concrete fl...  \n",
       "4  The invention concerns a shelter comprising a ...  "
      ]
     },
     "execution_count": 74,
     "metadata": {},
     "output_type": "execute_result"
    }
   ],
   "source": [
    "data_with_en.head()"
   ]
  },
  {
   "cell_type": "code",
   "execution_count": 75,
   "metadata": {},
   "outputs": [
    {
     "data": {
      "text/plain": [
       "79516"
      ]
     },
     "execution_count": 75,
     "metadata": {},
     "output_type": "execute_result"
    }
   ],
   "source": [
    "len(data_with_en)"
   ]
  },
  {
   "cell_type": "code",
   "execution_count": null,
   "metadata": {},
   "outputs": [],
   "source": [
    "#data_with_engilsh abstact and title=79516"
   ]
  },
  {
   "cell_type": "code",
   "execution_count": 76,
   "metadata": {},
   "outputs": [
    {
     "data": {
      "text/plain": [
       "96640"
      ]
     },
     "execution_count": 76,
     "metadata": {},
     "output_type": "execute_result"
    }
   ],
   "source": [
    "79516+15693+1431"
   ]
  },
  {
   "cell_type": "code",
   "execution_count": null,
   "metadata": {},
   "outputs": [],
   "source": [
    "#data_with_engilsh abstact and title=79516\n",
    "#patents with non english abstract=15693\n",
    "#patents not in tls203_appln_abstr = 1431"
   ]
  },
  {
   "cell_type": "code",
   "execution_count": null,
   "metadata": {},
   "outputs": [],
   "source": [
    "data_with_en.to_csv(\"12english_abstract_title.csv\",index=False)"
   ]
  },
  {
   "cell_type": "code",
   "execution_count": null,
   "metadata": {},
   "outputs": [],
   "source": []
  }
 ],
 "metadata": {
  "kernelspec": {
   "display_name": "Python 3",
   "language": "python",
   "name": "python3"
  },
  "language_info": {
   "codemirror_mode": {
    "name": "ipython",
    "version": 3
   },
   "file_extension": ".py",
   "mimetype": "text/x-python",
   "name": "python",
   "nbconvert_exporter": "python",
   "pygments_lexer": "ipython3",
   "version": "3.10.12"
  }
 },
 "nbformat": 4,
 "nbformat_minor": 2
}
