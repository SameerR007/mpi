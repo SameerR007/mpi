{
 "cells": [
  {
   "cell_type": "code",
   "execution_count": 52,
   "metadata": {},
   "outputs": [],
   "source": [
    "import pandas as pd"
   ]
  },
  {
   "cell_type": "code",
   "execution_count": 53,
   "metadata": {},
   "outputs": [],
   "source": [
    "data1=pd.read_csv(\"applnids_notin_tls203_appln_abstr.csv\")"
   ]
  },
  {
   "cell_type": "code",
   "execution_count": 54,
   "metadata": {},
   "outputs": [],
   "source": [
    "data2=pd.read_csv(\"patents_not_en_abstract.csv\")"
   ]
  },
  {
   "cell_type": "code",
   "execution_count": 55,
   "metadata": {},
   "outputs": [],
   "source": [
    "data = pd.concat([data1, data2], ignore_index=True)"
   ]
  },
  {
   "cell_type": "code",
   "execution_count": 56,
   "metadata": {},
   "outputs": [
    {
     "data": {
      "text/html": [
       "<div>\n",
       "<style scoped>\n",
       "    .dataframe tbody tr th:only-of-type {\n",
       "        vertical-align: middle;\n",
       "    }\n",
       "\n",
       "    .dataframe tbody tr th {\n",
       "        vertical-align: top;\n",
       "    }\n",
       "\n",
       "    .dataframe thead th {\n",
       "        text-align: right;\n",
       "    }\n",
       "</style>\n",
       "<table border=\"1\" class=\"dataframe\">\n",
       "  <thead>\n",
       "    <tr style=\"text-align: right;\">\n",
       "      <th></th>\n",
       "      <th>key</th>\n",
       "      <th>appln_id</th>\n",
       "    </tr>\n",
       "  </thead>\n",
       "  <tbody>\n",
       "    <tr>\n",
       "      <th>0</th>\n",
       "      <td>EP0147905A2</td>\n",
       "      <td>4379</td>\n",
       "    </tr>\n",
       "    <tr>\n",
       "      <th>1</th>\n",
       "      <td>EP0219694A2</td>\n",
       "      <td>4443</td>\n",
       "    </tr>\n",
       "    <tr>\n",
       "      <th>2</th>\n",
       "      <td>EP215657A2</td>\n",
       "      <td>4525</td>\n",
       "    </tr>\n",
       "    <tr>\n",
       "      <th>3</th>\n",
       "      <td>EP0214633A1</td>\n",
       "      <td>41453</td>\n",
       "    </tr>\n",
       "    <tr>\n",
       "      <th>4</th>\n",
       "      <td>EP0220904A2</td>\n",
       "      <td>57017</td>\n",
       "    </tr>\n",
       "  </tbody>\n",
       "</table>\n",
       "</div>"
      ],
      "text/plain": [
       "           key  appln_id\n",
       "0  EP0147905A2      4379\n",
       "1  EP0219694A2      4443\n",
       "2   EP215657A2      4525\n",
       "3  EP0214633A1     41453\n",
       "4  EP0220904A2     57017"
      ]
     },
     "execution_count": 56,
     "metadata": {},
     "output_type": "execute_result"
    }
   ],
   "source": [
    "data.head()"
   ]
  },
  {
   "cell_type": "code",
   "execution_count": 57,
   "metadata": {},
   "outputs": [
    {
     "data": {
      "text/plain": [
       "17124"
      ]
     },
     "execution_count": 57,
     "metadata": {},
     "output_type": "execute_result"
    }
   ],
   "source": [
    "len(data)"
   ]
  },
  {
   "cell_type": "code",
   "execution_count": 58,
   "metadata": {},
   "outputs": [],
   "source": [
    "import mysql.connector\n",
    "import os\n",
    "from dotenv import load_dotenv"
   ]
  },
  {
   "cell_type": "code",
   "execution_count": 59,
   "metadata": {},
   "outputs": [],
   "source": [
    "load_dotenv()\n",
    "db_config = {\n",
    "    'host': os.getenv('DB_HOST'),\n",
    "    'user': os.getenv('DB_USER'),\n",
    "    'password': os.getenv('DB_PASSWORD'),\n",
    "    'database': os.getenv('DB_DATABASE')\n",
    "}"
   ]
  },
  {
   "cell_type": "code",
   "execution_count": 60,
   "metadata": {},
   "outputs": [
    {
     "data": {
      "text/plain": [
       "True"
      ]
     },
     "execution_count": 60,
     "metadata": {},
     "output_type": "execute_result"
    }
   ],
   "source": [
    "conn = mysql.connector.connect(**db_config)\n",
    "cursor = conn.cursor(dictionary=True)\n",
    "ids=tuple(data['appln_id'])\n",
    "query = f\"\"\"\n",
    "SELECT \n",
    "\tt1.appln_id,   \n",
    "    t1.docdb_family_id\n",
    "FROM\n",
    "\tpatstat_s24.tls201_appln t1\n",
    "WHERE\n",
    "    t1.appln_id IN {ids}\n",
    "\"\"\"\n",
    "cursor.execute(query)\n",
    "results = cursor.fetchall()\n",
    "cursor.close()"
   ]
  },
  {
   "cell_type": "code",
   "execution_count": 61,
   "metadata": {},
   "outputs": [],
   "source": [
    "data3=pd.DataFrame(results)"
   ]
  },
  {
   "cell_type": "code",
   "execution_count": 62,
   "metadata": {},
   "outputs": [
    {
     "data": {
      "text/html": [
       "<div>\n",
       "<style scoped>\n",
       "    .dataframe tbody tr th:only-of-type {\n",
       "        vertical-align: middle;\n",
       "    }\n",
       "\n",
       "    .dataframe tbody tr th {\n",
       "        vertical-align: top;\n",
       "    }\n",
       "\n",
       "    .dataframe thead th {\n",
       "        text-align: right;\n",
       "    }\n",
       "</style>\n",
       "<table border=\"1\" class=\"dataframe\">\n",
       "  <thead>\n",
       "    <tr style=\"text-align: right;\">\n",
       "      <th></th>\n",
       "      <th>appln_id</th>\n",
       "      <th>docdb_family_id</th>\n",
       "    </tr>\n",
       "  </thead>\n",
       "  <tbody>\n",
       "    <tr>\n",
       "      <th>0</th>\n",
       "      <td>667</td>\n",
       "      <td>3487358</td>\n",
       "    </tr>\n",
       "    <tr>\n",
       "      <th>1</th>\n",
       "      <td>673</td>\n",
       "      <td>8194882</td>\n",
       "    </tr>\n",
       "    <tr>\n",
       "      <th>2</th>\n",
       "      <td>713</td>\n",
       "      <td>27146044</td>\n",
       "    </tr>\n",
       "    <tr>\n",
       "      <th>3</th>\n",
       "      <td>4379</td>\n",
       "      <td>24256107</td>\n",
       "    </tr>\n",
       "    <tr>\n",
       "      <th>4</th>\n",
       "      <td>4390</td>\n",
       "      <td>8519350</td>\n",
       "    </tr>\n",
       "  </tbody>\n",
       "</table>\n",
       "</div>"
      ],
      "text/plain": [
       "   appln_id  docdb_family_id\n",
       "0       667          3487358\n",
       "1       673          8194882\n",
       "2       713         27146044\n",
       "3      4379         24256107\n",
       "4      4390          8519350"
      ]
     },
     "execution_count": 62,
     "metadata": {},
     "output_type": "execute_result"
    }
   ],
   "source": [
    "data3.head()"
   ]
  },
  {
   "cell_type": "code",
   "execution_count": 63,
   "metadata": {},
   "outputs": [
    {
     "data": {
      "text/plain": [
       "17124"
      ]
     },
     "execution_count": 63,
     "metadata": {},
     "output_type": "execute_result"
    }
   ],
   "source": [
    "len(data3)"
   ]
  },
  {
   "cell_type": "code",
   "execution_count": 64,
   "metadata": {},
   "outputs": [],
   "source": [
    "data4 = pd.merge(data, data3, on='appln_id', how='inner')"
   ]
  },
  {
   "cell_type": "code",
   "execution_count": 65,
   "metadata": {},
   "outputs": [
    {
     "data": {
      "text/html": [
       "<div>\n",
       "<style scoped>\n",
       "    .dataframe tbody tr th:only-of-type {\n",
       "        vertical-align: middle;\n",
       "    }\n",
       "\n",
       "    .dataframe tbody tr th {\n",
       "        vertical-align: top;\n",
       "    }\n",
       "\n",
       "    .dataframe thead th {\n",
       "        text-align: right;\n",
       "    }\n",
       "</style>\n",
       "<table border=\"1\" class=\"dataframe\">\n",
       "  <thead>\n",
       "    <tr style=\"text-align: right;\">\n",
       "      <th></th>\n",
       "      <th>key</th>\n",
       "      <th>appln_id</th>\n",
       "      <th>docdb_family_id</th>\n",
       "    </tr>\n",
       "  </thead>\n",
       "  <tbody>\n",
       "    <tr>\n",
       "      <th>0</th>\n",
       "      <td>EP0147905A2</td>\n",
       "      <td>4379</td>\n",
       "      <td>24256107</td>\n",
       "    </tr>\n",
       "    <tr>\n",
       "      <th>1</th>\n",
       "      <td>EP0219694A2</td>\n",
       "      <td>4443</td>\n",
       "      <td>25116505</td>\n",
       "    </tr>\n",
       "    <tr>\n",
       "      <th>2</th>\n",
       "      <td>EP215657A2</td>\n",
       "      <td>4525</td>\n",
       "      <td>10585100</td>\n",
       "    </tr>\n",
       "    <tr>\n",
       "      <th>3</th>\n",
       "      <td>EP0214633A1</td>\n",
       "      <td>41453</td>\n",
       "      <td>27274544</td>\n",
       "    </tr>\n",
       "    <tr>\n",
       "      <th>4</th>\n",
       "      <td>EP0220904A2</td>\n",
       "      <td>57017</td>\n",
       "      <td>25148090</td>\n",
       "    </tr>\n",
       "  </tbody>\n",
       "</table>\n",
       "</div>"
      ],
      "text/plain": [
       "           key  appln_id  docdb_family_id\n",
       "0  EP0147905A2      4379         24256107\n",
       "1  EP0219694A2      4443         25116505\n",
       "2   EP215657A2      4525         10585100\n",
       "3  EP0214633A1     41453         27274544\n",
       "4  EP0220904A2     57017         25148090"
      ]
     },
     "execution_count": 65,
     "metadata": {},
     "output_type": "execute_result"
    }
   ],
   "source": [
    "data4.head()"
   ]
  },
  {
   "cell_type": "code",
   "execution_count": 66,
   "metadata": {},
   "outputs": [
    {
     "data": {
      "text/plain": [
       "17124"
      ]
     },
     "execution_count": 66,
     "metadata": {},
     "output_type": "execute_result"
    }
   ],
   "source": [
    "len(data4)"
   ]
  },
  {
   "cell_type": "code",
   "execution_count": 67,
   "metadata": {},
   "outputs": [
    {
     "data": {
      "text/plain": [
       "True"
      ]
     },
     "execution_count": 67,
     "metadata": {},
     "output_type": "execute_result"
    }
   ],
   "source": [
    "conn = mysql.connector.connect(**db_config)\n",
    "cursor = conn.cursor(dictionary=True)\n",
    "family_ids=tuple(data4['docdb_family_id'])\n",
    "query = f\"\"\"\n",
    "SELECT    \n",
    "    t1.docdb_family_id,\n",
    "    t1.appln_id,\n",
    "    t1.appln_auth\n",
    "FROM\n",
    "\tpatstat_s24.tls201_appln t1\n",
    "WHERE\n",
    "    t1.docdb_family_id IN {family_ids}\n",
    "\"\"\"\n",
    "cursor.execute(query)\n",
    "results = cursor.fetchall()\n",
    "cursor.close()"
   ]
  },
  {
   "cell_type": "code",
   "execution_count": 68,
   "metadata": {},
   "outputs": [],
   "source": [
    "data5=pd.DataFrame(results)"
   ]
  },
  {
   "cell_type": "code",
   "execution_count": 69,
   "metadata": {},
   "outputs": [
    {
     "data": {
      "text/html": [
       "<div>\n",
       "<style scoped>\n",
       "    .dataframe tbody tr th:only-of-type {\n",
       "        vertical-align: middle;\n",
       "    }\n",
       "\n",
       "    .dataframe tbody tr th {\n",
       "        vertical-align: top;\n",
       "    }\n",
       "\n",
       "    .dataframe thead th {\n",
       "        text-align: right;\n",
       "    }\n",
       "</style>\n",
       "<table border=\"1\" class=\"dataframe\">\n",
       "  <thead>\n",
       "    <tr style=\"text-align: right;\">\n",
       "      <th></th>\n",
       "      <th>docdb_family_id</th>\n",
       "      <th>appln_id</th>\n",
       "      <th>appln_auth</th>\n",
       "    </tr>\n",
       "  </thead>\n",
       "  <tbody>\n",
       "    <tr>\n",
       "      <th>0</th>\n",
       "      <td>3487358</td>\n",
       "      <td>667</td>\n",
       "      <td>EP</td>\n",
       "    </tr>\n",
       "    <tr>\n",
       "      <th>1</th>\n",
       "      <td>8194882</td>\n",
       "      <td>673</td>\n",
       "      <td>EP</td>\n",
       "    </tr>\n",
       "    <tr>\n",
       "      <th>2</th>\n",
       "      <td>27146044</td>\n",
       "      <td>713</td>\n",
       "      <td>EP</td>\n",
       "    </tr>\n",
       "    <tr>\n",
       "      <th>3</th>\n",
       "      <td>24256107</td>\n",
       "      <td>4379</td>\n",
       "      <td>EP</td>\n",
       "    </tr>\n",
       "    <tr>\n",
       "      <th>4</th>\n",
       "      <td>8519350</td>\n",
       "      <td>4390</td>\n",
       "      <td>EP</td>\n",
       "    </tr>\n",
       "  </tbody>\n",
       "</table>\n",
       "</div>"
      ],
      "text/plain": [
       "   docdb_family_id  appln_id appln_auth\n",
       "0          3487358       667         EP\n",
       "1          8194882       673         EP\n",
       "2         27146044       713         EP\n",
       "3         24256107      4379         EP\n",
       "4          8519350      4390         EP"
      ]
     },
     "execution_count": 69,
     "metadata": {},
     "output_type": "execute_result"
    }
   ],
   "source": [
    "data5.head()"
   ]
  },
  {
   "cell_type": "code",
   "execution_count": 70,
   "metadata": {},
   "outputs": [
    {
     "data": {
      "text/plain": [
       "118884"
      ]
     },
     "execution_count": 70,
     "metadata": {},
     "output_type": "execute_result"
    }
   ],
   "source": [
    "len(data5)"
   ]
  },
  {
   "cell_type": "code",
   "execution_count": 71,
   "metadata": {},
   "outputs": [
    {
     "data": {
      "text/plain": [
       "True"
      ]
     },
     "execution_count": 71,
     "metadata": {},
     "output_type": "execute_result"
    }
   ],
   "source": [
    "conn = mysql.connector.connect(**db_config)\n",
    "cursor = conn.cursor(dictionary=True)\n",
    "ids=tuple(data5['appln_id'])\n",
    "query = f\"\"\"\n",
    "SELECT \n",
    "\tt1.appln_id,   \n",
    "    t1.appln_title\n",
    "FROM\n",
    "\tpatstat_s24.tls202_appln_title t1\n",
    "WHERE\n",
    "    t1.appln_id IN {ids}\n",
    "    AND t1.appln_title_lg = 'en'\n",
    "\"\"\"\n",
    "cursor.execute(query)\n",
    "results = cursor.fetchall()\n",
    "cursor.close()"
   ]
  },
  {
   "cell_type": "code",
   "execution_count": 72,
   "metadata": {},
   "outputs": [],
   "source": [
    "data6=pd.DataFrame(results)"
   ]
  },
  {
   "cell_type": "code",
   "execution_count": 73,
   "metadata": {},
   "outputs": [
    {
     "data": {
      "text/plain": [
       "76726"
      ]
     },
     "execution_count": 73,
     "metadata": {},
     "output_type": "execute_result"
    }
   ],
   "source": [
    "len(data6)"
   ]
  },
  {
   "cell_type": "code",
   "execution_count": 74,
   "metadata": {},
   "outputs": [
    {
     "data": {
      "text/html": [
       "<div>\n",
       "<style scoped>\n",
       "    .dataframe tbody tr th:only-of-type {\n",
       "        vertical-align: middle;\n",
       "    }\n",
       "\n",
       "    .dataframe tbody tr th {\n",
       "        vertical-align: top;\n",
       "    }\n",
       "\n",
       "    .dataframe thead th {\n",
       "        text-align: right;\n",
       "    }\n",
       "</style>\n",
       "<table border=\"1\" class=\"dataframe\">\n",
       "  <thead>\n",
       "    <tr style=\"text-align: right;\">\n",
       "      <th></th>\n",
       "      <th>appln_id</th>\n",
       "      <th>appln_title</th>\n",
       "    </tr>\n",
       "  </thead>\n",
       "  <tbody>\n",
       "    <tr>\n",
       "      <th>0</th>\n",
       "      <td>667</td>\n",
       "      <td>Rope formed of threads, yarns or twines made o...</td>\n",
       "    </tr>\n",
       "    <tr>\n",
       "      <th>1</th>\n",
       "      <td>673</td>\n",
       "      <td>Indicating and function controlling optical un...</td>\n",
       "    </tr>\n",
       "    <tr>\n",
       "      <th>2</th>\n",
       "      <td>713</td>\n",
       "      <td>COMPOSITE PLATE WITH A LAYER OF NATURAL STONE</td>\n",
       "    </tr>\n",
       "    <tr>\n",
       "      <th>3</th>\n",
       "      <td>4379</td>\n",
       "      <td>MULTI-COLOR MARKING IMPLEMENTS, AND METHOD AND...</td>\n",
       "    </tr>\n",
       "    <tr>\n",
       "      <th>4</th>\n",
       "      <td>4390</td>\n",
       "      <td>METHOD TO MANUFACTURE COMPACTOR AND COMPACTOR ...</td>\n",
       "    </tr>\n",
       "  </tbody>\n",
       "</table>\n",
       "</div>"
      ],
      "text/plain": [
       "   appln_id                                        appln_title\n",
       "0       667  Rope formed of threads, yarns or twines made o...\n",
       "1       673  Indicating and function controlling optical un...\n",
       "2       713      COMPOSITE PLATE WITH A LAYER OF NATURAL STONE\n",
       "3      4379  MULTI-COLOR MARKING IMPLEMENTS, AND METHOD AND...\n",
       "4      4390  METHOD TO MANUFACTURE COMPACTOR AND COMPACTOR ..."
      ]
     },
     "execution_count": 74,
     "metadata": {},
     "output_type": "execute_result"
    }
   ],
   "source": [
    "data6.head()"
   ]
  },
  {
   "cell_type": "code",
   "execution_count": 75,
   "metadata": {},
   "outputs": [
    {
     "data": {
      "text/plain": [
       "True"
      ]
     },
     "execution_count": 75,
     "metadata": {},
     "output_type": "execute_result"
    }
   ],
   "source": [
    "conn = mysql.connector.connect(**db_config)\n",
    "cursor = conn.cursor(dictionary=True)\n",
    "ids=tuple(data6['appln_id'])\n",
    "query = f\"\"\"\n",
    "SELECT \n",
    "\tt1.appln_id,   \n",
    "    t1.appln_abstract\n",
    "FROM\n",
    "\tpatstat_s24.tls203_appln_abstr t1\n",
    "WHERE\n",
    "    t1.appln_id IN {ids}\n",
    "    AND t1.appln_abstract_lg = 'en'\n",
    "\"\"\"\n",
    "cursor.execute(query)\n",
    "results = cursor.fetchall()\n",
    "cursor.close()"
   ]
  },
  {
   "cell_type": "code",
   "execution_count": 76,
   "metadata": {},
   "outputs": [],
   "source": [
    "data7=pd.DataFrame(results)"
   ]
  },
  {
   "cell_type": "code",
   "execution_count": 77,
   "metadata": {},
   "outputs": [
    {
     "data": {
      "text/html": [
       "<div>\n",
       "<style scoped>\n",
       "    .dataframe tbody tr th:only-of-type {\n",
       "        vertical-align: middle;\n",
       "    }\n",
       "\n",
       "    .dataframe tbody tr th {\n",
       "        vertical-align: top;\n",
       "    }\n",
       "\n",
       "    .dataframe thead th {\n",
       "        text-align: right;\n",
       "    }\n",
       "</style>\n",
       "<table border=\"1\" class=\"dataframe\">\n",
       "  <thead>\n",
       "    <tr style=\"text-align: right;\">\n",
       "      <th></th>\n",
       "      <th>appln_id</th>\n",
       "      <th>appln_abstract</th>\n",
       "    </tr>\n",
       "  </thead>\n",
       "  <tbody>\n",
       "    <tr>\n",
       "      <th>0</th>\n",
       "      <td>82688</td>\n",
       "      <td>The invention concerns a device for applying (...</td>\n",
       "    </tr>\n",
       "    <tr>\n",
       "      <th>1</th>\n",
       "      <td>97088</td>\n",
       "      <td>The invention relates to a system, method and ...</td>\n",
       "    </tr>\n",
       "    <tr>\n",
       "      <th>2</th>\n",
       "      <td>286537</td>\n",
       "      <td>A construction for a shoe (20), particularly a...</td>\n",
       "    </tr>\n",
       "    <tr>\n",
       "      <th>3</th>\n",
       "      <td>324253</td>\n",
       "      <td>There is provided a portable blower. The porta...</td>\n",
       "    </tr>\n",
       "    <tr>\n",
       "      <th>4</th>\n",
       "      <td>330532</td>\n",
       "      <td>A method of producing a marking on diamond, pe...</td>\n",
       "    </tr>\n",
       "  </tbody>\n",
       "</table>\n",
       "</div>"
      ],
      "text/plain": [
       "   appln_id                                     appln_abstract\n",
       "0     82688  The invention concerns a device for applying (...\n",
       "1     97088  The invention relates to a system, method and ...\n",
       "2    286537  A construction for a shoe (20), particularly a...\n",
       "3    324253  There is provided a portable blower. The porta...\n",
       "4    330532  A method of producing a marking on diamond, pe..."
      ]
     },
     "execution_count": 77,
     "metadata": {},
     "output_type": "execute_result"
    }
   ],
   "source": [
    "data7.head()"
   ]
  },
  {
   "cell_type": "code",
   "execution_count": 78,
   "metadata": {},
   "outputs": [],
   "source": [
    "data8 = pd.merge(data6, data7, on='appln_id', how='inner')"
   ]
  },
  {
   "cell_type": "code",
   "execution_count": 79,
   "metadata": {},
   "outputs": [
    {
     "data": {
      "text/html": [
       "<div>\n",
       "<style scoped>\n",
       "    .dataframe tbody tr th:only-of-type {\n",
       "        vertical-align: middle;\n",
       "    }\n",
       "\n",
       "    .dataframe tbody tr th {\n",
       "        vertical-align: top;\n",
       "    }\n",
       "\n",
       "    .dataframe thead th {\n",
       "        text-align: right;\n",
       "    }\n",
       "</style>\n",
       "<table border=\"1\" class=\"dataframe\">\n",
       "  <thead>\n",
       "    <tr style=\"text-align: right;\">\n",
       "      <th></th>\n",
       "      <th>appln_id</th>\n",
       "      <th>appln_title</th>\n",
       "      <th>appln_abstract</th>\n",
       "    </tr>\n",
       "  </thead>\n",
       "  <tbody>\n",
       "    <tr>\n",
       "      <th>0</th>\n",
       "      <td>82688</td>\n",
       "      <td>DEVICE FOR APPLYING A PRODUCT</td>\n",
       "      <td>The invention concerns a device for applying (...</td>\n",
       "    </tr>\n",
       "    <tr>\n",
       "      <th>1</th>\n",
       "      <td>97088</td>\n",
       "      <td>SYSTEM, METHOD AND CAPSULE FOR PREPARING A BEV...</td>\n",
       "      <td>The invention relates to a system, method and ...</td>\n",
       "    </tr>\n",
       "    <tr>\n",
       "      <th>2</th>\n",
       "      <td>286537</td>\n",
       "      <td>Shoe sole structures with enveloping side</td>\n",
       "      <td>A construction for a shoe (20), particularly a...</td>\n",
       "    </tr>\n",
       "    <tr>\n",
       "      <th>3</th>\n",
       "      <td>324253</td>\n",
       "      <td>Portable blower.</td>\n",
       "      <td>There is provided a portable blower. The porta...</td>\n",
       "    </tr>\n",
       "    <tr>\n",
       "      <th>4</th>\n",
       "      <td>330532</td>\n",
       "      <td>Method for producing a die insert</td>\n",
       "      <td>A method of producing a marking on diamond, pe...</td>\n",
       "    </tr>\n",
       "  </tbody>\n",
       "</table>\n",
       "</div>"
      ],
      "text/plain": [
       "   appln_id                                        appln_title  \\\n",
       "0     82688                      DEVICE FOR APPLYING A PRODUCT   \n",
       "1     97088  SYSTEM, METHOD AND CAPSULE FOR PREPARING A BEV...   \n",
       "2    286537          Shoe sole structures with enveloping side   \n",
       "3    324253                                   Portable blower.   \n",
       "4    330532                  Method for producing a die insert   \n",
       "\n",
       "                                      appln_abstract  \n",
       "0  The invention concerns a device for applying (...  \n",
       "1  The invention relates to a system, method and ...  \n",
       "2  A construction for a shoe (20), particularly a...  \n",
       "3  There is provided a portable blower. The porta...  \n",
       "4  A method of producing a marking on diamond, pe...  "
      ]
     },
     "execution_count": 79,
     "metadata": {},
     "output_type": "execute_result"
    }
   ],
   "source": [
    "data8.head()"
   ]
  },
  {
   "cell_type": "code",
   "execution_count": 80,
   "metadata": {},
   "outputs": [
    {
     "data": {
      "text/plain": [
       "35063"
      ]
     },
     "execution_count": 80,
     "metadata": {},
     "output_type": "execute_result"
    }
   ],
   "source": [
    "len(data8)"
   ]
  },
  {
   "cell_type": "code",
   "execution_count": 81,
   "metadata": {},
   "outputs": [],
   "source": [
    "data9 = pd.merge(data5, data8, on='appln_id', how='inner')"
   ]
  },
  {
   "cell_type": "code",
   "execution_count": 82,
   "metadata": {},
   "outputs": [
    {
     "data": {
      "text/html": [
       "<div>\n",
       "<style scoped>\n",
       "    .dataframe tbody tr th:only-of-type {\n",
       "        vertical-align: middle;\n",
       "    }\n",
       "\n",
       "    .dataframe tbody tr th {\n",
       "        vertical-align: top;\n",
       "    }\n",
       "\n",
       "    .dataframe thead th {\n",
       "        text-align: right;\n",
       "    }\n",
       "</style>\n",
       "<table border=\"1\" class=\"dataframe\">\n",
       "  <thead>\n",
       "    <tr style=\"text-align: right;\">\n",
       "      <th></th>\n",
       "      <th>docdb_family_id</th>\n",
       "      <th>appln_id</th>\n",
       "      <th>appln_auth</th>\n",
       "      <th>appln_title</th>\n",
       "      <th>appln_abstract</th>\n",
       "    </tr>\n",
       "  </thead>\n",
       "  <tbody>\n",
       "    <tr>\n",
       "      <th>0</th>\n",
       "      <td>8862541</td>\n",
       "      <td>82688</td>\n",
       "      <td>WO</td>\n",
       "      <td>DEVICE FOR APPLYING A PRODUCT</td>\n",
       "      <td>The invention concerns a device for applying (...</td>\n",
       "    </tr>\n",
       "    <tr>\n",
       "      <th>1</th>\n",
       "      <td>41328789</td>\n",
       "      <td>97088</td>\n",
       "      <td>WO</td>\n",
       "      <td>SYSTEM, METHOD AND CAPSULE FOR PREPARING A BEV...</td>\n",
       "      <td>The invention relates to a system, method and ...</td>\n",
       "    </tr>\n",
       "    <tr>\n",
       "      <th>2</th>\n",
       "      <td>23839637</td>\n",
       "      <td>286537</td>\n",
       "      <td>EP</td>\n",
       "      <td>Shoe sole structures with enveloping side</td>\n",
       "      <td>A construction for a shoe (20), particularly a...</td>\n",
       "    </tr>\n",
       "    <tr>\n",
       "      <th>3</th>\n",
       "      <td>27310129</td>\n",
       "      <td>324253</td>\n",
       "      <td>EP</td>\n",
       "      <td>Portable blower.</td>\n",
       "      <td>There is provided a portable blower. The porta...</td>\n",
       "    </tr>\n",
       "    <tr>\n",
       "      <th>4</th>\n",
       "      <td>27082389</td>\n",
       "      <td>330532</td>\n",
       "      <td>EP</td>\n",
       "      <td>Method for producing a die insert</td>\n",
       "      <td>A method of producing a marking on diamond, pe...</td>\n",
       "    </tr>\n",
       "  </tbody>\n",
       "</table>\n",
       "</div>"
      ],
      "text/plain": [
       "   docdb_family_id  appln_id appln_auth  \\\n",
       "0          8862541     82688         WO   \n",
       "1         41328789     97088         WO   \n",
       "2         23839637    286537         EP   \n",
       "3         27310129    324253         EP   \n",
       "4         27082389    330532         EP   \n",
       "\n",
       "                                         appln_title  \\\n",
       "0                      DEVICE FOR APPLYING A PRODUCT   \n",
       "1  SYSTEM, METHOD AND CAPSULE FOR PREPARING A BEV...   \n",
       "2          Shoe sole structures with enveloping side   \n",
       "3                                   Portable blower.   \n",
       "4                  Method for producing a die insert   \n",
       "\n",
       "                                      appln_abstract  \n",
       "0  The invention concerns a device for applying (...  \n",
       "1  The invention relates to a system, method and ...  \n",
       "2  A construction for a shoe (20), particularly a...  \n",
       "3  There is provided a portable blower. The porta...  \n",
       "4  A method of producing a marking on diamond, pe...  "
      ]
     },
     "execution_count": 82,
     "metadata": {},
     "output_type": "execute_result"
    }
   ],
   "source": [
    "data9.head()"
   ]
  },
  {
   "cell_type": "code",
   "execution_count": 83,
   "metadata": {},
   "outputs": [],
   "source": [
    "rank_order = ['EP', 'WO', 'US', 'CN', 'JP', 'KR', 'GB', 'CA', 'TW', 'DE', 'ES', 'RU', 'AU', 'FR', 'MX', 'UA', 'NZ']"
   ]
  },
  {
   "cell_type": "code",
   "execution_count": 84,
   "metadata": {},
   "outputs": [],
   "source": [
    "rank_dict = {auth: rank for rank, auth in enumerate(rank_order)}"
   ]
  },
  {
   "cell_type": "code",
   "execution_count": 85,
   "metadata": {},
   "outputs": [
    {
     "data": {
      "text/plain": [
       "{'EP': 0,\n",
       " 'WO': 1,\n",
       " 'US': 2,\n",
       " 'CN': 3,\n",
       " 'JP': 4,\n",
       " 'KR': 5,\n",
       " 'GB': 6,\n",
       " 'CA': 7,\n",
       " 'TW': 8,\n",
       " 'DE': 9,\n",
       " 'ES': 10,\n",
       " 'RU': 11,\n",
       " 'AU': 12,\n",
       " 'FR': 13,\n",
       " 'MX': 14,\n",
       " 'UA': 15,\n",
       " 'NZ': 16}"
      ]
     },
     "execution_count": 85,
     "metadata": {},
     "output_type": "execute_result"
    }
   ],
   "source": [
    "rank_dict"
   ]
  },
  {
   "cell_type": "code",
   "execution_count": 86,
   "metadata": {},
   "outputs": [],
   "source": [
    "data9['auth_rank'] = data9['appln_auth'].map(rank_dict)"
   ]
  },
  {
   "cell_type": "code",
   "execution_count": 87,
   "metadata": {},
   "outputs": [
    {
     "data": {
      "text/html": [
       "<div>\n",
       "<style scoped>\n",
       "    .dataframe tbody tr th:only-of-type {\n",
       "        vertical-align: middle;\n",
       "    }\n",
       "\n",
       "    .dataframe tbody tr th {\n",
       "        vertical-align: top;\n",
       "    }\n",
       "\n",
       "    .dataframe thead th {\n",
       "        text-align: right;\n",
       "    }\n",
       "</style>\n",
       "<table border=\"1\" class=\"dataframe\">\n",
       "  <thead>\n",
       "    <tr style=\"text-align: right;\">\n",
       "      <th></th>\n",
       "      <th>docdb_family_id</th>\n",
       "      <th>appln_id</th>\n",
       "      <th>appln_auth</th>\n",
       "      <th>appln_title</th>\n",
       "      <th>appln_abstract</th>\n",
       "      <th>auth_rank</th>\n",
       "    </tr>\n",
       "  </thead>\n",
       "  <tbody>\n",
       "    <tr>\n",
       "      <th>0</th>\n",
       "      <td>8862541</td>\n",
       "      <td>82688</td>\n",
       "      <td>WO</td>\n",
       "      <td>DEVICE FOR APPLYING A PRODUCT</td>\n",
       "      <td>The invention concerns a device for applying (...</td>\n",
       "      <td>1.0</td>\n",
       "    </tr>\n",
       "    <tr>\n",
       "      <th>1</th>\n",
       "      <td>41328789</td>\n",
       "      <td>97088</td>\n",
       "      <td>WO</td>\n",
       "      <td>SYSTEM, METHOD AND CAPSULE FOR PREPARING A BEV...</td>\n",
       "      <td>The invention relates to a system, method and ...</td>\n",
       "      <td>1.0</td>\n",
       "    </tr>\n",
       "    <tr>\n",
       "      <th>2</th>\n",
       "      <td>23839637</td>\n",
       "      <td>286537</td>\n",
       "      <td>EP</td>\n",
       "      <td>Shoe sole structures with enveloping side</td>\n",
       "      <td>A construction for a shoe (20), particularly a...</td>\n",
       "      <td>0.0</td>\n",
       "    </tr>\n",
       "    <tr>\n",
       "      <th>3</th>\n",
       "      <td>27310129</td>\n",
       "      <td>324253</td>\n",
       "      <td>EP</td>\n",
       "      <td>Portable blower.</td>\n",
       "      <td>There is provided a portable blower. The porta...</td>\n",
       "      <td>0.0</td>\n",
       "    </tr>\n",
       "    <tr>\n",
       "      <th>4</th>\n",
       "      <td>27082389</td>\n",
       "      <td>330532</td>\n",
       "      <td>EP</td>\n",
       "      <td>Method for producing a die insert</td>\n",
       "      <td>A method of producing a marking on diamond, pe...</td>\n",
       "      <td>0.0</td>\n",
       "    </tr>\n",
       "  </tbody>\n",
       "</table>\n",
       "</div>"
      ],
      "text/plain": [
       "   docdb_family_id  appln_id appln_auth  \\\n",
       "0          8862541     82688         WO   \n",
       "1         41328789     97088         WO   \n",
       "2         23839637    286537         EP   \n",
       "3         27310129    324253         EP   \n",
       "4         27082389    330532         EP   \n",
       "\n",
       "                                         appln_title  \\\n",
       "0                      DEVICE FOR APPLYING A PRODUCT   \n",
       "1  SYSTEM, METHOD AND CAPSULE FOR PREPARING A BEV...   \n",
       "2          Shoe sole structures with enveloping side   \n",
       "3                                   Portable blower.   \n",
       "4                  Method for producing a die insert   \n",
       "\n",
       "                                      appln_abstract  auth_rank  \n",
       "0  The invention concerns a device for applying (...        1.0  \n",
       "1  The invention relates to a system, method and ...        1.0  \n",
       "2  A construction for a shoe (20), particularly a...        0.0  \n",
       "3  There is provided a portable blower. The porta...        0.0  \n",
       "4  A method of producing a marking on diamond, pe...        0.0  "
      ]
     },
     "execution_count": 87,
     "metadata": {},
     "output_type": "execute_result"
    }
   ],
   "source": [
    "data9.head()"
   ]
  },
  {
   "cell_type": "code",
   "execution_count": 89,
   "metadata": {},
   "outputs": [],
   "source": [
    "data9 = data9.sort_values(['docdb_family_id', 'auth_rank'])"
   ]
  },
  {
   "cell_type": "code",
   "execution_count": 90,
   "metadata": {},
   "outputs": [
    {
     "data": {
      "text/html": [
       "<div>\n",
       "<style scoped>\n",
       "    .dataframe tbody tr th:only-of-type {\n",
       "        vertical-align: middle;\n",
       "    }\n",
       "\n",
       "    .dataframe tbody tr th {\n",
       "        vertical-align: top;\n",
       "    }\n",
       "\n",
       "    .dataframe thead th {\n",
       "        text-align: right;\n",
       "    }\n",
       "</style>\n",
       "<table border=\"1\" class=\"dataframe\">\n",
       "  <thead>\n",
       "    <tr style=\"text-align: right;\">\n",
       "      <th></th>\n",
       "      <th>docdb_family_id</th>\n",
       "      <th>appln_id</th>\n",
       "      <th>appln_auth</th>\n",
       "      <th>appln_title</th>\n",
       "      <th>appln_abstract</th>\n",
       "      <th>auth_rank</th>\n",
       "    </tr>\n",
       "  </thead>\n",
       "  <tbody>\n",
       "    <tr>\n",
       "      <th>17303</th>\n",
       "      <td>574528</td>\n",
       "      <td>43515905</td>\n",
       "      <td>WO</td>\n",
       "      <td>BUILDING STRUCTURE</td>\n",
       "      <td>A building structure comprises interconnectabl...</td>\n",
       "      <td>1.0</td>\n",
       "    </tr>\n",
       "    <tr>\n",
       "      <th>24098</th>\n",
       "      <td>574528</td>\n",
       "      <td>48641948</td>\n",
       "      <td>US</td>\n",
       "      <td>Building structure</td>\n",
       "      <td>PCT No. PCT/SE86/00457 Sec. 371 Date Jun. 7, 1...</td>\n",
       "      <td>2.0</td>\n",
       "    </tr>\n",
       "    <tr>\n",
       "      <th>8495</th>\n",
       "      <td>574528</td>\n",
       "      <td>15338498</td>\n",
       "      <td>DK</td>\n",
       "      <td>Building structure</td>\n",
       "      <td>A building structure comprises interconnectabl...</td>\n",
       "      <td>NaN</td>\n",
       "    </tr>\n",
       "    <tr>\n",
       "      <th>12201</th>\n",
       "      <td>574528</td>\n",
       "      <td>18480994</td>\n",
       "      <td>FI</td>\n",
       "      <td>Building construction - comprises assemblable ...</td>\n",
       "      <td>The components (1,2,3) of the construction are...</td>\n",
       "      <td>NaN</td>\n",
       "    </tr>\n",
       "    <tr>\n",
       "      <th>20563</th>\n",
       "      <td>574586</td>\n",
       "      <td>47065159</td>\n",
       "      <td>WO</td>\n",
       "      <td>PROTECTIVE FACIAL MASK</td>\n",
       "      <td>A protective facial mask (10) covering the ora...</td>\n",
       "      <td>1.0</td>\n",
       "    </tr>\n",
       "  </tbody>\n",
       "</table>\n",
       "</div>"
      ],
      "text/plain": [
       "       docdb_family_id  appln_id appln_auth  \\\n",
       "17303           574528  43515905         WO   \n",
       "24098           574528  48641948         US   \n",
       "8495            574528  15338498         DK   \n",
       "12201           574528  18480994         FI   \n",
       "20563           574586  47065159         WO   \n",
       "\n",
       "                                             appln_title  \\\n",
       "17303                                 BUILDING STRUCTURE   \n",
       "24098                                 Building structure   \n",
       "8495                                  Building structure   \n",
       "12201  Building construction - comprises assemblable ...   \n",
       "20563                             PROTECTIVE FACIAL MASK   \n",
       "\n",
       "                                          appln_abstract  auth_rank  \n",
       "17303  A building structure comprises interconnectabl...        1.0  \n",
       "24098  PCT No. PCT/SE86/00457 Sec. 371 Date Jun. 7, 1...        2.0  \n",
       "8495   A building structure comprises interconnectabl...        NaN  \n",
       "12201  The components (1,2,3) of the construction are...        NaN  \n",
       "20563  A protective facial mask (10) covering the ora...        1.0  "
      ]
     },
     "execution_count": 90,
     "metadata": {},
     "output_type": "execute_result"
    }
   ],
   "source": [
    "data9.head()"
   ]
  },
  {
   "cell_type": "code",
   "execution_count": 91,
   "metadata": {},
   "outputs": [],
   "source": [
    "data10 = data9.drop_duplicates(subset='docdb_family_id', keep='first')"
   ]
  },
  {
   "cell_type": "code",
   "execution_count": 92,
   "metadata": {},
   "outputs": [
    {
     "data": {
      "text/html": [
       "<div>\n",
       "<style scoped>\n",
       "    .dataframe tbody tr th:only-of-type {\n",
       "        vertical-align: middle;\n",
       "    }\n",
       "\n",
       "    .dataframe tbody tr th {\n",
       "        vertical-align: top;\n",
       "    }\n",
       "\n",
       "    .dataframe thead th {\n",
       "        text-align: right;\n",
       "    }\n",
       "</style>\n",
       "<table border=\"1\" class=\"dataframe\">\n",
       "  <thead>\n",
       "    <tr style=\"text-align: right;\">\n",
       "      <th></th>\n",
       "      <th>docdb_family_id</th>\n",
       "      <th>appln_id</th>\n",
       "      <th>appln_auth</th>\n",
       "      <th>appln_title</th>\n",
       "      <th>appln_abstract</th>\n",
       "      <th>auth_rank</th>\n",
       "    </tr>\n",
       "  </thead>\n",
       "  <tbody>\n",
       "    <tr>\n",
       "      <th>17303</th>\n",
       "      <td>574528</td>\n",
       "      <td>43515905</td>\n",
       "      <td>WO</td>\n",
       "      <td>BUILDING STRUCTURE</td>\n",
       "      <td>A building structure comprises interconnectabl...</td>\n",
       "      <td>1.0</td>\n",
       "    </tr>\n",
       "    <tr>\n",
       "      <th>20563</th>\n",
       "      <td>574586</td>\n",
       "      <td>47065159</td>\n",
       "      <td>WO</td>\n",
       "      <td>PROTECTIVE FACIAL MASK</td>\n",
       "      <td>A protective facial mask (10) covering the ora...</td>\n",
       "      <td>1.0</td>\n",
       "    </tr>\n",
       "    <tr>\n",
       "      <th>20653</th>\n",
       "      <td>574660</td>\n",
       "      <td>47067179</td>\n",
       "      <td>WO</td>\n",
       "      <td>STAIR CLIMBING EXERCISE APPARATUS</td>\n",
       "      <td>An exercise apparatus (10) that simulates stai...</td>\n",
       "      <td>1.0</td>\n",
       "    </tr>\n",
       "    <tr>\n",
       "      <th>7812</th>\n",
       "      <td>1226485</td>\n",
       "      <td>11643501</td>\n",
       "      <td>WO</td>\n",
       "      <td>PROCESS FOR BONDING HALOGENS TO SOLIDS IN THE ...</td>\n",
       "      <td>A process for bonding halogens to solids in th...</td>\n",
       "      <td>1.0</td>\n",
       "    </tr>\n",
       "    <tr>\n",
       "      <th>21287</th>\n",
       "      <td>1236211</td>\n",
       "      <td>47132595</td>\n",
       "      <td>WO</td>\n",
       "      <td>A METHOD FOR PRODUCING A MASS DISTRIBUTABLE PR...</td>\n",
       "      <td>A method for producing a mass distributable pr...</td>\n",
       "      <td>1.0</td>\n",
       "    </tr>\n",
       "  </tbody>\n",
       "</table>\n",
       "</div>"
      ],
      "text/plain": [
       "       docdb_family_id  appln_id appln_auth  \\\n",
       "17303           574528  43515905         WO   \n",
       "20563           574586  47065159         WO   \n",
       "20653           574660  47067179         WO   \n",
       "7812           1226485  11643501         WO   \n",
       "21287          1236211  47132595         WO   \n",
       "\n",
       "                                             appln_title  \\\n",
       "17303                                 BUILDING STRUCTURE   \n",
       "20563                             PROTECTIVE FACIAL MASK   \n",
       "20653                  STAIR CLIMBING EXERCISE APPARATUS   \n",
       "7812   PROCESS FOR BONDING HALOGENS TO SOLIDS IN THE ...   \n",
       "21287  A METHOD FOR PRODUCING A MASS DISTRIBUTABLE PR...   \n",
       "\n",
       "                                          appln_abstract  auth_rank  \n",
       "17303  A building structure comprises interconnectabl...        1.0  \n",
       "20563  A protective facial mask (10) covering the ora...        1.0  \n",
       "20653  An exercise apparatus (10) that simulates stai...        1.0  \n",
       "7812   A process for bonding halogens to solids in th...        1.0  \n",
       "21287  A method for producing a mass distributable pr...        1.0  "
      ]
     },
     "execution_count": 92,
     "metadata": {},
     "output_type": "execute_result"
    }
   ],
   "source": [
    "data10.head()"
   ]
  },
  {
   "cell_type": "code",
   "execution_count": 93,
   "metadata": {},
   "outputs": [
    {
     "data": {
      "text/plain": [
       "17092"
      ]
     },
     "execution_count": 93,
     "metadata": {},
     "output_type": "execute_result"
    }
   ],
   "source": [
    "len(data10)"
   ]
  },
  {
   "cell_type": "code",
   "execution_count": 94,
   "metadata": {},
   "outputs": [],
   "source": [
    "data11 = data10.drop(columns=['appln_id'])"
   ]
  },
  {
   "cell_type": "code",
   "execution_count": 95,
   "metadata": {},
   "outputs": [
    {
     "data": {
      "text/html": [
       "<div>\n",
       "<style scoped>\n",
       "    .dataframe tbody tr th:only-of-type {\n",
       "        vertical-align: middle;\n",
       "    }\n",
       "\n",
       "    .dataframe tbody tr th {\n",
       "        vertical-align: top;\n",
       "    }\n",
       "\n",
       "    .dataframe thead th {\n",
       "        text-align: right;\n",
       "    }\n",
       "</style>\n",
       "<table border=\"1\" class=\"dataframe\">\n",
       "  <thead>\n",
       "    <tr style=\"text-align: right;\">\n",
       "      <th></th>\n",
       "      <th>docdb_family_id</th>\n",
       "      <th>appln_auth</th>\n",
       "      <th>appln_title</th>\n",
       "      <th>appln_abstract</th>\n",
       "      <th>auth_rank</th>\n",
       "    </tr>\n",
       "  </thead>\n",
       "  <tbody>\n",
       "    <tr>\n",
       "      <th>17303</th>\n",
       "      <td>574528</td>\n",
       "      <td>WO</td>\n",
       "      <td>BUILDING STRUCTURE</td>\n",
       "      <td>A building structure comprises interconnectabl...</td>\n",
       "      <td>1.0</td>\n",
       "    </tr>\n",
       "    <tr>\n",
       "      <th>20563</th>\n",
       "      <td>574586</td>\n",
       "      <td>WO</td>\n",
       "      <td>PROTECTIVE FACIAL MASK</td>\n",
       "      <td>A protective facial mask (10) covering the ora...</td>\n",
       "      <td>1.0</td>\n",
       "    </tr>\n",
       "    <tr>\n",
       "      <th>20653</th>\n",
       "      <td>574660</td>\n",
       "      <td>WO</td>\n",
       "      <td>STAIR CLIMBING EXERCISE APPARATUS</td>\n",
       "      <td>An exercise apparatus (10) that simulates stai...</td>\n",
       "      <td>1.0</td>\n",
       "    </tr>\n",
       "    <tr>\n",
       "      <th>7812</th>\n",
       "      <td>1226485</td>\n",
       "      <td>WO</td>\n",
       "      <td>PROCESS FOR BONDING HALOGENS TO SOLIDS IN THE ...</td>\n",
       "      <td>A process for bonding halogens to solids in th...</td>\n",
       "      <td>1.0</td>\n",
       "    </tr>\n",
       "    <tr>\n",
       "      <th>21287</th>\n",
       "      <td>1236211</td>\n",
       "      <td>WO</td>\n",
       "      <td>A METHOD FOR PRODUCING A MASS DISTRIBUTABLE PR...</td>\n",
       "      <td>A method for producing a mass distributable pr...</td>\n",
       "      <td>1.0</td>\n",
       "    </tr>\n",
       "  </tbody>\n",
       "</table>\n",
       "</div>"
      ],
      "text/plain": [
       "       docdb_family_id appln_auth  \\\n",
       "17303           574528         WO   \n",
       "20563           574586         WO   \n",
       "20653           574660         WO   \n",
       "7812           1226485         WO   \n",
       "21287          1236211         WO   \n",
       "\n",
       "                                             appln_title  \\\n",
       "17303                                 BUILDING STRUCTURE   \n",
       "20563                             PROTECTIVE FACIAL MASK   \n",
       "20653                  STAIR CLIMBING EXERCISE APPARATUS   \n",
       "7812   PROCESS FOR BONDING HALOGENS TO SOLIDS IN THE ...   \n",
       "21287  A METHOD FOR PRODUCING A MASS DISTRIBUTABLE PR...   \n",
       "\n",
       "                                          appln_abstract  auth_rank  \n",
       "17303  A building structure comprises interconnectabl...        1.0  \n",
       "20563  A protective facial mask (10) covering the ora...        1.0  \n",
       "20653  An exercise apparatus (10) that simulates stai...        1.0  \n",
       "7812   A process for bonding halogens to solids in th...        1.0  \n",
       "21287  A method for producing a mass distributable pr...        1.0  "
      ]
     },
     "execution_count": 95,
     "metadata": {},
     "output_type": "execute_result"
    }
   ],
   "source": [
    "data11.head()"
   ]
  },
  {
   "cell_type": "code",
   "execution_count": 96,
   "metadata": {},
   "outputs": [
    {
     "data": {
      "text/plain": [
       "17092"
      ]
     },
     "execution_count": 96,
     "metadata": {},
     "output_type": "execute_result"
    }
   ],
   "source": [
    "len(data11)"
   ]
  },
  {
   "cell_type": "code",
   "execution_count": 99,
   "metadata": {},
   "outputs": [],
   "source": [
    "data12 = pd.merge(data4, data11, on='docdb_family_id', how='inner')"
   ]
  },
  {
   "cell_type": "code",
   "execution_count": 100,
   "metadata": {},
   "outputs": [
    {
     "data": {
      "text/html": [
       "<div>\n",
       "<style scoped>\n",
       "    .dataframe tbody tr th:only-of-type {\n",
       "        vertical-align: middle;\n",
       "    }\n",
       "\n",
       "    .dataframe tbody tr th {\n",
       "        vertical-align: top;\n",
       "    }\n",
       "\n",
       "    .dataframe thead th {\n",
       "        text-align: right;\n",
       "    }\n",
       "</style>\n",
       "<table border=\"1\" class=\"dataframe\">\n",
       "  <thead>\n",
       "    <tr style=\"text-align: right;\">\n",
       "      <th></th>\n",
       "      <th>key</th>\n",
       "      <th>appln_id</th>\n",
       "      <th>docdb_family_id</th>\n",
       "      <th>appln_auth</th>\n",
       "      <th>appln_title</th>\n",
       "      <th>appln_abstract</th>\n",
       "      <th>auth_rank</th>\n",
       "    </tr>\n",
       "  </thead>\n",
       "  <tbody>\n",
       "    <tr>\n",
       "      <th>0</th>\n",
       "      <td>EP0147905A2</td>\n",
       "      <td>4379</td>\n",
       "      <td>24256107</td>\n",
       "      <td>US</td>\n",
       "      <td>Multi-color marking implement</td>\n",
       "      <td>This application discloses multi-color marking...</td>\n",
       "      <td>2.0</td>\n",
       "    </tr>\n",
       "    <tr>\n",
       "      <th>1</th>\n",
       "      <td>EP0219694A2</td>\n",
       "      <td>4443</td>\n",
       "      <td>25116505</td>\n",
       "      <td>US</td>\n",
       "      <td>Lock actuator assembly and card reader</td>\n",
       "      <td>An actuator assembly is mounted in a housing a...</td>\n",
       "      <td>2.0</td>\n",
       "    </tr>\n",
       "    <tr>\n",
       "      <th>2</th>\n",
       "      <td>EP215657A2</td>\n",
       "      <td>4525</td>\n",
       "      <td>10585100</td>\n",
       "      <td>US</td>\n",
       "      <td>Sonar transducers</td>\n",
       "      <td>A flextensional sonar transducer may comprise ...</td>\n",
       "      <td>2.0</td>\n",
       "    </tr>\n",
       "    <tr>\n",
       "      <th>3</th>\n",
       "      <td>EP0214633A1</td>\n",
       "      <td>41453</td>\n",
       "      <td>27274544</td>\n",
       "      <td>US</td>\n",
       "      <td>Control system for hydraulically-operated cons...</td>\n",
       "      <td>A control system for a hydraulic excavator hav...</td>\n",
       "      <td>2.0</td>\n",
       "    </tr>\n",
       "    <tr>\n",
       "      <th>4</th>\n",
       "      <td>EP0220904A2</td>\n",
       "      <td>57017</td>\n",
       "      <td>25148090</td>\n",
       "      <td>US</td>\n",
       "      <td>Article with laminated paper orientation for i...</td>\n",
       "      <td>The invention relates to an article comprising...</td>\n",
       "      <td>2.0</td>\n",
       "    </tr>\n",
       "  </tbody>\n",
       "</table>\n",
       "</div>"
      ],
      "text/plain": [
       "           key  appln_id  docdb_family_id appln_auth  \\\n",
       "0  EP0147905A2      4379         24256107         US   \n",
       "1  EP0219694A2      4443         25116505         US   \n",
       "2   EP215657A2      4525         10585100         US   \n",
       "3  EP0214633A1     41453         27274544         US   \n",
       "4  EP0220904A2     57017         25148090         US   \n",
       "\n",
       "                                         appln_title  \\\n",
       "0                      Multi-color marking implement   \n",
       "1             Lock actuator assembly and card reader   \n",
       "2                                  Sonar transducers   \n",
       "3  Control system for hydraulically-operated cons...   \n",
       "4  Article with laminated paper orientation for i...   \n",
       "\n",
       "                                      appln_abstract  auth_rank  \n",
       "0  This application discloses multi-color marking...        2.0  \n",
       "1  An actuator assembly is mounted in a housing a...        2.0  \n",
       "2  A flextensional sonar transducer may comprise ...        2.0  \n",
       "3  A control system for a hydraulic excavator hav...        2.0  \n",
       "4  The invention relates to an article comprising...        2.0  "
      ]
     },
     "execution_count": 100,
     "metadata": {},
     "output_type": "execute_result"
    }
   ],
   "source": [
    "data12.head()"
   ]
  },
  {
   "cell_type": "code",
   "execution_count": 101,
   "metadata": {},
   "outputs": [
    {
     "data": {
      "text/plain": [
       "17092"
      ]
     },
     "execution_count": 101,
     "metadata": {},
     "output_type": "execute_result"
    }
   ],
   "source": [
    "len(data12)"
   ]
  },
  {
   "cell_type": "code",
   "execution_count": 102,
   "metadata": {},
   "outputs": [
    {
     "data": {
      "text/plain": [
       "17124"
      ]
     },
     "execution_count": 102,
     "metadata": {},
     "output_type": "execute_result"
    }
   ],
   "source": [
    "len(data4)"
   ]
  },
  {
   "cell_type": "code",
   "execution_count": 103,
   "metadata": {},
   "outputs": [],
   "source": [
    "data13 = pd.merge(data4, data11, on='docdb_family_id', how='outer', indicator=True)"
   ]
  },
  {
   "cell_type": "code",
   "execution_count": 104,
   "metadata": {},
   "outputs": [],
   "source": [
    "data14=data13[data13['_merge']!=\"both\"]"
   ]
  },
  {
   "cell_type": "code",
   "execution_count": 105,
   "metadata": {},
   "outputs": [
    {
     "data": {
      "text/html": [
       "<div>\n",
       "<style scoped>\n",
       "    .dataframe tbody tr th:only-of-type {\n",
       "        vertical-align: middle;\n",
       "    }\n",
       "\n",
       "    .dataframe tbody tr th {\n",
       "        vertical-align: top;\n",
       "    }\n",
       "\n",
       "    .dataframe thead th {\n",
       "        text-align: right;\n",
       "    }\n",
       "</style>\n",
       "<table border=\"1\" class=\"dataframe\">\n",
       "  <thead>\n",
       "    <tr style=\"text-align: right;\">\n",
       "      <th></th>\n",
       "      <th>key</th>\n",
       "      <th>appln_id</th>\n",
       "      <th>docdb_family_id</th>\n",
       "      <th>appln_auth</th>\n",
       "      <th>appln_title</th>\n",
       "      <th>appln_abstract</th>\n",
       "      <th>auth_rank</th>\n",
       "      <th>_merge</th>\n",
       "    </tr>\n",
       "  </thead>\n",
       "  <tbody>\n",
       "    <tr>\n",
       "      <th>12</th>\n",
       "      <td>EP0602033A1</td>\n",
       "      <td>16919016</td>\n",
       "      <td>1340219</td>\n",
       "      <td>NaN</td>\n",
       "      <td>NaN</td>\n",
       "      <td>NaN</td>\n",
       "      <td>NaN</td>\n",
       "      <td>left_only</td>\n",
       "    </tr>\n",
       "    <tr>\n",
       "      <th>13</th>\n",
       "      <td>EP0578632A1</td>\n",
       "      <td>16910918</td>\n",
       "      <td>1762664</td>\n",
       "      <td>NaN</td>\n",
       "      <td>NaN</td>\n",
       "      <td>NaN</td>\n",
       "      <td>NaN</td>\n",
       "      <td>left_only</td>\n",
       "    </tr>\n",
       "    <tr>\n",
       "      <th>413</th>\n",
       "      <td>EP1162330A2</td>\n",
       "      <td>15848760</td>\n",
       "      <td>3684009</td>\n",
       "      <td>NaN</td>\n",
       "      <td>NaN</td>\n",
       "      <td>NaN</td>\n",
       "      <td>NaN</td>\n",
       "      <td>left_only</td>\n",
       "    </tr>\n",
       "    <tr>\n",
       "      <th>1304</th>\n",
       "      <td>EP0206105A1</td>\n",
       "      <td>16623575</td>\n",
       "      <td>4234192</td>\n",
       "      <td>NaN</td>\n",
       "      <td>NaN</td>\n",
       "      <td>NaN</td>\n",
       "      <td>NaN</td>\n",
       "      <td>left_only</td>\n",
       "    </tr>\n",
       "    <tr>\n",
       "      <th>1699</th>\n",
       "      <td>EP1374961A2</td>\n",
       "      <td>15791480</td>\n",
       "      <td>5331371</td>\n",
       "      <td>NaN</td>\n",
       "      <td>NaN</td>\n",
       "      <td>NaN</td>\n",
       "      <td>NaN</td>\n",
       "      <td>left_only</td>\n",
       "    </tr>\n",
       "  </tbody>\n",
       "</table>\n",
       "</div>"
      ],
      "text/plain": [
       "              key  appln_id  docdb_family_id appln_auth appln_title  \\\n",
       "12    EP0602033A1  16919016          1340219        NaN         NaN   \n",
       "13    EP0578632A1  16910918          1762664        NaN         NaN   \n",
       "413   EP1162330A2  15848760          3684009        NaN         NaN   \n",
       "1304  EP0206105A1  16623575          4234192        NaN         NaN   \n",
       "1699  EP1374961A2  15791480          5331371        NaN         NaN   \n",
       "\n",
       "     appln_abstract  auth_rank     _merge  \n",
       "12              NaN        NaN  left_only  \n",
       "13              NaN        NaN  left_only  \n",
       "413             NaN        NaN  left_only  \n",
       "1304            NaN        NaN  left_only  \n",
       "1699            NaN        NaN  left_only  "
      ]
     },
     "execution_count": 105,
     "metadata": {},
     "output_type": "execute_result"
    }
   ],
   "source": [
    "data14.head()"
   ]
  },
  {
   "cell_type": "code",
   "execution_count": 106,
   "metadata": {},
   "outputs": [
    {
     "data": {
      "text/plain": [
       "32"
      ]
     },
     "execution_count": 106,
     "metadata": {},
     "output_type": "execute_result"
    }
   ],
   "source": [
    "len(data14)"
   ]
  },
  {
   "cell_type": "code",
   "execution_count": 107,
   "metadata": {},
   "outputs": [
    {
     "data": {
      "text/plain": [
       "32"
      ]
     },
     "execution_count": 107,
     "metadata": {},
     "output_type": "execute_result"
    }
   ],
   "source": [
    "17124-17092"
   ]
  },
  {
   "cell_type": "code",
   "execution_count": 109,
   "metadata": {},
   "outputs": [],
   "source": [
    "data14[[\"key\",\"appln_id\",\"docdb_family_id\"]].to_csv(\"patents_not_en.csv\",index=False)"
   ]
  },
  {
   "cell_type": "code",
   "execution_count": null,
   "metadata": {},
   "outputs": [],
   "source": [
    "data12.to_csv(\"13handling_non_english.csv\",index=False)"
   ]
  },
  {
   "cell_type": "code",
   "execution_count": null,
   "metadata": {},
   "outputs": [],
   "source": [
    "test=pd.read_csv(\"13handling_non_english.csv\")"
   ]
  },
  {
   "cell_type": "code",
   "execution_count": 113,
   "metadata": {},
   "outputs": [
    {
     "data": {
      "text/html": [
       "<div>\n",
       "<style scoped>\n",
       "    .dataframe tbody tr th:only-of-type {\n",
       "        vertical-align: middle;\n",
       "    }\n",
       "\n",
       "    .dataframe tbody tr th {\n",
       "        vertical-align: top;\n",
       "    }\n",
       "\n",
       "    .dataframe thead th {\n",
       "        text-align: right;\n",
       "    }\n",
       "</style>\n",
       "<table border=\"1\" class=\"dataframe\">\n",
       "  <thead>\n",
       "    <tr style=\"text-align: right;\">\n",
       "      <th></th>\n",
       "      <th>key</th>\n",
       "      <th>appln_id</th>\n",
       "      <th>docdb_family_id</th>\n",
       "      <th>appln_auth</th>\n",
       "      <th>appln_title</th>\n",
       "      <th>appln_abstract</th>\n",
       "      <th>auth_rank</th>\n",
       "    </tr>\n",
       "  </thead>\n",
       "  <tbody>\n",
       "    <tr>\n",
       "      <th>0</th>\n",
       "      <td>EP0147905A2</td>\n",
       "      <td>4379</td>\n",
       "      <td>24256107</td>\n",
       "      <td>US</td>\n",
       "      <td>Multi-color marking implement</td>\n",
       "      <td>This application discloses multi-color marking...</td>\n",
       "      <td>2.0</td>\n",
       "    </tr>\n",
       "    <tr>\n",
       "      <th>1</th>\n",
       "      <td>EP0219694A2</td>\n",
       "      <td>4443</td>\n",
       "      <td>25116505</td>\n",
       "      <td>US</td>\n",
       "      <td>Lock actuator assembly and card reader</td>\n",
       "      <td>An actuator assembly is mounted in a housing a...</td>\n",
       "      <td>2.0</td>\n",
       "    </tr>\n",
       "    <tr>\n",
       "      <th>2</th>\n",
       "      <td>EP215657A2</td>\n",
       "      <td>4525</td>\n",
       "      <td>10585100</td>\n",
       "      <td>US</td>\n",
       "      <td>Sonar transducers</td>\n",
       "      <td>A flextensional sonar transducer may comprise ...</td>\n",
       "      <td>2.0</td>\n",
       "    </tr>\n",
       "    <tr>\n",
       "      <th>3</th>\n",
       "      <td>EP0214633A1</td>\n",
       "      <td>41453</td>\n",
       "      <td>27274544</td>\n",
       "      <td>US</td>\n",
       "      <td>Control system for hydraulically-operated cons...</td>\n",
       "      <td>A control system for a hydraulic excavator hav...</td>\n",
       "      <td>2.0</td>\n",
       "    </tr>\n",
       "    <tr>\n",
       "      <th>4</th>\n",
       "      <td>EP0220904A2</td>\n",
       "      <td>57017</td>\n",
       "      <td>25148090</td>\n",
       "      <td>US</td>\n",
       "      <td>Article with laminated paper orientation for i...</td>\n",
       "      <td>The invention relates to an article comprising...</td>\n",
       "      <td>2.0</td>\n",
       "    </tr>\n",
       "  </tbody>\n",
       "</table>\n",
       "</div>"
      ],
      "text/plain": [
       "           key  appln_id  docdb_family_id appln_auth  \\\n",
       "0  EP0147905A2      4379         24256107         US   \n",
       "1  EP0219694A2      4443         25116505         US   \n",
       "2   EP215657A2      4525         10585100         US   \n",
       "3  EP0214633A1     41453         27274544         US   \n",
       "4  EP0220904A2     57017         25148090         US   \n",
       "\n",
       "                                         appln_title  \\\n",
       "0                      Multi-color marking implement   \n",
       "1             Lock actuator assembly and card reader   \n",
       "2                                  Sonar transducers   \n",
       "3  Control system for hydraulically-operated cons...   \n",
       "4  Article with laminated paper orientation for i...   \n",
       "\n",
       "                                      appln_abstract  auth_rank  \n",
       "0  This application discloses multi-color marking...        2.0  \n",
       "1  An actuator assembly is mounted in a housing a...        2.0  \n",
       "2  A flextensional sonar transducer may comprise ...        2.0  \n",
       "3  A control system for a hydraulic excavator hav...        2.0  \n",
       "4  The invention relates to an article comprising...        2.0  "
      ]
     },
     "execution_count": 113,
     "metadata": {},
     "output_type": "execute_result"
    }
   ],
   "source": [
    "test.head()"
   ]
  },
  {
   "cell_type": "code",
   "execution_count": 114,
   "metadata": {},
   "outputs": [
    {
     "data": {
      "text/plain": [
       "17092"
      ]
     },
     "execution_count": 114,
     "metadata": {},
     "output_type": "execute_result"
    }
   ],
   "source": [
    "len(test)"
   ]
  },
  {
   "cell_type": "code",
   "execution_count": 118,
   "metadata": {},
   "outputs": [],
   "source": [
    "test2=pd.read_csv(\"patents_not_en.csv\")"
   ]
  },
  {
   "cell_type": "code",
   "execution_count": 119,
   "metadata": {},
   "outputs": [
    {
     "data": {
      "text/html": [
       "<div>\n",
       "<style scoped>\n",
       "    .dataframe tbody tr th:only-of-type {\n",
       "        vertical-align: middle;\n",
       "    }\n",
       "\n",
       "    .dataframe tbody tr th {\n",
       "        vertical-align: top;\n",
       "    }\n",
       "\n",
       "    .dataframe thead th {\n",
       "        text-align: right;\n",
       "    }\n",
       "</style>\n",
       "<table border=\"1\" class=\"dataframe\">\n",
       "  <thead>\n",
       "    <tr style=\"text-align: right;\">\n",
       "      <th></th>\n",
       "      <th>key</th>\n",
       "      <th>appln_id</th>\n",
       "      <th>docdb_family_id</th>\n",
       "    </tr>\n",
       "  </thead>\n",
       "  <tbody>\n",
       "    <tr>\n",
       "      <th>0</th>\n",
       "      <td>EP0602033A1</td>\n",
       "      <td>16919016</td>\n",
       "      <td>1340219</td>\n",
       "    </tr>\n",
       "    <tr>\n",
       "      <th>1</th>\n",
       "      <td>EP0578632A1</td>\n",
       "      <td>16910918</td>\n",
       "      <td>1762664</td>\n",
       "    </tr>\n",
       "    <tr>\n",
       "      <th>2</th>\n",
       "      <td>EP1162330A2</td>\n",
       "      <td>15848760</td>\n",
       "      <td>3684009</td>\n",
       "    </tr>\n",
       "    <tr>\n",
       "      <th>3</th>\n",
       "      <td>EP0206105A1</td>\n",
       "      <td>16623575</td>\n",
       "      <td>4234192</td>\n",
       "    </tr>\n",
       "    <tr>\n",
       "      <th>4</th>\n",
       "      <td>EP1374961A2</td>\n",
       "      <td>15791480</td>\n",
       "      <td>5331371</td>\n",
       "    </tr>\n",
       "  </tbody>\n",
       "</table>\n",
       "</div>"
      ],
      "text/plain": [
       "           key  appln_id  docdb_family_id\n",
       "0  EP0602033A1  16919016          1340219\n",
       "1  EP0578632A1  16910918          1762664\n",
       "2  EP1162330A2  15848760          3684009\n",
       "3  EP0206105A1  16623575          4234192\n",
       "4  EP1374961A2  15791480          5331371"
      ]
     },
     "execution_count": 119,
     "metadata": {},
     "output_type": "execute_result"
    }
   ],
   "source": [
    "test2.head()"
   ]
  },
  {
   "cell_type": "code",
   "execution_count": 120,
   "metadata": {},
   "outputs": [
    {
     "data": {
      "text/plain": [
       "32"
      ]
     },
     "execution_count": 120,
     "metadata": {},
     "output_type": "execute_result"
    }
   ],
   "source": [
    "len(test2)"
   ]
  },
  {
   "cell_type": "code",
   "execution_count": null,
   "metadata": {},
   "outputs": [],
   "source": [
    "#patents with appln ids and family ids not containing english abstract and title = 32 (saved in patents_not_en.csv)"
   ]
  }
 ],
 "metadata": {
  "kernelspec": {
   "display_name": "Python 3",
   "language": "python",
   "name": "python3"
  },
  "language_info": {
   "codemirror_mode": {
    "name": "ipython",
    "version": 3
   },
   "file_extension": ".py",
   "mimetype": "text/x-python",
   "name": "python",
   "nbconvert_exporter": "python",
   "pygments_lexer": "ipython3",
   "version": "3.10.12"
  }
 },
 "nbformat": 4,
 "nbformat_minor": 2
}
