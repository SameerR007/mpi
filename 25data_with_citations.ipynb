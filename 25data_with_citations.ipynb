{
 "cells": [
  {
   "cell_type": "code",
   "execution_count": 4,
   "metadata": {},
   "outputs": [],
   "source": [
    "import pandas as pd"
   ]
  },
  {
   "cell_type": "code",
   "execution_count": null,
   "metadata": {},
   "outputs": [],
   "source": [
    "data=pd.read_pickle(\"24all_patents_atleat1000.pkl\")"
   ]
  },
  {
   "cell_type": "code",
   "execution_count": 6,
   "metadata": {},
   "outputs": [
    {
     "data": {
      "text/html": [
       "<div>\n",
       "<style scoped>\n",
       "    .dataframe tbody tr th:only-of-type {\n",
       "        vertical-align: middle;\n",
       "    }\n",
       "\n",
       "    .dataframe tbody tr th {\n",
       "        vertical-align: top;\n",
       "    }\n",
       "\n",
       "    .dataframe thead th {\n",
       "        text-align: right;\n",
       "    }\n",
       "</style>\n",
       "<table border=\"1\" class=\"dataframe\">\n",
       "  <thead>\n",
       "    <tr style=\"text-align: right;\">\n",
       "      <th></th>\n",
       "      <th>docdb_family_id</th>\n",
       "      <th>earliest_pat_publn_id</th>\n",
       "      <th>earliest_filing_date</th>\n",
       "      <th>appln_auth</th>\n",
       "      <th>granted</th>\n",
       "      <th>similar_patents</th>\n",
       "      <th>num_unique_patents</th>\n",
       "    </tr>\n",
       "  </thead>\n",
       "  <tbody>\n",
       "    <tr>\n",
       "      <th>0</th>\n",
       "      <td>574528.0</td>\n",
       "      <td>307102421.0</td>\n",
       "      <td>1985-04-10</td>\n",
       "      <td>EP</td>\n",
       "      <td>Y</td>\n",
       "      <td>[(574528, 1.999717), (9306402, 1.9822814), (84...</td>\n",
       "      <td>2000</td>\n",
       "    </tr>\n",
       "    <tr>\n",
       "      <th>1</th>\n",
       "      <td>574586.0</td>\n",
       "      <td>387396319.0</td>\n",
       "      <td>1987-06-08</td>\n",
       "      <td>EP</td>\n",
       "      <td>Y</td>\n",
       "      <td>[(574586, 1.9997215), (63363761, 1.97839), (83...</td>\n",
       "      <td>2000</td>\n",
       "    </tr>\n",
       "    <tr>\n",
       "      <th>2</th>\n",
       "      <td>574660.0</td>\n",
       "      <td>387398325.0</td>\n",
       "      <td>1986-08-04</td>\n",
       "      <td>EP</td>\n",
       "      <td>Y</td>\n",
       "      <td>[(574660, 1.9997239), (6240233, 1.9768794), (2...</td>\n",
       "      <td>1658</td>\n",
       "    </tr>\n",
       "    <tr>\n",
       "      <th>3</th>\n",
       "      <td>1226456.0</td>\n",
       "      <td>303518198.0</td>\n",
       "      <td>1991-08-29</td>\n",
       "      <td>EP</td>\n",
       "      <td>Y</td>\n",
       "      <td>[(1226456, 1.9997258), (4856238, 1.9822338), (...</td>\n",
       "      <td>2000</td>\n",
       "    </tr>\n",
       "    <tr>\n",
       "      <th>4</th>\n",
       "      <td>1226485.0</td>\n",
       "      <td>302640285.0</td>\n",
       "      <td>1992-08-12</td>\n",
       "      <td>EP</td>\n",
       "      <td>Y</td>\n",
       "      <td>[(1226485, 1.9996202), (6328120, 1.987576), (2...</td>\n",
       "      <td>2000</td>\n",
       "    </tr>\n",
       "  </tbody>\n",
       "</table>\n",
       "</div>"
      ],
      "text/plain": [
       "   docdb_family_id  earliest_pat_publn_id earliest_filing_date appln_auth  \\\n",
       "0         574528.0            307102421.0           1985-04-10         EP   \n",
       "1         574586.0            387396319.0           1987-06-08         EP   \n",
       "2         574660.0            387398325.0           1986-08-04         EP   \n",
       "3        1226456.0            303518198.0           1991-08-29         EP   \n",
       "4        1226485.0            302640285.0           1992-08-12         EP   \n",
       "\n",
       "  granted                                    similar_patents  \\\n",
       "0       Y  [(574528, 1.999717), (9306402, 1.9822814), (84...   \n",
       "1       Y  [(574586, 1.9997215), (63363761, 1.97839), (83...   \n",
       "2       Y  [(574660, 1.9997239), (6240233, 1.9768794), (2...   \n",
       "3       Y  [(1226456, 1.9997258), (4856238, 1.9822338), (...   \n",
       "4       Y  [(1226485, 1.9996202), (6328120, 1.987576), (2...   \n",
       "\n",
       "   num_unique_patents  \n",
       "0                2000  \n",
       "1                2000  \n",
       "2                1658  \n",
       "3                2000  \n",
       "4                2000  "
      ]
     },
     "execution_count": 6,
     "metadata": {},
     "output_type": "execute_result"
    }
   ],
   "source": [
    "data.head()"
   ]
  },
  {
   "cell_type": "code",
   "execution_count": 7,
   "metadata": {},
   "outputs": [
    {
     "data": {
      "text/plain": [
       "0           574528.0\n",
       "1           574586.0\n",
       "2           574660.0\n",
       "3          1226456.0\n",
       "4          1226485.0\n",
       "             ...    \n",
       "229095    27494163.0\n",
       "229096    27524585.0\n",
       "229097    27542360.0\n",
       "229098    27565511.0\n",
       "229099    30128771.0\n",
       "Name: docdb_family_id, Length: 229100, dtype: float64"
      ]
     },
     "execution_count": 7,
     "metadata": {},
     "output_type": "execute_result"
    }
   ],
   "source": [
    "data['docdb_family_id']"
   ]
  },
  {
   "cell_type": "code",
   "execution_count": 8,
   "metadata": {},
   "outputs": [],
   "source": [
    "import os\n",
    "from dotenv import load_dotenv"
   ]
  },
  {
   "cell_type": "code",
   "execution_count": 9,
   "metadata": {},
   "outputs": [],
   "source": [
    "import mysql.connector"
   ]
  },
  {
   "cell_type": "code",
   "execution_count": 10,
   "metadata": {},
   "outputs": [],
   "source": [
    "load_dotenv()\n",
    "db_config = {\n",
    "    'host': os.getenv('DB_HOST'),\n",
    "    'user': os.getenv('DB_USER'),\n",
    "    'password': os.getenv('DB_PASSWORD'),\n",
    "    'database': os.getenv('DB_DATABASE')\n",
    "}"
   ]
  },
  {
   "cell_type": "code",
   "execution_count": null,
   "metadata": {},
   "outputs": [
    {
     "data": {
      "text/plain": [
       "True"
      ]
     },
     "execution_count": 11,
     "metadata": {},
     "output_type": "execute_result"
    }
   ],
   "source": [
    "#querying sql database to fetch citations\n",
    "conn = mysql.connector.connect(**db_config)\n",
    "family_ids=tuple(data['docdb_family_id'])\n",
    "cursor = conn.cursor(dictionary=True)\n",
    "query = f\"\"\"\n",
    "SELECT    \n",
    "\tdocdb_family_id,\n",
    "    JSON_ARRAYAGG(cited_docdb_family_id) AS cited_docdb_family_id\n",
    "FROM\n",
    "    patstat_s24.tls228_docdb_fam_citn\n",
    "WHERE\n",
    "    docdb_family_id IN {family_ids}\n",
    "GROUP BY \n",
    "    docdb_family_id;\n",
    "\"\"\"\n",
    "cursor.execute(query)\n",
    "results = cursor.fetchall()\n",
    "cursor.close()"
   ]
  },
  {
   "cell_type": "code",
   "execution_count": 12,
   "metadata": {},
   "outputs": [],
   "source": [
    "table2=pd.DataFrame(results)"
   ]
  },
  {
   "cell_type": "code",
   "execution_count": 13,
   "metadata": {},
   "outputs": [
    {
     "data": {
      "text/html": [
       "<div>\n",
       "<style scoped>\n",
       "    .dataframe tbody tr th:only-of-type {\n",
       "        vertical-align: middle;\n",
       "    }\n",
       "\n",
       "    .dataframe tbody tr th {\n",
       "        vertical-align: top;\n",
       "    }\n",
       "\n",
       "    .dataframe thead th {\n",
       "        text-align: right;\n",
       "    }\n",
       "</style>\n",
       "<table border=\"1\" class=\"dataframe\">\n",
       "  <thead>\n",
       "    <tr style=\"text-align: right;\">\n",
       "      <th></th>\n",
       "      <th>docdb_family_id</th>\n",
       "      <th>cited_docdb_family_id</th>\n",
       "    </tr>\n",
       "  </thead>\n",
       "  <tbody>\n",
       "    <tr>\n",
       "      <th>0</th>\n",
       "      <td>574528</td>\n",
       "      <td>[5970115, 6025659, 6695018, 8626155, 9303184, ...</td>\n",
       "    </tr>\n",
       "    <tr>\n",
       "      <th>1</th>\n",
       "      <td>574586</td>\n",
       "      <td>[2979913, 3291893, 6281119, 9513207, 21967964,...</td>\n",
       "    </tr>\n",
       "    <tr>\n",
       "      <th>2</th>\n",
       "      <td>574660</td>\n",
       "      <td>[5956195, 11260528, 22181831, 22437920, 226429...</td>\n",
       "    </tr>\n",
       "    <tr>\n",
       "      <th>3</th>\n",
       "      <td>1226456</td>\n",
       "      <td>[6248581, 8808809, 9247749, 9270571, 22049919,...</td>\n",
       "    </tr>\n",
       "    <tr>\n",
       "      <th>4</th>\n",
       "      <td>1226485</td>\n",
       "      <td>[6206849, 6328120, 20427850]</td>\n",
       "    </tr>\n",
       "  </tbody>\n",
       "</table>\n",
       "</div>"
      ],
      "text/plain": [
       "   docdb_family_id                              cited_docdb_family_id\n",
       "0           574528  [5970115, 6025659, 6695018, 8626155, 9303184, ...\n",
       "1           574586  [2979913, 3291893, 6281119, 9513207, 21967964,...\n",
       "2           574660  [5956195, 11260528, 22181831, 22437920, 226429...\n",
       "3          1226456  [6248581, 8808809, 9247749, 9270571, 22049919,...\n",
       "4          1226485                       [6206849, 6328120, 20427850]"
      ]
     },
     "execution_count": 13,
     "metadata": {},
     "output_type": "execute_result"
    }
   ],
   "source": [
    "table2.head()"
   ]
  },
  {
   "cell_type": "code",
   "execution_count": 14,
   "metadata": {},
   "outputs": [
    {
     "data": {
      "text/plain": [
       "228198"
      ]
     },
     "execution_count": 14,
     "metadata": {},
     "output_type": "execute_result"
    }
   ],
   "source": [
    "len(table2)"
   ]
  },
  {
   "cell_type": "code",
   "execution_count": 15,
   "metadata": {},
   "outputs": [
    {
     "data": {
      "text/html": [
       "<div>\n",
       "<style scoped>\n",
       "    .dataframe tbody tr th:only-of-type {\n",
       "        vertical-align: middle;\n",
       "    }\n",
       "\n",
       "    .dataframe tbody tr th {\n",
       "        vertical-align: top;\n",
       "    }\n",
       "\n",
       "    .dataframe thead th {\n",
       "        text-align: right;\n",
       "    }\n",
       "</style>\n",
       "<table border=\"1\" class=\"dataframe\">\n",
       "  <thead>\n",
       "    <tr style=\"text-align: right;\">\n",
       "      <th></th>\n",
       "      <th>docdb_family_id</th>\n",
       "      <th>earliest_pat_publn_id</th>\n",
       "      <th>earliest_filing_date</th>\n",
       "      <th>appln_auth</th>\n",
       "      <th>granted</th>\n",
       "      <th>similar_patents</th>\n",
       "      <th>num_unique_patents</th>\n",
       "    </tr>\n",
       "  </thead>\n",
       "  <tbody>\n",
       "    <tr>\n",
       "      <th>0</th>\n",
       "      <td>574528.0</td>\n",
       "      <td>307102421.0</td>\n",
       "      <td>1985-04-10</td>\n",
       "      <td>EP</td>\n",
       "      <td>Y</td>\n",
       "      <td>[(574528, 1.999717), (9306402, 1.9822814), (84...</td>\n",
       "      <td>2000</td>\n",
       "    </tr>\n",
       "    <tr>\n",
       "      <th>1</th>\n",
       "      <td>574586.0</td>\n",
       "      <td>387396319.0</td>\n",
       "      <td>1987-06-08</td>\n",
       "      <td>EP</td>\n",
       "      <td>Y</td>\n",
       "      <td>[(574586, 1.9997215), (63363761, 1.97839), (83...</td>\n",
       "      <td>2000</td>\n",
       "    </tr>\n",
       "    <tr>\n",
       "      <th>2</th>\n",
       "      <td>574660.0</td>\n",
       "      <td>387398325.0</td>\n",
       "      <td>1986-08-04</td>\n",
       "      <td>EP</td>\n",
       "      <td>Y</td>\n",
       "      <td>[(574660, 1.9997239), (6240233, 1.9768794), (2...</td>\n",
       "      <td>1658</td>\n",
       "    </tr>\n",
       "    <tr>\n",
       "      <th>3</th>\n",
       "      <td>1226456.0</td>\n",
       "      <td>303518198.0</td>\n",
       "      <td>1991-08-29</td>\n",
       "      <td>EP</td>\n",
       "      <td>Y</td>\n",
       "      <td>[(1226456, 1.9997258), (4856238, 1.9822338), (...</td>\n",
       "      <td>2000</td>\n",
       "    </tr>\n",
       "    <tr>\n",
       "      <th>4</th>\n",
       "      <td>1226485.0</td>\n",
       "      <td>302640285.0</td>\n",
       "      <td>1992-08-12</td>\n",
       "      <td>EP</td>\n",
       "      <td>Y</td>\n",
       "      <td>[(1226485, 1.9996202), (6328120, 1.987576), (2...</td>\n",
       "      <td>2000</td>\n",
       "    </tr>\n",
       "  </tbody>\n",
       "</table>\n",
       "</div>"
      ],
      "text/plain": [
       "   docdb_family_id  earliest_pat_publn_id earliest_filing_date appln_auth  \\\n",
       "0         574528.0            307102421.0           1985-04-10         EP   \n",
       "1         574586.0            387396319.0           1987-06-08         EP   \n",
       "2         574660.0            387398325.0           1986-08-04         EP   \n",
       "3        1226456.0            303518198.0           1991-08-29         EP   \n",
       "4        1226485.0            302640285.0           1992-08-12         EP   \n",
       "\n",
       "  granted                                    similar_patents  \\\n",
       "0       Y  [(574528, 1.999717), (9306402, 1.9822814), (84...   \n",
       "1       Y  [(574586, 1.9997215), (63363761, 1.97839), (83...   \n",
       "2       Y  [(574660, 1.9997239), (6240233, 1.9768794), (2...   \n",
       "3       Y  [(1226456, 1.9997258), (4856238, 1.9822338), (...   \n",
       "4       Y  [(1226485, 1.9996202), (6328120, 1.987576), (2...   \n",
       "\n",
       "   num_unique_patents  \n",
       "0                2000  \n",
       "1                2000  \n",
       "2                1658  \n",
       "3                2000  \n",
       "4                2000  "
      ]
     },
     "execution_count": 15,
     "metadata": {},
     "output_type": "execute_result"
    }
   ],
   "source": [
    "data.head()"
   ]
  },
  {
   "cell_type": "code",
   "execution_count": 16,
   "metadata": {},
   "outputs": [
    {
     "data": {
      "text/plain": [
       "229100"
      ]
     },
     "execution_count": 16,
     "metadata": {},
     "output_type": "execute_result"
    }
   ],
   "source": [
    "len(data)"
   ]
  },
  {
   "cell_type": "code",
   "execution_count": 17,
   "metadata": {},
   "outputs": [
    {
     "data": {
      "text/plain": [
       "902"
      ]
     },
     "execution_count": 17,
     "metadata": {},
     "output_type": "execute_result"
    }
   ],
   "source": [
    "229100-228198"
   ]
  },
  {
   "cell_type": "code",
   "execution_count": 18,
   "metadata": {},
   "outputs": [],
   "source": [
    "#902 families for which citations were not found"
   ]
  },
  {
   "cell_type": "code",
   "execution_count": 19,
   "metadata": {},
   "outputs": [],
   "source": [
    "data_with_citations = data.merge(table2, on='docdb_family_id', how='inner')"
   ]
  },
  {
   "cell_type": "code",
   "execution_count": 20,
   "metadata": {},
   "outputs": [
    {
     "data": {
      "text/html": [
       "<div>\n",
       "<style scoped>\n",
       "    .dataframe tbody tr th:only-of-type {\n",
       "        vertical-align: middle;\n",
       "    }\n",
       "\n",
       "    .dataframe tbody tr th {\n",
       "        vertical-align: top;\n",
       "    }\n",
       "\n",
       "    .dataframe thead th {\n",
       "        text-align: right;\n",
       "    }\n",
       "</style>\n",
       "<table border=\"1\" class=\"dataframe\">\n",
       "  <thead>\n",
       "    <tr style=\"text-align: right;\">\n",
       "      <th></th>\n",
       "      <th>docdb_family_id</th>\n",
       "      <th>earliest_pat_publn_id</th>\n",
       "      <th>earliest_filing_date</th>\n",
       "      <th>appln_auth</th>\n",
       "      <th>granted</th>\n",
       "      <th>similar_patents</th>\n",
       "      <th>num_unique_patents</th>\n",
       "      <th>cited_docdb_family_id</th>\n",
       "    </tr>\n",
       "  </thead>\n",
       "  <tbody>\n",
       "    <tr>\n",
       "      <th>0</th>\n",
       "      <td>574528.0</td>\n",
       "      <td>307102421.0</td>\n",
       "      <td>1985-04-10</td>\n",
       "      <td>EP</td>\n",
       "      <td>Y</td>\n",
       "      <td>[(574528, 1.999717), (9306402, 1.9822814), (84...</td>\n",
       "      <td>2000</td>\n",
       "      <td>[5970115, 6025659, 6695018, 8626155, 9303184, ...</td>\n",
       "    </tr>\n",
       "    <tr>\n",
       "      <th>1</th>\n",
       "      <td>574586.0</td>\n",
       "      <td>387396319.0</td>\n",
       "      <td>1987-06-08</td>\n",
       "      <td>EP</td>\n",
       "      <td>Y</td>\n",
       "      <td>[(574586, 1.9997215), (63363761, 1.97839), (83...</td>\n",
       "      <td>2000</td>\n",
       "      <td>[2979913, 3291893, 6281119, 9513207, 21967964,...</td>\n",
       "    </tr>\n",
       "    <tr>\n",
       "      <th>2</th>\n",
       "      <td>574660.0</td>\n",
       "      <td>387398325.0</td>\n",
       "      <td>1986-08-04</td>\n",
       "      <td>EP</td>\n",
       "      <td>Y</td>\n",
       "      <td>[(574660, 1.9997239), (6240233, 1.9768794), (2...</td>\n",
       "      <td>1658</td>\n",
       "      <td>[5956195, 11260528, 22181831, 22437920, 226429...</td>\n",
       "    </tr>\n",
       "    <tr>\n",
       "      <th>3</th>\n",
       "      <td>1226456.0</td>\n",
       "      <td>303518198.0</td>\n",
       "      <td>1991-08-29</td>\n",
       "      <td>EP</td>\n",
       "      <td>Y</td>\n",
       "      <td>[(1226456, 1.9997258), (4856238, 1.9822338), (...</td>\n",
       "      <td>2000</td>\n",
       "      <td>[6248581, 8808809, 9247749, 9270571, 22049919,...</td>\n",
       "    </tr>\n",
       "    <tr>\n",
       "      <th>4</th>\n",
       "      <td>1226485.0</td>\n",
       "      <td>302640285.0</td>\n",
       "      <td>1992-08-12</td>\n",
       "      <td>EP</td>\n",
       "      <td>Y</td>\n",
       "      <td>[(1226485, 1.9996202), (6328120, 1.987576), (2...</td>\n",
       "      <td>2000</td>\n",
       "      <td>[6206849, 6328120, 20427850]</td>\n",
       "    </tr>\n",
       "  </tbody>\n",
       "</table>\n",
       "</div>"
      ],
      "text/plain": [
       "   docdb_family_id  earliest_pat_publn_id earliest_filing_date appln_auth  \\\n",
       "0         574528.0            307102421.0           1985-04-10         EP   \n",
       "1         574586.0            387396319.0           1987-06-08         EP   \n",
       "2         574660.0            387398325.0           1986-08-04         EP   \n",
       "3        1226456.0            303518198.0           1991-08-29         EP   \n",
       "4        1226485.0            302640285.0           1992-08-12         EP   \n",
       "\n",
       "  granted                                    similar_patents  \\\n",
       "0       Y  [(574528, 1.999717), (9306402, 1.9822814), (84...   \n",
       "1       Y  [(574586, 1.9997215), (63363761, 1.97839), (83...   \n",
       "2       Y  [(574660, 1.9997239), (6240233, 1.9768794), (2...   \n",
       "3       Y  [(1226456, 1.9997258), (4856238, 1.9822338), (...   \n",
       "4       Y  [(1226485, 1.9996202), (6328120, 1.987576), (2...   \n",
       "\n",
       "   num_unique_patents                              cited_docdb_family_id  \n",
       "0                2000  [5970115, 6025659, 6695018, 8626155, 9303184, ...  \n",
       "1                2000  [2979913, 3291893, 6281119, 9513207, 21967964,...  \n",
       "2                1658  [5956195, 11260528, 22181831, 22437920, 226429...  \n",
       "3                2000  [6248581, 8808809, 9247749, 9270571, 22049919,...  \n",
       "4                2000                       [6206849, 6328120, 20427850]  "
      ]
     },
     "execution_count": 20,
     "metadata": {},
     "output_type": "execute_result"
    }
   ],
   "source": [
    "data_with_citations.head()"
   ]
  },
  {
   "cell_type": "code",
   "execution_count": null,
   "metadata": {},
   "outputs": [],
   "source": [
    "#storing patents along with citaions\n",
    "data_with_citations.to_pickle(\"25patents_with_citations.pkl\")"
   ]
  },
  {
   "cell_type": "code",
   "execution_count": 22,
   "metadata": {},
   "outputs": [
    {
     "data": {
      "text/plain": [
       "228198"
      ]
     },
     "execution_count": 22,
     "metadata": {},
     "output_type": "execute_result"
    }
   ],
   "source": [
    "len(data_with_citations)"
   ]
  },
  {
   "cell_type": "code",
   "execution_count": null,
   "metadata": {},
   "outputs": [
    {
     "data": {
      "text/html": [
       "<div>\n",
       "<style scoped>\n",
       "    .dataframe tbody tr th:only-of-type {\n",
       "        vertical-align: middle;\n",
       "    }\n",
       "\n",
       "    .dataframe tbody tr th {\n",
       "        vertical-align: top;\n",
       "    }\n",
       "\n",
       "    .dataframe thead th {\n",
       "        text-align: right;\n",
       "    }\n",
       "</style>\n",
       "<table border=\"1\" class=\"dataframe\">\n",
       "  <thead>\n",
       "    <tr style=\"text-align: right;\">\n",
       "      <th></th>\n",
       "      <th>docdb_family_id</th>\n",
       "      <th>earliest_pat_publn_id</th>\n",
       "      <th>earliest_filing_date</th>\n",
       "      <th>appln_auth</th>\n",
       "      <th>granted</th>\n",
       "      <th>similar_patents</th>\n",
       "      <th>num_unique_patents</th>\n",
       "      <th>cited_docdb_family_id</th>\n",
       "      <th>_merge</th>\n",
       "    </tr>\n",
       "  </thead>\n",
       "  <tbody>\n",
       "    <tr>\n",
       "      <th>0</th>\n",
       "      <td>574528.0</td>\n",
       "      <td>307102421.0</td>\n",
       "      <td>1985-04-10</td>\n",
       "      <td>EP</td>\n",
       "      <td>Y</td>\n",
       "      <td>[(574528, 1.999717), (9306402, 1.9822814), (84...</td>\n",
       "      <td>2000</td>\n",
       "      <td>[5970115, 6025659, 6695018, 8626155, 9303184, ...</td>\n",
       "      <td>both</td>\n",
       "    </tr>\n",
       "    <tr>\n",
       "      <th>1</th>\n",
       "      <td>574586.0</td>\n",
       "      <td>387396319.0</td>\n",
       "      <td>1987-06-08</td>\n",
       "      <td>EP</td>\n",
       "      <td>Y</td>\n",
       "      <td>[(574586, 1.9997215), (63363761, 1.97839), (83...</td>\n",
       "      <td>2000</td>\n",
       "      <td>[2979913, 3291893, 6281119, 9513207, 21967964,...</td>\n",
       "      <td>both</td>\n",
       "    </tr>\n",
       "    <tr>\n",
       "      <th>2</th>\n",
       "      <td>574660.0</td>\n",
       "      <td>387398325.0</td>\n",
       "      <td>1986-08-04</td>\n",
       "      <td>EP</td>\n",
       "      <td>Y</td>\n",
       "      <td>[(574660, 1.9997239), (6240233, 1.9768794), (2...</td>\n",
       "      <td>1658</td>\n",
       "      <td>[5956195, 11260528, 22181831, 22437920, 226429...</td>\n",
       "      <td>both</td>\n",
       "    </tr>\n",
       "    <tr>\n",
       "      <th>3</th>\n",
       "      <td>1226456.0</td>\n",
       "      <td>303518198.0</td>\n",
       "      <td>1991-08-29</td>\n",
       "      <td>EP</td>\n",
       "      <td>Y</td>\n",
       "      <td>[(1226456, 1.9997258), (4856238, 1.9822338), (...</td>\n",
       "      <td>2000</td>\n",
       "      <td>[6248581, 8808809, 9247749, 9270571, 22049919,...</td>\n",
       "      <td>both</td>\n",
       "    </tr>\n",
       "    <tr>\n",
       "      <th>4</th>\n",
       "      <td>1226485.0</td>\n",
       "      <td>302640285.0</td>\n",
       "      <td>1992-08-12</td>\n",
       "      <td>EP</td>\n",
       "      <td>Y</td>\n",
       "      <td>[(1226485, 1.9996202), (6328120, 1.987576), (2...</td>\n",
       "      <td>2000</td>\n",
       "      <td>[6206849, 6328120, 20427850]</td>\n",
       "      <td>both</td>\n",
       "    </tr>\n",
       "  </tbody>\n",
       "</table>\n",
       "</div>"
      ],
      "text/plain": [
       "   docdb_family_id  earliest_pat_publn_id earliest_filing_date appln_auth  \\\n",
       "0         574528.0            307102421.0           1985-04-10         EP   \n",
       "1         574586.0            387396319.0           1987-06-08         EP   \n",
       "2         574660.0            387398325.0           1986-08-04         EP   \n",
       "3        1226456.0            303518198.0           1991-08-29         EP   \n",
       "4        1226485.0            302640285.0           1992-08-12         EP   \n",
       "\n",
       "  granted                                    similar_patents  \\\n",
       "0       Y  [(574528, 1.999717), (9306402, 1.9822814), (84...   \n",
       "1       Y  [(574586, 1.9997215), (63363761, 1.97839), (83...   \n",
       "2       Y  [(574660, 1.9997239), (6240233, 1.9768794), (2...   \n",
       "3       Y  [(1226456, 1.9997258), (4856238, 1.9822338), (...   \n",
       "4       Y  [(1226485, 1.9996202), (6328120, 1.987576), (2...   \n",
       "\n",
       "   num_unique_patents                              cited_docdb_family_id  \\\n",
       "0                2000  [5970115, 6025659, 6695018, 8626155, 9303184, ...   \n",
       "1                2000  [2979913, 3291893, 6281119, 9513207, 21967964,...   \n",
       "2                1658  [5956195, 11260528, 22181831, 22437920, 226429...   \n",
       "3                2000  [6248581, 8808809, 9247749, 9270571, 22049919,...   \n",
       "4                2000                       [6206849, 6328120, 20427850]   \n",
       "\n",
       "  _merge  \n",
       "0   both  \n",
       "1   both  \n",
       "2   both  \n",
       "3   both  \n",
       "4   both  "
      ]
     },
     "execution_count": 23,
     "metadata": {},
     "output_type": "execute_result"
    }
   ],
   "source": [
    "#patents for which no citation was found\n",
    "result_df = data.merge(table2, on='docdb_family_id', how='left', indicator=True)\n",
    "result_df.head()"
   ]
  },
  {
   "cell_type": "code",
   "execution_count": 24,
   "metadata": {},
   "outputs": [],
   "source": [
    "data_no_citations=result_df[result_df['_merge']==\"left_only\"]"
   ]
  },
  {
   "cell_type": "code",
   "execution_count": 25,
   "metadata": {},
   "outputs": [
    {
     "name": "stderr",
     "output_type": "stream",
     "text": [
      "/tmp/ipykernel_665804/3604542973.py:1: SettingWithCopyWarning: \n",
      "A value is trying to be set on a copy of a slice from a DataFrame\n",
      "\n",
      "See the caveats in the documentation: https://pandas.pydata.org/pandas-docs/stable/user_guide/indexing.html#returning-a-view-versus-a-copy\n",
      "  data_no_citations.drop(columns='_merge',inplace=True)\n"
     ]
    }
   ],
   "source": [
    "data_no_citations.drop(columns='_merge',inplace=True)"
   ]
  },
  {
   "cell_type": "code",
   "execution_count": 26,
   "metadata": {},
   "outputs": [
    {
     "data": {
      "text/html": [
       "<div>\n",
       "<style scoped>\n",
       "    .dataframe tbody tr th:only-of-type {\n",
       "        vertical-align: middle;\n",
       "    }\n",
       "\n",
       "    .dataframe tbody tr th {\n",
       "        vertical-align: top;\n",
       "    }\n",
       "\n",
       "    .dataframe thead th {\n",
       "        text-align: right;\n",
       "    }\n",
       "</style>\n",
       "<table border=\"1\" class=\"dataframe\">\n",
       "  <thead>\n",
       "    <tr style=\"text-align: right;\">\n",
       "      <th></th>\n",
       "      <th>docdb_family_id</th>\n",
       "      <th>earliest_pat_publn_id</th>\n",
       "      <th>earliest_filing_date</th>\n",
       "      <th>appln_auth</th>\n",
       "      <th>granted</th>\n",
       "      <th>similar_patents</th>\n",
       "      <th>num_unique_patents</th>\n",
       "      <th>cited_docdb_family_id</th>\n",
       "    </tr>\n",
       "  </thead>\n",
       "  <tbody>\n",
       "    <tr>\n",
       "      <th>17</th>\n",
       "      <td>1340681.0</td>\n",
       "      <td>300828810.0</td>\n",
       "      <td>1991-12-21</td>\n",
       "      <td>EP</td>\n",
       "      <td>Y</td>\n",
       "      <td>[(6447919, 1.9997177), (9332406, 1.9764507), (...</td>\n",
       "      <td>2000</td>\n",
       "      <td>NaN</td>\n",
       "    </tr>\n",
       "    <tr>\n",
       "      <th>834</th>\n",
       "      <td>3503822.0</td>\n",
       "      <td>305636650.0</td>\n",
       "      <td>1987-04-16</td>\n",
       "      <td>EP</td>\n",
       "      <td>N</td>\n",
       "      <td>[(4292021, 1.9803829), (5942358, 1.9782984), (...</td>\n",
       "      <td>2000</td>\n",
       "      <td>NaN</td>\n",
       "    </tr>\n",
       "    <tr>\n",
       "      <th>1022</th>\n",
       "      <td>3510361.0</td>\n",
       "      <td>310256370.0</td>\n",
       "      <td>1980-03-07</td>\n",
       "      <td>EP</td>\n",
       "      <td>N</td>\n",
       "      <td>[(3510361, 1.9996486), (27560443, 1.9855101), ...</td>\n",
       "      <td>2000</td>\n",
       "      <td>NaN</td>\n",
       "    </tr>\n",
       "    <tr>\n",
       "      <th>1180</th>\n",
       "      <td>3515298.0</td>\n",
       "      <td>310056793.0</td>\n",
       "      <td>1981-04-01</td>\n",
       "      <td>EP</td>\n",
       "      <td>N</td>\n",
       "      <td>[(3515298, 1.999682), (22844228, 1.9752696), (...</td>\n",
       "      <td>2000</td>\n",
       "      <td>NaN</td>\n",
       "    </tr>\n",
       "    <tr>\n",
       "      <th>1982</th>\n",
       "      <td>3558565.0</td>\n",
       "      <td>288121670.0</td>\n",
       "      <td>2002-01-10</td>\n",
       "      <td>EP</td>\n",
       "      <td>N</td>\n",
       "      <td>[(3558565, 1.9997213), (7925896, 1.9898684), (...</td>\n",
       "      <td>2000</td>\n",
       "      <td>NaN</td>\n",
       "    </tr>\n",
       "  </tbody>\n",
       "</table>\n",
       "</div>"
      ],
      "text/plain": [
       "      docdb_family_id  earliest_pat_publn_id earliest_filing_date appln_auth  \\\n",
       "17          1340681.0            300828810.0           1991-12-21         EP   \n",
       "834         3503822.0            305636650.0           1987-04-16         EP   \n",
       "1022        3510361.0            310256370.0           1980-03-07         EP   \n",
       "1180        3515298.0            310056793.0           1981-04-01         EP   \n",
       "1982        3558565.0            288121670.0           2002-01-10         EP   \n",
       "\n",
       "     granted                                    similar_patents  \\\n",
       "17         Y  [(6447919, 1.9997177), (9332406, 1.9764507), (...   \n",
       "834        N  [(4292021, 1.9803829), (5942358, 1.9782984), (...   \n",
       "1022       N  [(3510361, 1.9996486), (27560443, 1.9855101), ...   \n",
       "1180       N  [(3515298, 1.999682), (22844228, 1.9752696), (...   \n",
       "1982       N  [(3558565, 1.9997213), (7925896, 1.9898684), (...   \n",
       "\n",
       "      num_unique_patents cited_docdb_family_id  \n",
       "17                  2000                   NaN  \n",
       "834                 2000                   NaN  \n",
       "1022                2000                   NaN  \n",
       "1180                2000                   NaN  \n",
       "1982                2000                   NaN  "
      ]
     },
     "execution_count": 26,
     "metadata": {},
     "output_type": "execute_result"
    }
   ],
   "source": [
    "data_no_citations.head()"
   ]
  },
  {
   "cell_type": "code",
   "execution_count": 27,
   "metadata": {},
   "outputs": [
    {
     "data": {
      "text/plain": [
       "902"
      ]
     },
     "execution_count": 27,
     "metadata": {},
     "output_type": "execute_result"
    }
   ],
   "source": [
    "len(data_no_citations)"
   ]
  },
  {
   "cell_type": "code",
   "execution_count": null,
   "metadata": {},
   "outputs": [],
   "source": [
    "data_no_citations.reset_index(drop=True).to_pickle(\"25patents_no_citations.pkl\")"
   ]
  },
  {
   "cell_type": "code",
   "execution_count": 29,
   "metadata": {},
   "outputs": [
    {
     "data": {
      "text/plain": [
       "228198"
      ]
     },
     "execution_count": 29,
     "metadata": {},
     "output_type": "execute_result"
    }
   ],
   "source": [
    "len(data_with_citations)"
   ]
  },
  {
   "cell_type": "code",
   "execution_count": 30,
   "metadata": {},
   "outputs": [
    {
     "data": {
      "text/plain": [
       "229100"
      ]
     },
     "execution_count": 30,
     "metadata": {},
     "output_type": "execute_result"
    }
   ],
   "source": [
    "228198+902"
   ]
  },
  {
   "cell_type": "code",
   "execution_count": null,
   "metadata": {},
   "outputs": [],
   "source": []
  }
 ],
 "metadata": {
  "kernelspec": {
   "display_name": "Python 3",
   "language": "python",
   "name": "python3"
  },
  "language_info": {
   "codemirror_mode": {
    "name": "ipython",
    "version": 3
   },
   "file_extension": ".py",
   "mimetype": "text/x-python",
   "name": "python",
   "nbconvert_exporter": "python",
   "pygments_lexer": "ipython3",
   "version": "3.10.12"
  }
 },
 "nbformat": 4,
 "nbformat_minor": 2
}
