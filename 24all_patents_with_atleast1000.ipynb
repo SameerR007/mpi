{
 "cells": [
  {
   "cell_type": "code",
   "execution_count": 1,
   "metadata": {},
   "outputs": [],
   "source": [
    "import pandas as pd"
   ]
  },
  {
   "cell_type": "code",
   "execution_count": null,
   "metadata": {},
   "outputs": [],
   "source": [
    "data1=pd.read_pickle(\"22patents_atleast1000.pkl\")"
   ]
  },
  {
   "cell_type": "code",
   "execution_count": null,
   "metadata": {},
   "outputs": [],
   "source": [
    "data2=pd.read_pickle(\"23patents_atleast1000_2.pkl\")\n",
    "data3=pd.read_pickle(\"23patents_atleast1000_3.pkl\")\n",
    "data4=pd.read_pickle(\"23patents_atleast1000_4.pkl\")"
   ]
  },
  {
   "cell_type": "code",
   "execution_count": 5,
   "metadata": {},
   "outputs": [],
   "source": [
    "data = pd.concat([data1, data2, data3, data4], axis=0, ignore_index=True)"
   ]
  },
  {
   "cell_type": "code",
   "execution_count": 6,
   "metadata": {},
   "outputs": [
    {
     "data": {
      "text/html": [
       "<div>\n",
       "<style scoped>\n",
       "    .dataframe tbody tr th:only-of-type {\n",
       "        vertical-align: middle;\n",
       "    }\n",
       "\n",
       "    .dataframe tbody tr th {\n",
       "        vertical-align: top;\n",
       "    }\n",
       "\n",
       "    .dataframe thead th {\n",
       "        text-align: right;\n",
       "    }\n",
       "</style>\n",
       "<table border=\"1\" class=\"dataframe\">\n",
       "  <thead>\n",
       "    <tr style=\"text-align: right;\">\n",
       "      <th></th>\n",
       "      <th>docdb_family_id</th>\n",
       "      <th>earliest_pat_publn_id</th>\n",
       "      <th>earliest_filing_date</th>\n",
       "      <th>appln_auth</th>\n",
       "      <th>granted</th>\n",
       "      <th>similar_patents</th>\n",
       "      <th>num_unique_patents</th>\n",
       "    </tr>\n",
       "  </thead>\n",
       "  <tbody>\n",
       "    <tr>\n",
       "      <th>0</th>\n",
       "      <td>574528.0</td>\n",
       "      <td>307102421.0</td>\n",
       "      <td>1985-04-10</td>\n",
       "      <td>EP</td>\n",
       "      <td>Y</td>\n",
       "      <td>[(574528, 1.999717), (9306402, 1.9822814), (84...</td>\n",
       "      <td>2000</td>\n",
       "    </tr>\n",
       "    <tr>\n",
       "      <th>1</th>\n",
       "      <td>574586.0</td>\n",
       "      <td>387396319.0</td>\n",
       "      <td>1987-06-08</td>\n",
       "      <td>EP</td>\n",
       "      <td>Y</td>\n",
       "      <td>[(574586, 1.9997215), (63363761, 1.97839), (83...</td>\n",
       "      <td>2000</td>\n",
       "    </tr>\n",
       "    <tr>\n",
       "      <th>2</th>\n",
       "      <td>574660.0</td>\n",
       "      <td>387398325.0</td>\n",
       "      <td>1986-08-04</td>\n",
       "      <td>EP</td>\n",
       "      <td>Y</td>\n",
       "      <td>[(574660, 1.9997239), (6240233, 1.9768794), (2...</td>\n",
       "      <td>1658</td>\n",
       "    </tr>\n",
       "    <tr>\n",
       "      <th>3</th>\n",
       "      <td>1226456.0</td>\n",
       "      <td>303518198.0</td>\n",
       "      <td>1991-08-29</td>\n",
       "      <td>EP</td>\n",
       "      <td>Y</td>\n",
       "      <td>[(1226456, 1.9997258), (4856238, 1.9822338), (...</td>\n",
       "      <td>2000</td>\n",
       "    </tr>\n",
       "    <tr>\n",
       "      <th>4</th>\n",
       "      <td>1226485.0</td>\n",
       "      <td>302640285.0</td>\n",
       "      <td>1992-08-12</td>\n",
       "      <td>EP</td>\n",
       "      <td>Y</td>\n",
       "      <td>[(1226485, 1.9996202), (6328120, 1.987576), (2...</td>\n",
       "      <td>2000</td>\n",
       "    </tr>\n",
       "  </tbody>\n",
       "</table>\n",
       "</div>"
      ],
      "text/plain": [
       "   docdb_family_id  earliest_pat_publn_id earliest_filing_date appln_auth  \\\n",
       "0         574528.0            307102421.0           1985-04-10         EP   \n",
       "1         574586.0            387396319.0           1987-06-08         EP   \n",
       "2         574660.0            387398325.0           1986-08-04         EP   \n",
       "3        1226456.0            303518198.0           1991-08-29         EP   \n",
       "4        1226485.0            302640285.0           1992-08-12         EP   \n",
       "\n",
       "  granted                                    similar_patents  \\\n",
       "0       Y  [(574528, 1.999717), (9306402, 1.9822814), (84...   \n",
       "1       Y  [(574586, 1.9997215), (63363761, 1.97839), (83...   \n",
       "2       Y  [(574660, 1.9997239), (6240233, 1.9768794), (2...   \n",
       "3       Y  [(1226456, 1.9997258), (4856238, 1.9822338), (...   \n",
       "4       Y  [(1226485, 1.9996202), (6328120, 1.987576), (2...   \n",
       "\n",
       "   num_unique_patents  \n",
       "0                2000  \n",
       "1                2000  \n",
       "2                1658  \n",
       "3                2000  \n",
       "4                2000  "
      ]
     },
     "execution_count": 6,
     "metadata": {},
     "output_type": "execute_result"
    }
   ],
   "source": [
    "data.head()"
   ]
  },
  {
   "cell_type": "code",
   "execution_count": 7,
   "metadata": {},
   "outputs": [
    {
     "data": {
      "text/plain": [
       "229100"
      ]
     },
     "execution_count": 7,
     "metadata": {},
     "output_type": "execute_result"
    }
   ],
   "source": [
    "len(data)"
   ]
  },
  {
   "cell_type": "code",
   "execution_count": null,
   "metadata": {},
   "outputs": [
    {
     "data": {
      "text/plain": [
       "182"
      ]
     },
     "execution_count": 8,
     "metadata": {},
     "output_type": "execute_result"
    }
   ],
   "source": [
    "len(pd.read_pickle(\"23patents_lessthan1000.pkl\"))+ len(pd.read_pickle(\"22patents_NotFound.pkl\"))"
   ]
  },
  {
   "cell_type": "code",
   "execution_count": 9,
   "metadata": {},
   "outputs": [
    {
     "data": {
      "text/plain": [
       "229282"
      ]
     },
     "execution_count": 9,
     "metadata": {},
     "output_type": "execute_result"
    }
   ],
   "source": [
    "229100+182"
   ]
  },
  {
   "cell_type": "code",
   "execution_count": null,
   "metadata": {},
   "outputs": [],
   "source": [
    "data.to_pickle(\"24all_patents_atleat1000.pkl\")"
   ]
  },
  {
   "cell_type": "code",
   "execution_count": null,
   "metadata": {},
   "outputs": [],
   "source": []
  }
 ],
 "metadata": {
  "kernelspec": {
   "display_name": "Python 3",
   "language": "python",
   "name": "python3"
  },
  "language_info": {
   "codemirror_mode": {
    "name": "ipython",
    "version": 3
   },
   "file_extension": ".py",
   "mimetype": "text/x-python",
   "name": "python",
   "nbconvert_exporter": "python",
   "pygments_lexer": "ipython3",
   "version": "3.10.12"
  }
 },
 "nbformat": 4,
 "nbformat_minor": 2
}
