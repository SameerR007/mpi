{
 "cells": [
  {
   "cell_type": "code",
   "execution_count": 139,
   "metadata": {},
   "outputs": [],
   "source": [
    "import pandas as pd"
   ]
  },
  {
   "cell_type": "code",
   "execution_count": 140,
   "metadata": {},
   "outputs": [],
   "source": [
    "data=pd.read_csv(\"final_data.csv\")"
   ]
  },
  {
   "cell_type": "code",
   "execution_count": 141,
   "metadata": {},
   "outputs": [
    {
     "data": {
      "text/html": [
       "<div>\n",
       "<style scoped>\n",
       "    .dataframe tbody tr th:only-of-type {\n",
       "        vertical-align: middle;\n",
       "    }\n",
       "\n",
       "    .dataframe tbody tr th {\n",
       "        vertical-align: top;\n",
       "    }\n",
       "\n",
       "    .dataframe thead th {\n",
       "        text-align: right;\n",
       "    }\n",
       "</style>\n",
       "<table border=\"1\" class=\"dataframe\">\n",
       "  <thead>\n",
       "    <tr style=\"text-align: right;\">\n",
       "      <th></th>\n",
       "      <th>key</th>\n",
       "      <th>appln_id</th>\n",
       "      <th>mainarea34</th>\n",
       "      <th>docdb_family_id</th>\n",
       "      <th>pat_publn_id</th>\n",
       "      <th>earliest_filing_date</th>\n",
       "      <th>appln_auth</th>\n",
       "      <th>granted</th>\n",
       "      <th>publn_auth</th>\n",
       "      <th>publn_nr</th>\n",
       "      <th>publn_kind</th>\n",
       "      <th>similar_patents</th>\n",
       "      <th>similar_patents_familyIDs</th>\n",
       "      <th>num_unique_familyIDs</th>\n",
       "    </tr>\n",
       "  </thead>\n",
       "  <tbody>\n",
       "    <tr>\n",
       "      <th>0</th>\n",
       "      <td>EP1321051A2</td>\n",
       "      <td>19</td>\n",
       "      <td>Other Fields</td>\n",
       "      <td>19188314.0</td>\n",
       "      <td>286949845.0</td>\n",
       "      <td>2001-12-21</td>\n",
       "      <td>EP</td>\n",
       "      <td>Y</td>\n",
       "      <td>EP</td>\n",
       "      <td>1321051</td>\n",
       "      <td>A2</td>\n",
       "      <td>['US5759163A', 'WO9410865A1', 'EP0664965A1', '...</td>\n",
       "      <td>['25279710', '25522562', '22699396', '22758306...</td>\n",
       "      <td>1854</td>\n",
       "    </tr>\n",
       "    <tr>\n",
       "      <th>1</th>\n",
       "      <td>EP1323868A1</td>\n",
       "      <td>20</td>\n",
       "      <td>Other Fields</td>\n",
       "      <td>19774416.0</td>\n",
       "      <td>287579451.0</td>\n",
       "      <td>2001-12-20</td>\n",
       "      <td>EP</td>\n",
       "      <td>Y</td>\n",
       "      <td>EP</td>\n",
       "      <td>1323868</td>\n",
       "      <td>A1</td>\n",
       "      <td>['EP0226251A1', 'EP0672795A1', 'WO8002359A1', ...</td>\n",
       "      <td>['19846985', '19863945', '6070111', '27544489'...</td>\n",
       "      <td>1899</td>\n",
       "    </tr>\n",
       "    <tr>\n",
       "      <th>2</th>\n",
       "      <td>EP1240845A1</td>\n",
       "      <td>23</td>\n",
       "      <td>Other Fields</td>\n",
       "      <td>8861213.0</td>\n",
       "      <td>289129312.0</td>\n",
       "      <td>2001-03-16</td>\n",
       "      <td>EP</td>\n",
       "      <td>Y</td>\n",
       "      <td>EP</td>\n",
       "      <td>1240845</td>\n",
       "      <td>A1</td>\n",
       "      <td>['WO0187245A3', 'WO0187245A2', 'US2002010556A1...</td>\n",
       "      <td>['27075299', '27075299', '24279046', '26914213...</td>\n",
       "      <td>1620</td>\n",
       "    </tr>\n",
       "    <tr>\n",
       "      <th>3</th>\n",
       "      <td>EP1452428A1</td>\n",
       "      <td>33</td>\n",
       "      <td>Mechanical engineering</td>\n",
       "      <td>19184257.0</td>\n",
       "      <td>287898353.0</td>\n",
       "      <td>2001-12-10</td>\n",
       "      <td>EP</td>\n",
       "      <td>Y</td>\n",
       "      <td>EP</td>\n",
       "      <td>1452428</td>\n",
       "      <td>A1</td>\n",
       "      <td>['US2004079004A1', 'WO03049990A1', 'EP1304282A...</td>\n",
       "      <td>['19184257', '19184257', '19140954', '18907837...</td>\n",
       "      <td>1837</td>\n",
       "    </tr>\n",
       "    <tr>\n",
       "      <th>4</th>\n",
       "      <td>EP1733650A1</td>\n",
       "      <td>76</td>\n",
       "      <td>Other Fields</td>\n",
       "      <td>35589510.0</td>\n",
       "      <td>279068442.0</td>\n",
       "      <td>2005-06-15</td>\n",
       "      <td>EP</td>\n",
       "      <td>Y</td>\n",
       "      <td>EP</td>\n",
       "      <td>1733650</td>\n",
       "      <td>A1</td>\n",
       "      <td>['WO9603606A1', 'EP0181477A2', 'WO9321868A1', ...</td>\n",
       "      <td>['3515062', '6247500', '3501175', '25076445', ...</td>\n",
       "      <td>1685</td>\n",
       "    </tr>\n",
       "  </tbody>\n",
       "</table>\n",
       "</div>"
      ],
      "text/plain": [
       "           key  appln_id              mainarea34  docdb_family_id  \\\n",
       "0  EP1321051A2        19            Other Fields       19188314.0   \n",
       "1  EP1323868A1        20            Other Fields       19774416.0   \n",
       "2  EP1240845A1        23            Other Fields        8861213.0   \n",
       "3  EP1452428A1        33  Mechanical engineering       19184257.0   \n",
       "4  EP1733650A1        76            Other Fields       35589510.0   \n",
       "\n",
       "   pat_publn_id earliest_filing_date appln_auth granted publn_auth  publn_nr  \\\n",
       "0   286949845.0           2001-12-21         EP       Y         EP   1321051   \n",
       "1   287579451.0           2001-12-20         EP       Y         EP   1323868   \n",
       "2   289129312.0           2001-03-16         EP       Y         EP   1240845   \n",
       "3   287898353.0           2001-12-10         EP       Y         EP   1452428   \n",
       "4   279068442.0           2005-06-15         EP       Y         EP   1733650   \n",
       "\n",
       "  publn_kind                                    similar_patents  \\\n",
       "0         A2  ['US5759163A', 'WO9410865A1', 'EP0664965A1', '...   \n",
       "1         A1  ['EP0226251A1', 'EP0672795A1', 'WO8002359A1', ...   \n",
       "2         A1  ['WO0187245A3', 'WO0187245A2', 'US2002010556A1...   \n",
       "3         A1  ['US2004079004A1', 'WO03049990A1', 'EP1304282A...   \n",
       "4         A1  ['WO9603606A1', 'EP0181477A2', 'WO9321868A1', ...   \n",
       "\n",
       "                           similar_patents_familyIDs  num_unique_familyIDs  \n",
       "0  ['25279710', '25522562', '22699396', '22758306...                  1854  \n",
       "1  ['19846985', '19863945', '6070111', '27544489'...                  1899  \n",
       "2  ['27075299', '27075299', '24279046', '26914213...                  1620  \n",
       "3  ['19184257', '19184257', '19140954', '18907837...                  1837  \n",
       "4  ['3515062', '6247500', '3501175', '25076445', ...                  1685  "
      ]
     },
     "execution_count": 141,
     "metadata": {},
     "output_type": "execute_result"
    }
   ],
   "source": [
    "data.head()"
   ]
  },
  {
   "cell_type": "code",
   "execution_count": 142,
   "metadata": {},
   "outputs": [],
   "source": [
    "import os\n",
    "from dotenv import load_dotenv"
   ]
  },
  {
   "cell_type": "code",
   "execution_count": 143,
   "metadata": {},
   "outputs": [],
   "source": [
    "import mysql.connector"
   ]
  },
  {
   "cell_type": "code",
   "execution_count": 144,
   "metadata": {},
   "outputs": [],
   "source": [
    "load_dotenv()\n",
    "db_config = {\n",
    "    'host': os.getenv('DB_HOST'),\n",
    "    'user': os.getenv('DB_USER'),\n",
    "    'password': os.getenv('DB_PASSWORD'),\n",
    "    'database': os.getenv('DB_DATABASE')\n",
    "}"
   ]
  },
  {
   "cell_type": "code",
   "execution_count": 145,
   "metadata": {},
   "outputs": [
    {
     "data": {
      "text/plain": [
       "0         19188314.0\n",
       "1         19774416.0\n",
       "2          8861213.0\n",
       "3         19184257.0\n",
       "4         35589510.0\n",
       "             ...    \n",
       "124101    18225474.0\n",
       "124102    18500622.0\n",
       "124103    12004924.0\n",
       "124104    15170543.0\n",
       "124105    17518030.0\n",
       "Name: docdb_family_id, Length: 124106, dtype: float64"
      ]
     },
     "execution_count": 145,
     "metadata": {},
     "output_type": "execute_result"
    }
   ],
   "source": [
    "data['docdb_family_id']"
   ]
  },
  {
   "cell_type": "code",
   "execution_count": 146,
   "metadata": {},
   "outputs": [
    {
     "data": {
      "text/plain": [
       "True"
      ]
     },
     "execution_count": 146,
     "metadata": {},
     "output_type": "execute_result"
    }
   ],
   "source": [
    "conn = mysql.connector.connect(**db_config)\n",
    "family_ids=tuple(data['docdb_family_id'])\n",
    "cursor = conn.cursor(dictionary=True)\n",
    "query = f\"\"\"\n",
    "SELECT    \n",
    "\tdocdb_family_id,\n",
    "    JSON_ARRAYAGG(cited_docdb_family_id) AS cited_docdb_family_id\n",
    "FROM\n",
    "    patstat_s24.tls228_docdb_fam_citn\n",
    "WHERE\n",
    "    docdb_family_id IN {family_ids}\n",
    "GROUP BY \n",
    "    docdb_family_id;\n",
    "\"\"\"\n",
    "cursor.execute(query)\n",
    "results = cursor.fetchall()\n",
    "cursor.close()"
   ]
  },
  {
   "cell_type": "code",
   "execution_count": 147,
   "metadata": {},
   "outputs": [],
   "source": [
    "table2=pd.DataFrame(results)"
   ]
  },
  {
   "cell_type": "code",
   "execution_count": 148,
   "metadata": {},
   "outputs": [
    {
     "data": {
      "text/html": [
       "<div>\n",
       "<style scoped>\n",
       "    .dataframe tbody tr th:only-of-type {\n",
       "        vertical-align: middle;\n",
       "    }\n",
       "\n",
       "    .dataframe tbody tr th {\n",
       "        vertical-align: top;\n",
       "    }\n",
       "\n",
       "    .dataframe thead th {\n",
       "        text-align: right;\n",
       "    }\n",
       "</style>\n",
       "<table border=\"1\" class=\"dataframe\">\n",
       "  <thead>\n",
       "    <tr style=\"text-align: right;\">\n",
       "      <th></th>\n",
       "      <th>docdb_family_id</th>\n",
       "      <th>cited_docdb_family_id</th>\n",
       "    </tr>\n",
       "  </thead>\n",
       "  <tbody>\n",
       "    <tr>\n",
       "      <th>0</th>\n",
       "      <td>1239749</td>\n",
       "      <td>[6245732, 6270984, 6282047, 6313094, 6323632, ...</td>\n",
       "    </tr>\n",
       "    <tr>\n",
       "      <th>1</th>\n",
       "      <td>3411930</td>\n",
       "      <td>[13183030, 14441561, 14972801, 15124933, 15899...</td>\n",
       "    </tr>\n",
       "    <tr>\n",
       "      <th>2</th>\n",
       "      <td>3460833</td>\n",
       "      <td>[9116146, 23355200]</td>\n",
       "    </tr>\n",
       "    <tr>\n",
       "      <th>3</th>\n",
       "      <td>3460835</td>\n",
       "      <td>[22189292, 23471917, 24374969, 25442511]</td>\n",
       "    </tr>\n",
       "    <tr>\n",
       "      <th>4</th>\n",
       "      <td>3460912</td>\n",
       "      <td>[8274171, 20166258, 22433470, 22661073, 227366...</td>\n",
       "    </tr>\n",
       "  </tbody>\n",
       "</table>\n",
       "</div>"
      ],
      "text/plain": [
       "   docdb_family_id                              cited_docdb_family_id\n",
       "0          1239749  [6245732, 6270984, 6282047, 6313094, 6323632, ...\n",
       "1          3411930  [13183030, 14441561, 14972801, 15124933, 15899...\n",
       "2          3460833                                [9116146, 23355200]\n",
       "3          3460835           [22189292, 23471917, 24374969, 25442511]\n",
       "4          3460912  [8274171, 20166258, 22433470, 22661073, 227366..."
      ]
     },
     "execution_count": 148,
     "metadata": {},
     "output_type": "execute_result"
    }
   ],
   "source": [
    "table2.head()"
   ]
  },
  {
   "cell_type": "code",
   "execution_count": 149,
   "metadata": {},
   "outputs": [
    {
     "data": {
      "text/plain": [
       "123317"
      ]
     },
     "execution_count": 149,
     "metadata": {},
     "output_type": "execute_result"
    }
   ],
   "source": [
    "len(table2)"
   ]
  },
  {
   "cell_type": "code",
   "execution_count": 150,
   "metadata": {},
   "outputs": [
    {
     "data": {
      "text/html": [
       "<div>\n",
       "<style scoped>\n",
       "    .dataframe tbody tr th:only-of-type {\n",
       "        vertical-align: middle;\n",
       "    }\n",
       "\n",
       "    .dataframe tbody tr th {\n",
       "        vertical-align: top;\n",
       "    }\n",
       "\n",
       "    .dataframe thead th {\n",
       "        text-align: right;\n",
       "    }\n",
       "</style>\n",
       "<table border=\"1\" class=\"dataframe\">\n",
       "  <thead>\n",
       "    <tr style=\"text-align: right;\">\n",
       "      <th></th>\n",
       "      <th>key</th>\n",
       "      <th>appln_id</th>\n",
       "      <th>mainarea34</th>\n",
       "      <th>docdb_family_id</th>\n",
       "      <th>pat_publn_id</th>\n",
       "      <th>earliest_filing_date</th>\n",
       "      <th>appln_auth</th>\n",
       "      <th>granted</th>\n",
       "      <th>publn_auth</th>\n",
       "      <th>publn_nr</th>\n",
       "      <th>publn_kind</th>\n",
       "      <th>similar_patents</th>\n",
       "      <th>similar_patents_familyIDs</th>\n",
       "      <th>num_unique_familyIDs</th>\n",
       "    </tr>\n",
       "  </thead>\n",
       "  <tbody>\n",
       "    <tr>\n",
       "      <th>0</th>\n",
       "      <td>EP1321051A2</td>\n",
       "      <td>19</td>\n",
       "      <td>Other Fields</td>\n",
       "      <td>19188314.0</td>\n",
       "      <td>286949845.0</td>\n",
       "      <td>2001-12-21</td>\n",
       "      <td>EP</td>\n",
       "      <td>Y</td>\n",
       "      <td>EP</td>\n",
       "      <td>1321051</td>\n",
       "      <td>A2</td>\n",
       "      <td>['US5759163A', 'WO9410865A1', 'EP0664965A1', '...</td>\n",
       "      <td>['25279710', '25522562', '22699396', '22758306...</td>\n",
       "      <td>1854</td>\n",
       "    </tr>\n",
       "    <tr>\n",
       "      <th>1</th>\n",
       "      <td>EP1323868A1</td>\n",
       "      <td>20</td>\n",
       "      <td>Other Fields</td>\n",
       "      <td>19774416.0</td>\n",
       "      <td>287579451.0</td>\n",
       "      <td>2001-12-20</td>\n",
       "      <td>EP</td>\n",
       "      <td>Y</td>\n",
       "      <td>EP</td>\n",
       "      <td>1323868</td>\n",
       "      <td>A1</td>\n",
       "      <td>['EP0226251A1', 'EP0672795A1', 'WO8002359A1', ...</td>\n",
       "      <td>['19846985', '19863945', '6070111', '27544489'...</td>\n",
       "      <td>1899</td>\n",
       "    </tr>\n",
       "    <tr>\n",
       "      <th>2</th>\n",
       "      <td>EP1240845A1</td>\n",
       "      <td>23</td>\n",
       "      <td>Other Fields</td>\n",
       "      <td>8861213.0</td>\n",
       "      <td>289129312.0</td>\n",
       "      <td>2001-03-16</td>\n",
       "      <td>EP</td>\n",
       "      <td>Y</td>\n",
       "      <td>EP</td>\n",
       "      <td>1240845</td>\n",
       "      <td>A1</td>\n",
       "      <td>['WO0187245A3', 'WO0187245A2', 'US2002010556A1...</td>\n",
       "      <td>['27075299', '27075299', '24279046', '26914213...</td>\n",
       "      <td>1620</td>\n",
       "    </tr>\n",
       "    <tr>\n",
       "      <th>3</th>\n",
       "      <td>EP1452428A1</td>\n",
       "      <td>33</td>\n",
       "      <td>Mechanical engineering</td>\n",
       "      <td>19184257.0</td>\n",
       "      <td>287898353.0</td>\n",
       "      <td>2001-12-10</td>\n",
       "      <td>EP</td>\n",
       "      <td>Y</td>\n",
       "      <td>EP</td>\n",
       "      <td>1452428</td>\n",
       "      <td>A1</td>\n",
       "      <td>['US2004079004A1', 'WO03049990A1', 'EP1304282A...</td>\n",
       "      <td>['19184257', '19184257', '19140954', '18907837...</td>\n",
       "      <td>1837</td>\n",
       "    </tr>\n",
       "    <tr>\n",
       "      <th>4</th>\n",
       "      <td>EP1733650A1</td>\n",
       "      <td>76</td>\n",
       "      <td>Other Fields</td>\n",
       "      <td>35589510.0</td>\n",
       "      <td>279068442.0</td>\n",
       "      <td>2005-06-15</td>\n",
       "      <td>EP</td>\n",
       "      <td>Y</td>\n",
       "      <td>EP</td>\n",
       "      <td>1733650</td>\n",
       "      <td>A1</td>\n",
       "      <td>['WO9603606A1', 'EP0181477A2', 'WO9321868A1', ...</td>\n",
       "      <td>['3515062', '6247500', '3501175', '25076445', ...</td>\n",
       "      <td>1685</td>\n",
       "    </tr>\n",
       "  </tbody>\n",
       "</table>\n",
       "</div>"
      ],
      "text/plain": [
       "           key  appln_id              mainarea34  docdb_family_id  \\\n",
       "0  EP1321051A2        19            Other Fields       19188314.0   \n",
       "1  EP1323868A1        20            Other Fields       19774416.0   \n",
       "2  EP1240845A1        23            Other Fields        8861213.0   \n",
       "3  EP1452428A1        33  Mechanical engineering       19184257.0   \n",
       "4  EP1733650A1        76            Other Fields       35589510.0   \n",
       "\n",
       "   pat_publn_id earliest_filing_date appln_auth granted publn_auth  publn_nr  \\\n",
       "0   286949845.0           2001-12-21         EP       Y         EP   1321051   \n",
       "1   287579451.0           2001-12-20         EP       Y         EP   1323868   \n",
       "2   289129312.0           2001-03-16         EP       Y         EP   1240845   \n",
       "3   287898353.0           2001-12-10         EP       Y         EP   1452428   \n",
       "4   279068442.0           2005-06-15         EP       Y         EP   1733650   \n",
       "\n",
       "  publn_kind                                    similar_patents  \\\n",
       "0         A2  ['US5759163A', 'WO9410865A1', 'EP0664965A1', '...   \n",
       "1         A1  ['EP0226251A1', 'EP0672795A1', 'WO8002359A1', ...   \n",
       "2         A1  ['WO0187245A3', 'WO0187245A2', 'US2002010556A1...   \n",
       "3         A1  ['US2004079004A1', 'WO03049990A1', 'EP1304282A...   \n",
       "4         A1  ['WO9603606A1', 'EP0181477A2', 'WO9321868A1', ...   \n",
       "\n",
       "                           similar_patents_familyIDs  num_unique_familyIDs  \n",
       "0  ['25279710', '25522562', '22699396', '22758306...                  1854  \n",
       "1  ['19846985', '19863945', '6070111', '27544489'...                  1899  \n",
       "2  ['27075299', '27075299', '24279046', '26914213...                  1620  \n",
       "3  ['19184257', '19184257', '19140954', '18907837...                  1837  \n",
       "4  ['3515062', '6247500', '3501175', '25076445', ...                  1685  "
      ]
     },
     "execution_count": 150,
     "metadata": {},
     "output_type": "execute_result"
    }
   ],
   "source": [
    "data.head()"
   ]
  },
  {
   "cell_type": "code",
   "execution_count": 151,
   "metadata": {},
   "outputs": [
    {
     "data": {
      "text/plain": [
       "124106"
      ]
     },
     "execution_count": 151,
     "metadata": {},
     "output_type": "execute_result"
    }
   ],
   "source": [
    "len(data)"
   ]
  },
  {
   "cell_type": "code",
   "execution_count": 152,
   "metadata": {},
   "outputs": [
    {
     "data": {
      "text/plain": [
       "789"
      ]
     },
     "execution_count": 152,
     "metadata": {},
     "output_type": "execute_result"
    }
   ],
   "source": [
    "124106-123317"
   ]
  },
  {
   "cell_type": "code",
   "execution_count": 153,
   "metadata": {},
   "outputs": [],
   "source": [
    "#789 families for which citations were not found"
   ]
  },
  {
   "cell_type": "code",
   "execution_count": 155,
   "metadata": {},
   "outputs": [],
   "source": [
    "data_with_citations = data.merge(table2, on='docdb_family_id', how='inner')"
   ]
  },
  {
   "cell_type": "code",
   "execution_count": 156,
   "metadata": {},
   "outputs": [
    {
     "data": {
      "text/html": [
       "<div>\n",
       "<style scoped>\n",
       "    .dataframe tbody tr th:only-of-type {\n",
       "        vertical-align: middle;\n",
       "    }\n",
       "\n",
       "    .dataframe tbody tr th {\n",
       "        vertical-align: top;\n",
       "    }\n",
       "\n",
       "    .dataframe thead th {\n",
       "        text-align: right;\n",
       "    }\n",
       "</style>\n",
       "<table border=\"1\" class=\"dataframe\">\n",
       "  <thead>\n",
       "    <tr style=\"text-align: right;\">\n",
       "      <th></th>\n",
       "      <th>key</th>\n",
       "      <th>appln_id</th>\n",
       "      <th>mainarea34</th>\n",
       "      <th>docdb_family_id</th>\n",
       "      <th>pat_publn_id</th>\n",
       "      <th>earliest_filing_date</th>\n",
       "      <th>appln_auth</th>\n",
       "      <th>granted</th>\n",
       "      <th>publn_auth</th>\n",
       "      <th>publn_nr</th>\n",
       "      <th>publn_kind</th>\n",
       "      <th>similar_patents</th>\n",
       "      <th>similar_patents_familyIDs</th>\n",
       "      <th>num_unique_familyIDs</th>\n",
       "      <th>cited_docdb_family_id</th>\n",
       "    </tr>\n",
       "  </thead>\n",
       "  <tbody>\n",
       "    <tr>\n",
       "      <th>0</th>\n",
       "      <td>EP1321051A2</td>\n",
       "      <td>19</td>\n",
       "      <td>Other Fields</td>\n",
       "      <td>19188314.0</td>\n",
       "      <td>286949845.0</td>\n",
       "      <td>2001-12-21</td>\n",
       "      <td>EP</td>\n",
       "      <td>Y</td>\n",
       "      <td>EP</td>\n",
       "      <td>1321051</td>\n",
       "      <td>A2</td>\n",
       "      <td>['US5759163A', 'WO9410865A1', 'EP0664965A1', '...</td>\n",
       "      <td>['25279710', '25522562', '22699396', '22758306...</td>\n",
       "      <td>1854</td>\n",
       "      <td>[14362760, 14548413, 15480922, 17158120, 18647...</td>\n",
       "    </tr>\n",
       "    <tr>\n",
       "      <th>1</th>\n",
       "      <td>EP1323868A1</td>\n",
       "      <td>20</td>\n",
       "      <td>Other Fields</td>\n",
       "      <td>19774416.0</td>\n",
       "      <td>287579451.0</td>\n",
       "      <td>2001-12-20</td>\n",
       "      <td>EP</td>\n",
       "      <td>Y</td>\n",
       "      <td>EP</td>\n",
       "      <td>1323868</td>\n",
       "      <td>A1</td>\n",
       "      <td>['EP0226251A1', 'EP0672795A1', 'WO8002359A1', ...</td>\n",
       "      <td>['19846985', '19863945', '6070111', '27544489'...</td>\n",
       "      <td>1899</td>\n",
       "      <td>[12053764, 14053006, 16624311, 19863945]</td>\n",
       "    </tr>\n",
       "    <tr>\n",
       "      <th>2</th>\n",
       "      <td>EP1240845A1</td>\n",
       "      <td>23</td>\n",
       "      <td>Other Fields</td>\n",
       "      <td>8861213.0</td>\n",
       "      <td>289129312.0</td>\n",
       "      <td>2001-03-16</td>\n",
       "      <td>EP</td>\n",
       "      <td>Y</td>\n",
       "      <td>EP</td>\n",
       "      <td>1240845</td>\n",
       "      <td>A1</td>\n",
       "      <td>['WO0187245A3', 'WO0187245A2', 'US2002010556A1...</td>\n",
       "      <td>['27075299', '27075299', '24279046', '26914213...</td>\n",
       "      <td>1620</td>\n",
       "      <td>[7880649, 9350696, 9492399, 21776916, 21828725...</td>\n",
       "    </tr>\n",
       "    <tr>\n",
       "      <th>3</th>\n",
       "      <td>EP1452428A1</td>\n",
       "      <td>33</td>\n",
       "      <td>Mechanical engineering</td>\n",
       "      <td>19184257.0</td>\n",
       "      <td>287898353.0</td>\n",
       "      <td>2001-12-10</td>\n",
       "      <td>EP</td>\n",
       "      <td>Y</td>\n",
       "      <td>EP</td>\n",
       "      <td>1452428</td>\n",
       "      <td>A1</td>\n",
       "      <td>['US2004079004A1', 'WO03049990A1', 'EP1304282A...</td>\n",
       "      <td>['19184257', '19184257', '19140954', '18907837...</td>\n",
       "      <td>1837</td>\n",
       "      <td>[3400054, 11582783, 12442126, 12462676, 142157...</td>\n",
       "    </tr>\n",
       "    <tr>\n",
       "      <th>4</th>\n",
       "      <td>EP1733650A1</td>\n",
       "      <td>76</td>\n",
       "      <td>Other Fields</td>\n",
       "      <td>35589510.0</td>\n",
       "      <td>279068442.0</td>\n",
       "      <td>2005-06-15</td>\n",
       "      <td>EP</td>\n",
       "      <td>Y</td>\n",
       "      <td>EP</td>\n",
       "      <td>1733650</td>\n",
       "      <td>A1</td>\n",
       "      <td>['WO9603606A1', 'EP0181477A2', 'WO9321868A1', ...</td>\n",
       "      <td>['3515062', '6247500', '3501175', '25076445', ...</td>\n",
       "      <td>1685</td>\n",
       "      <td>[5930934, 10786628, 10798844, 10839944, 186096...</td>\n",
       "    </tr>\n",
       "  </tbody>\n",
       "</table>\n",
       "</div>"
      ],
      "text/plain": [
       "           key  appln_id              mainarea34  docdb_family_id  \\\n",
       "0  EP1321051A2        19            Other Fields       19188314.0   \n",
       "1  EP1323868A1        20            Other Fields       19774416.0   \n",
       "2  EP1240845A1        23            Other Fields        8861213.0   \n",
       "3  EP1452428A1        33  Mechanical engineering       19184257.0   \n",
       "4  EP1733650A1        76            Other Fields       35589510.0   \n",
       "\n",
       "   pat_publn_id earliest_filing_date appln_auth granted publn_auth  publn_nr  \\\n",
       "0   286949845.0           2001-12-21         EP       Y         EP   1321051   \n",
       "1   287579451.0           2001-12-20         EP       Y         EP   1323868   \n",
       "2   289129312.0           2001-03-16         EP       Y         EP   1240845   \n",
       "3   287898353.0           2001-12-10         EP       Y         EP   1452428   \n",
       "4   279068442.0           2005-06-15         EP       Y         EP   1733650   \n",
       "\n",
       "  publn_kind                                    similar_patents  \\\n",
       "0         A2  ['US5759163A', 'WO9410865A1', 'EP0664965A1', '...   \n",
       "1         A1  ['EP0226251A1', 'EP0672795A1', 'WO8002359A1', ...   \n",
       "2         A1  ['WO0187245A3', 'WO0187245A2', 'US2002010556A1...   \n",
       "3         A1  ['US2004079004A1', 'WO03049990A1', 'EP1304282A...   \n",
       "4         A1  ['WO9603606A1', 'EP0181477A2', 'WO9321868A1', ...   \n",
       "\n",
       "                           similar_patents_familyIDs  num_unique_familyIDs  \\\n",
       "0  ['25279710', '25522562', '22699396', '22758306...                  1854   \n",
       "1  ['19846985', '19863945', '6070111', '27544489'...                  1899   \n",
       "2  ['27075299', '27075299', '24279046', '26914213...                  1620   \n",
       "3  ['19184257', '19184257', '19140954', '18907837...                  1837   \n",
       "4  ['3515062', '6247500', '3501175', '25076445', ...                  1685   \n",
       "\n",
       "                               cited_docdb_family_id  \n",
       "0  [14362760, 14548413, 15480922, 17158120, 18647...  \n",
       "1           [12053764, 14053006, 16624311, 19863945]  \n",
       "2  [7880649, 9350696, 9492399, 21776916, 21828725...  \n",
       "3  [3400054, 11582783, 12442126, 12462676, 142157...  \n",
       "4  [5930934, 10786628, 10798844, 10839944, 186096...  "
      ]
     },
     "execution_count": 156,
     "metadata": {},
     "output_type": "execute_result"
    }
   ],
   "source": [
    "data_with_citations.head()"
   ]
  },
  {
   "cell_type": "code",
   "execution_count": 162,
   "metadata": {},
   "outputs": [],
   "source": [
    "data_with_citations.to_csv(\"data_with_citations.csv\",index=False)"
   ]
  },
  {
   "cell_type": "code",
   "execution_count": 157,
   "metadata": {},
   "outputs": [
    {
     "data": {
      "text/plain": [
       "123317"
      ]
     },
     "execution_count": 157,
     "metadata": {},
     "output_type": "execute_result"
    }
   ],
   "source": [
    "len(data_with_citations)"
   ]
  },
  {
   "cell_type": "code",
   "execution_count": 158,
   "metadata": {},
   "outputs": [
    {
     "data": {
      "text/html": [
       "<div>\n",
       "<style scoped>\n",
       "    .dataframe tbody tr th:only-of-type {\n",
       "        vertical-align: middle;\n",
       "    }\n",
       "\n",
       "    .dataframe tbody tr th {\n",
       "        vertical-align: top;\n",
       "    }\n",
       "\n",
       "    .dataframe thead th {\n",
       "        text-align: right;\n",
       "    }\n",
       "</style>\n",
       "<table border=\"1\" class=\"dataframe\">\n",
       "  <thead>\n",
       "    <tr style=\"text-align: right;\">\n",
       "      <th></th>\n",
       "      <th>key</th>\n",
       "      <th>appln_id</th>\n",
       "      <th>mainarea34</th>\n",
       "      <th>docdb_family_id</th>\n",
       "      <th>pat_publn_id</th>\n",
       "      <th>earliest_filing_date</th>\n",
       "      <th>appln_auth</th>\n",
       "      <th>granted</th>\n",
       "      <th>publn_auth</th>\n",
       "      <th>publn_nr</th>\n",
       "      <th>publn_kind</th>\n",
       "      <th>similar_patents</th>\n",
       "      <th>similar_patents_familyIDs</th>\n",
       "      <th>num_unique_familyIDs</th>\n",
       "      <th>cited_docdb_family_id</th>\n",
       "      <th>_merge</th>\n",
       "    </tr>\n",
       "  </thead>\n",
       "  <tbody>\n",
       "    <tr>\n",
       "      <th>0</th>\n",
       "      <td>EP1321051A2</td>\n",
       "      <td>19</td>\n",
       "      <td>Other Fields</td>\n",
       "      <td>19188314.0</td>\n",
       "      <td>286949845.0</td>\n",
       "      <td>2001-12-21</td>\n",
       "      <td>EP</td>\n",
       "      <td>Y</td>\n",
       "      <td>EP</td>\n",
       "      <td>1321051</td>\n",
       "      <td>A2</td>\n",
       "      <td>['US5759163A', 'WO9410865A1', 'EP0664965A1', '...</td>\n",
       "      <td>['25279710', '25522562', '22699396', '22758306...</td>\n",
       "      <td>1854</td>\n",
       "      <td>[14362760, 14548413, 15480922, 17158120, 18647...</td>\n",
       "      <td>both</td>\n",
       "    </tr>\n",
       "    <tr>\n",
       "      <th>1</th>\n",
       "      <td>EP1323868A1</td>\n",
       "      <td>20</td>\n",
       "      <td>Other Fields</td>\n",
       "      <td>19774416.0</td>\n",
       "      <td>287579451.0</td>\n",
       "      <td>2001-12-20</td>\n",
       "      <td>EP</td>\n",
       "      <td>Y</td>\n",
       "      <td>EP</td>\n",
       "      <td>1323868</td>\n",
       "      <td>A1</td>\n",
       "      <td>['EP0226251A1', 'EP0672795A1', 'WO8002359A1', ...</td>\n",
       "      <td>['19846985', '19863945', '6070111', '27544489'...</td>\n",
       "      <td>1899</td>\n",
       "      <td>[12053764, 14053006, 16624311, 19863945]</td>\n",
       "      <td>both</td>\n",
       "    </tr>\n",
       "    <tr>\n",
       "      <th>2</th>\n",
       "      <td>EP1240845A1</td>\n",
       "      <td>23</td>\n",
       "      <td>Other Fields</td>\n",
       "      <td>8861213.0</td>\n",
       "      <td>289129312.0</td>\n",
       "      <td>2001-03-16</td>\n",
       "      <td>EP</td>\n",
       "      <td>Y</td>\n",
       "      <td>EP</td>\n",
       "      <td>1240845</td>\n",
       "      <td>A1</td>\n",
       "      <td>['WO0187245A3', 'WO0187245A2', 'US2002010556A1...</td>\n",
       "      <td>['27075299', '27075299', '24279046', '26914213...</td>\n",
       "      <td>1620</td>\n",
       "      <td>[7880649, 9350696, 9492399, 21776916, 21828725...</td>\n",
       "      <td>both</td>\n",
       "    </tr>\n",
       "    <tr>\n",
       "      <th>3</th>\n",
       "      <td>EP1452428A1</td>\n",
       "      <td>33</td>\n",
       "      <td>Mechanical engineering</td>\n",
       "      <td>19184257.0</td>\n",
       "      <td>287898353.0</td>\n",
       "      <td>2001-12-10</td>\n",
       "      <td>EP</td>\n",
       "      <td>Y</td>\n",
       "      <td>EP</td>\n",
       "      <td>1452428</td>\n",
       "      <td>A1</td>\n",
       "      <td>['US2004079004A1', 'WO03049990A1', 'EP1304282A...</td>\n",
       "      <td>['19184257', '19184257', '19140954', '18907837...</td>\n",
       "      <td>1837</td>\n",
       "      <td>[3400054, 11582783, 12442126, 12462676, 142157...</td>\n",
       "      <td>both</td>\n",
       "    </tr>\n",
       "    <tr>\n",
       "      <th>4</th>\n",
       "      <td>EP1733650A1</td>\n",
       "      <td>76</td>\n",
       "      <td>Other Fields</td>\n",
       "      <td>35589510.0</td>\n",
       "      <td>279068442.0</td>\n",
       "      <td>2005-06-15</td>\n",
       "      <td>EP</td>\n",
       "      <td>Y</td>\n",
       "      <td>EP</td>\n",
       "      <td>1733650</td>\n",
       "      <td>A1</td>\n",
       "      <td>['WO9603606A1', 'EP0181477A2', 'WO9321868A1', ...</td>\n",
       "      <td>['3515062', '6247500', '3501175', '25076445', ...</td>\n",
       "      <td>1685</td>\n",
       "      <td>[5930934, 10786628, 10798844, 10839944, 186096...</td>\n",
       "      <td>both</td>\n",
       "    </tr>\n",
       "  </tbody>\n",
       "</table>\n",
       "</div>"
      ],
      "text/plain": [
       "           key  appln_id              mainarea34  docdb_family_id  \\\n",
       "0  EP1321051A2        19            Other Fields       19188314.0   \n",
       "1  EP1323868A1        20            Other Fields       19774416.0   \n",
       "2  EP1240845A1        23            Other Fields        8861213.0   \n",
       "3  EP1452428A1        33  Mechanical engineering       19184257.0   \n",
       "4  EP1733650A1        76            Other Fields       35589510.0   \n",
       "\n",
       "   pat_publn_id earliest_filing_date appln_auth granted publn_auth  publn_nr  \\\n",
       "0   286949845.0           2001-12-21         EP       Y         EP   1321051   \n",
       "1   287579451.0           2001-12-20         EP       Y         EP   1323868   \n",
       "2   289129312.0           2001-03-16         EP       Y         EP   1240845   \n",
       "3   287898353.0           2001-12-10         EP       Y         EP   1452428   \n",
       "4   279068442.0           2005-06-15         EP       Y         EP   1733650   \n",
       "\n",
       "  publn_kind                                    similar_patents  \\\n",
       "0         A2  ['US5759163A', 'WO9410865A1', 'EP0664965A1', '...   \n",
       "1         A1  ['EP0226251A1', 'EP0672795A1', 'WO8002359A1', ...   \n",
       "2         A1  ['WO0187245A3', 'WO0187245A2', 'US2002010556A1...   \n",
       "3         A1  ['US2004079004A1', 'WO03049990A1', 'EP1304282A...   \n",
       "4         A1  ['WO9603606A1', 'EP0181477A2', 'WO9321868A1', ...   \n",
       "\n",
       "                           similar_patents_familyIDs  num_unique_familyIDs  \\\n",
       "0  ['25279710', '25522562', '22699396', '22758306...                  1854   \n",
       "1  ['19846985', '19863945', '6070111', '27544489'...                  1899   \n",
       "2  ['27075299', '27075299', '24279046', '26914213...                  1620   \n",
       "3  ['19184257', '19184257', '19140954', '18907837...                  1837   \n",
       "4  ['3515062', '6247500', '3501175', '25076445', ...                  1685   \n",
       "\n",
       "                               cited_docdb_family_id _merge  \n",
       "0  [14362760, 14548413, 15480922, 17158120, 18647...   both  \n",
       "1           [12053764, 14053006, 16624311, 19863945]   both  \n",
       "2  [7880649, 9350696, 9492399, 21776916, 21828725...   both  \n",
       "3  [3400054, 11582783, 12442126, 12462676, 142157...   both  \n",
       "4  [5930934, 10786628, 10798844, 10839944, 186096...   both  "
      ]
     },
     "execution_count": 158,
     "metadata": {},
     "output_type": "execute_result"
    }
   ],
   "source": [
    "result_df = data.merge(table2, on='docdb_family_id', how='left', indicator=True)\n",
    "result_df.head()"
   ]
  },
  {
   "cell_type": "code",
   "execution_count": 159,
   "metadata": {},
   "outputs": [],
   "source": [
    "data_no_citations=result_df[result_df['_merge']==\"left_only\"]"
   ]
  },
  {
   "cell_type": "code",
   "execution_count": 172,
   "metadata": {},
   "outputs": [
    {
     "name": "stderr",
     "output_type": "stream",
     "text": [
      "/tmp/ipykernel_31040/3604542973.py:1: SettingWithCopyWarning: \n",
      "A value is trying to be set on a copy of a slice from a DataFrame\n",
      "\n",
      "See the caveats in the documentation: https://pandas.pydata.org/pandas-docs/stable/user_guide/indexing.html#returning-a-view-versus-a-copy\n",
      "  data_no_citations.drop(columns='_merge',inplace=True)\n"
     ]
    }
   ],
   "source": [
    "data_no_citations.drop(columns='_merge',inplace=True)"
   ]
  },
  {
   "cell_type": "code",
   "execution_count": 173,
   "metadata": {},
   "outputs": [
    {
     "data": {
      "text/html": [
       "<div>\n",
       "<style scoped>\n",
       "    .dataframe tbody tr th:only-of-type {\n",
       "        vertical-align: middle;\n",
       "    }\n",
       "\n",
       "    .dataframe tbody tr th {\n",
       "        vertical-align: top;\n",
       "    }\n",
       "\n",
       "    .dataframe thead th {\n",
       "        text-align: right;\n",
       "    }\n",
       "</style>\n",
       "<table border=\"1\" class=\"dataframe\">\n",
       "  <thead>\n",
       "    <tr style=\"text-align: right;\">\n",
       "      <th></th>\n",
       "      <th>key</th>\n",
       "      <th>appln_id</th>\n",
       "      <th>mainarea34</th>\n",
       "      <th>docdb_family_id</th>\n",
       "      <th>pat_publn_id</th>\n",
       "      <th>earliest_filing_date</th>\n",
       "      <th>appln_auth</th>\n",
       "      <th>granted</th>\n",
       "      <th>publn_auth</th>\n",
       "      <th>publn_nr</th>\n",
       "      <th>publn_kind</th>\n",
       "      <th>similar_patents</th>\n",
       "      <th>similar_patents_familyIDs</th>\n",
       "      <th>num_unique_familyIDs</th>\n",
       "      <th>cited_docdb_family_id</th>\n",
       "    </tr>\n",
       "  </thead>\n",
       "  <tbody>\n",
       "    <tr>\n",
       "      <th>18</th>\n",
       "      <td>EP2000606A2</td>\n",
       "      <td>221</td>\n",
       "      <td>Other Fields</td>\n",
       "      <td>38513906.0</td>\n",
       "      <td>55346442.0</td>\n",
       "      <td>2007-06-05</td>\n",
       "      <td>EP</td>\n",
       "      <td>N</td>\n",
       "      <td>EP</td>\n",
       "      <td>2000606</td>\n",
       "      <td>A2</td>\n",
       "      <td>['US2008115442A1', 'WO2004067871A1', 'WO016900...</td>\n",
       "      <td>['29721397', '29721397', '9887732', '6820748',...</td>\n",
       "      <td>1582</td>\n",
       "      <td>NaN</td>\n",
       "    </tr>\n",
       "    <tr>\n",
       "      <th>173</th>\n",
       "      <td>EP2116392A2</td>\n",
       "      <td>3008</td>\n",
       "      <td>Other Fields</td>\n",
       "      <td>40303316.0</td>\n",
       "      <td>272999459.0</td>\n",
       "      <td>2008-05-06</td>\n",
       "      <td>EP</td>\n",
       "      <td>N</td>\n",
       "      <td>EP</td>\n",
       "      <td>2116392</td>\n",
       "      <td>A2</td>\n",
       "      <td>['EP0540390A1', 'EP0723946A1', 'EP0437662A1', ...</td>\n",
       "      <td>['9418402', '8002620', '8203512', '8871134', '...</td>\n",
       "      <td>1528</td>\n",
       "      <td>NaN</td>\n",
       "    </tr>\n",
       "    <tr>\n",
       "      <th>182</th>\n",
       "      <td>EP2002763A2</td>\n",
       "      <td>3083</td>\n",
       "      <td>Other Fields</td>\n",
       "      <td>38319065.0</td>\n",
       "      <td>275571493.0</td>\n",
       "      <td>2007-06-11</td>\n",
       "      <td>EP</td>\n",
       "      <td>N</td>\n",
       "      <td>EP</td>\n",
       "      <td>2002763</td>\n",
       "      <td>A2</td>\n",
       "      <td>['EP0302191A1', 'EP1120356A1', 'EP0269757A1', ...</td>\n",
       "      <td>['22019756', '8174092', '8195628', '24520931',...</td>\n",
       "      <td>1660</td>\n",
       "      <td>NaN</td>\n",
       "    </tr>\n",
       "    <tr>\n",
       "      <th>198</th>\n",
       "      <td>EP2003277A2</td>\n",
       "      <td>3216</td>\n",
       "      <td>Other Fields</td>\n",
       "      <td>39832251.0</td>\n",
       "      <td>275591766.0</td>\n",
       "      <td>2007-02-28</td>\n",
       "      <td>EP</td>\n",
       "      <td>N</td>\n",
       "      <td>EP</td>\n",
       "      <td>2003277</td>\n",
       "      <td>A2</td>\n",
       "      <td>['US5250765A', 'US2006137136A1', 'US2008178422...</td>\n",
       "      <td>['15604072', '36609685', '36609685', '34269607...</td>\n",
       "      <td>1509</td>\n",
       "      <td>NaN</td>\n",
       "    </tr>\n",
       "    <tr>\n",
       "      <th>219</th>\n",
       "      <td>EP2009198A2</td>\n",
       "      <td>3607</td>\n",
       "      <td>Other Fields</td>\n",
       "      <td>39791540.0</td>\n",
       "      <td>55535689.0</td>\n",
       "      <td>2007-06-25</td>\n",
       "      <td>EP</td>\n",
       "      <td>N</td>\n",
       "      <td>EP</td>\n",
       "      <td>2009198</td>\n",
       "      <td>A2</td>\n",
       "      <td>['US2006157302A1', 'WO2004025049A1', 'WO870697...</td>\n",
       "      <td>['31987574', '31987574', '25334975', '36685611...</td>\n",
       "      <td>1617</td>\n",
       "      <td>NaN</td>\n",
       "    </tr>\n",
       "  </tbody>\n",
       "</table>\n",
       "</div>"
      ],
      "text/plain": [
       "             key  appln_id    mainarea34  docdb_family_id  pat_publn_id  \\\n",
       "18   EP2000606A2       221  Other Fields       38513906.0    55346442.0   \n",
       "173  EP2116392A2      3008  Other Fields       40303316.0   272999459.0   \n",
       "182  EP2002763A2      3083  Other Fields       38319065.0   275571493.0   \n",
       "198  EP2003277A2      3216  Other Fields       39832251.0   275591766.0   \n",
       "219  EP2009198A2      3607  Other Fields       39791540.0    55535689.0   \n",
       "\n",
       "    earliest_filing_date appln_auth granted publn_auth  publn_nr publn_kind  \\\n",
       "18            2007-06-05         EP       N         EP   2000606         A2   \n",
       "173           2008-05-06         EP       N         EP   2116392         A2   \n",
       "182           2007-06-11         EP       N         EP   2002763         A2   \n",
       "198           2007-02-28         EP       N         EP   2003277         A2   \n",
       "219           2007-06-25         EP       N         EP   2009198         A2   \n",
       "\n",
       "                                       similar_patents  \\\n",
       "18   ['US2008115442A1', 'WO2004067871A1', 'WO016900...   \n",
       "173  ['EP0540390A1', 'EP0723946A1', 'EP0437662A1', ...   \n",
       "182  ['EP0302191A1', 'EP1120356A1', 'EP0269757A1', ...   \n",
       "198  ['US5250765A', 'US2006137136A1', 'US2008178422...   \n",
       "219  ['US2006157302A1', 'WO2004025049A1', 'WO870697...   \n",
       "\n",
       "                             similar_patents_familyIDs  num_unique_familyIDs  \\\n",
       "18   ['29721397', '29721397', '9887732', '6820748',...                  1582   \n",
       "173  ['9418402', '8002620', '8203512', '8871134', '...                  1528   \n",
       "182  ['22019756', '8174092', '8195628', '24520931',...                  1660   \n",
       "198  ['15604072', '36609685', '36609685', '34269607...                  1509   \n",
       "219  ['31987574', '31987574', '25334975', '36685611...                  1617   \n",
       "\n",
       "    cited_docdb_family_id  \n",
       "18                    NaN  \n",
       "173                   NaN  \n",
       "182                   NaN  \n",
       "198                   NaN  \n",
       "219                   NaN  "
      ]
     },
     "execution_count": 173,
     "metadata": {},
     "output_type": "execute_result"
    }
   ],
   "source": [
    "data_no_citations.head()"
   ]
  },
  {
   "cell_type": "code",
   "execution_count": 174,
   "metadata": {},
   "outputs": [
    {
     "data": {
      "text/plain": [
       "789"
      ]
     },
     "execution_count": 174,
     "metadata": {},
     "output_type": "execute_result"
    }
   ],
   "source": [
    "len(data_no_citations)"
   ]
  },
  {
   "cell_type": "code",
   "execution_count": 175,
   "metadata": {},
   "outputs": [],
   "source": [
    "data_no_citations.to_csv(\"data_no_citations.csv\",index=False)"
   ]
  },
  {
   "cell_type": "code",
   "execution_count": null,
   "metadata": {},
   "outputs": [],
   "source": [
    "#data with citations stored in data_with_citations.csv\n",
    "#789 families with no citations stored in data_no_citations.csv\n",
    "#query- should we store the unique similar family ids and unique cited family ids in a different column"
   ]
  },
  {
   "cell_type": "code",
   "execution_count": 176,
   "metadata": {},
   "outputs": [
    {
     "data": {
      "text/plain": [
       "124106"
      ]
     },
     "execution_count": 176,
     "metadata": {},
     "output_type": "execute_result"
    }
   ],
   "source": [
    "123317+789"
   ]
  },
  {
   "cell_type": "code",
   "execution_count": 177,
   "metadata": {},
   "outputs": [
    {
     "data": {
      "text/plain": [
       "Index(['key', 'appln_id', 'mainarea34', 'docdb_family_id', 'pat_publn_id',\n",
       "       'earliest_filing_date', 'appln_auth', 'granted', 'publn_auth',\n",
       "       'publn_nr', 'publn_kind', 'similar_patents',\n",
       "       'similar_patents_familyIDs', 'num_unique_familyIDs'],\n",
       "      dtype='object')"
      ]
     },
     "execution_count": 177,
     "metadata": {},
     "output_type": "execute_result"
    }
   ],
   "source": [
    "data.columns"
   ]
  },
  {
   "cell_type": "code",
   "execution_count": 178,
   "metadata": {},
   "outputs": [
    {
     "data": {
      "text/plain": [
       "14"
      ]
     },
     "execution_count": 178,
     "metadata": {},
     "output_type": "execute_result"
    }
   ],
   "source": [
    "len(data.columns)"
   ]
  },
  {
   "cell_type": "code",
   "execution_count": 179,
   "metadata": {},
   "outputs": [
    {
     "data": {
      "text/plain": [
       "Index(['key', 'appln_id', 'mainarea34', 'docdb_family_id', 'pat_publn_id',\n",
       "       'earliest_filing_date', 'appln_auth', 'granted', 'publn_auth',\n",
       "       'publn_nr', 'publn_kind', 'similar_patents',\n",
       "       'similar_patents_familyIDs', 'num_unique_familyIDs',\n",
       "       'cited_docdb_family_id'],\n",
       "      dtype='object')"
      ]
     },
     "execution_count": 179,
     "metadata": {},
     "output_type": "execute_result"
    }
   ],
   "source": [
    "data_no_citations.columns"
   ]
  },
  {
   "cell_type": "code",
   "execution_count": 180,
   "metadata": {},
   "outputs": [
    {
     "data": {
      "text/plain": [
       "15"
      ]
     },
     "execution_count": 180,
     "metadata": {},
     "output_type": "execute_result"
    }
   ],
   "source": [
    "len(data_no_citations.columns)"
   ]
  },
  {
   "cell_type": "code",
   "execution_count": 181,
   "metadata": {},
   "outputs": [
    {
     "data": {
      "text/plain": [
       "Index(['key', 'appln_id', 'mainarea34', 'docdb_family_id', 'pat_publn_id',\n",
       "       'earliest_filing_date', 'appln_auth', 'granted', 'publn_auth',\n",
       "       'publn_nr', 'publn_kind', 'similar_patents',\n",
       "       'similar_patents_familyIDs', 'num_unique_familyIDs',\n",
       "       'cited_docdb_family_id'],\n",
       "      dtype='object')"
      ]
     },
     "execution_count": 181,
     "metadata": {},
     "output_type": "execute_result"
    }
   ],
   "source": [
    "data_with_citations.columns"
   ]
  },
  {
   "cell_type": "code",
   "execution_count": 182,
   "metadata": {},
   "outputs": [
    {
     "data": {
      "text/plain": [
       "15"
      ]
     },
     "execution_count": 182,
     "metadata": {},
     "output_type": "execute_result"
    }
   ],
   "source": [
    "len(data_with_citations.columns)"
   ]
  },
  {
   "cell_type": "code",
   "execution_count": 1,
   "metadata": {},
   "outputs": [],
   "source": [
    "import pandas as pd"
   ]
  },
  {
   "cell_type": "code",
   "execution_count": 3,
   "metadata": {},
   "outputs": [],
   "source": [
    "dd=pd.read_csv(\"data_with_citations.csv\")"
   ]
  },
  {
   "cell_type": "code",
   "execution_count": null,
   "metadata": {},
   "outputs": [],
   "source": [
    "dd.head()"
   ]
  },
  {
   "cell_type": "code",
   "execution_count": null,
   "metadata": {},
   "outputs": [],
   "source": []
  }
 ],
 "metadata": {
  "kernelspec": {
   "display_name": "Python 3",
   "language": "python",
   "name": "python3"
  },
  "language_info": {
   "codemirror_mode": {
    "name": "ipython",
    "version": 3
   },
   "file_extension": ".py",
   "mimetype": "text/x-python",
   "name": "python",
   "nbconvert_exporter": "python",
   "pygments_lexer": "ipython3",
   "version": "3.10.12"
  }
 },
 "nbformat": 4,
 "nbformat_minor": 2
}
