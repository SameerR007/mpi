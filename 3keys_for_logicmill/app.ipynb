{
 "cells": [
  {
   "cell_type": "code",
   "execution_count": 1,
   "metadata": {},
   "outputs": [],
   "source": [
    "import pandas as pd"
   ]
  },
  {
   "cell_type": "code",
   "execution_count": 2,
   "metadata": {},
   "outputs": [],
   "source": [
    "data=pd.read_csv(\"patstat_pat_no.csv\")"
   ]
  },
  {
   "cell_type": "code",
   "execution_count": 3,
   "metadata": {},
   "outputs": [
    {
     "data": {
      "text/html": [
       "<div>\n",
       "<style scoped>\n",
       "    .dataframe tbody tr th:only-of-type {\n",
       "        vertical-align: middle;\n",
       "    }\n",
       "\n",
       "    .dataframe tbody tr th {\n",
       "        vertical-align: top;\n",
       "    }\n",
       "\n",
       "    .dataframe thead th {\n",
       "        text-align: right;\n",
       "    }\n",
       "</style>\n",
       "<table border=\"1\" class=\"dataframe\">\n",
       "  <thead>\n",
       "    <tr style=\"text-align: right;\">\n",
       "      <th></th>\n",
       "      <th>docdb_family_id</th>\n",
       "      <th>earliest_pat_publn_id</th>\n",
       "      <th>earliest_filing_date</th>\n",
       "      <th>appln_auth</th>\n",
       "      <th>granted</th>\n",
       "    </tr>\n",
       "  </thead>\n",
       "  <tbody>\n",
       "    <tr>\n",
       "      <th>0</th>\n",
       "      <td>574528.0</td>\n",
       "      <td>307102421.0</td>\n",
       "      <td>1985-04-10</td>\n",
       "      <td>EP</td>\n",
       "      <td>Y</td>\n",
       "    </tr>\n",
       "    <tr>\n",
       "      <th>1</th>\n",
       "      <td>574586.0</td>\n",
       "      <td>387396319.0</td>\n",
       "      <td>1987-06-08</td>\n",
       "      <td>EP</td>\n",
       "      <td>Y</td>\n",
       "    </tr>\n",
       "    <tr>\n",
       "      <th>2</th>\n",
       "      <td>574660.0</td>\n",
       "      <td>387398325.0</td>\n",
       "      <td>1986-08-04</td>\n",
       "      <td>EP</td>\n",
       "      <td>Y</td>\n",
       "    </tr>\n",
       "    <tr>\n",
       "      <th>3</th>\n",
       "      <td>1226456.0</td>\n",
       "      <td>303518198.0</td>\n",
       "      <td>1991-08-29</td>\n",
       "      <td>EP</td>\n",
       "      <td>Y</td>\n",
       "    </tr>\n",
       "    <tr>\n",
       "      <th>4</th>\n",
       "      <td>1226485.0</td>\n",
       "      <td>302640285.0</td>\n",
       "      <td>1992-08-12</td>\n",
       "      <td>EP</td>\n",
       "      <td>Y</td>\n",
       "    </tr>\n",
       "  </tbody>\n",
       "</table>\n",
       "</div>"
      ],
      "text/plain": [
       "   docdb_family_id  earliest_pat_publn_id earliest_filing_date appln_auth  \\\n",
       "0         574528.0            307102421.0           1985-04-10         EP   \n",
       "1         574586.0            387396319.0           1987-06-08         EP   \n",
       "2         574660.0            387398325.0           1986-08-04         EP   \n",
       "3        1226456.0            303518198.0           1991-08-29         EP   \n",
       "4        1226485.0            302640285.0           1992-08-12         EP   \n",
       "\n",
       "  granted  \n",
       "0       Y  \n",
       "1       Y  \n",
       "2       Y  \n",
       "3       Y  \n",
       "4       Y  "
      ]
     },
     "execution_count": 3,
     "metadata": {},
     "output_type": "execute_result"
    }
   ],
   "source": [
    "data.head()"
   ]
  },
  {
   "cell_type": "code",
   "execution_count": 4,
   "metadata": {},
   "outputs": [],
   "source": [
    "import mysql.connector"
   ]
  },
  {
   "cell_type": "code",
   "execution_count": 5,
   "metadata": {},
   "outputs": [],
   "source": [
    "import os\n",
    "from dotenv import load_dotenv"
   ]
  },
  {
   "cell_type": "code",
   "execution_count": 6,
   "metadata": {},
   "outputs": [],
   "source": [
    "load_dotenv()\n",
    "db_config = {\n",
    "    'host': os.getenv('DB_HOST'),\n",
    "    'user': os.getenv('DB_USER'),\n",
    "    'password': os.getenv('DB_PASSWORD'),\n",
    "    'database': os.getenv('DB_DATABASE')\n",
    "}"
   ]
  },
  {
   "cell_type": "code",
   "execution_count": null,
   "metadata": {},
   "outputs": [
    {
     "data": {
      "text/plain": [
       "True"
      ]
     },
     "execution_count": 7,
     "metadata": {},
     "output_type": "execute_result"
    }
   ],
   "source": [
    "#for each of the representative patent fetch publn_auth, publn_nr and publn_kind to form key that can be passed into logic mill.\n",
    "conn = mysql.connector.connect(**db_config)\n",
    "pat_publn_ids=tuple(data['earliest_pat_publn_id'])\n",
    "cursor = conn.cursor(dictionary=True)\n",
    "query = f\"\"\"\n",
    "SELECT    \n",
    "\tt1.pat_publn_id,\n",
    "    t1.publn_auth,\n",
    "    t1.publn_nr,\n",
    "    t1.publn_kind\n",
    "FROM\n",
    "    patstat_s24.tls211_pat_publn t1\n",
    "WHERE\n",
    "    t1.pat_publn_id IN {pat_publn_ids};\n",
    "\"\"\"\n",
    "cursor.execute(query)\n",
    "results = cursor.fetchall()\n",
    "cursor.close()"
   ]
  },
  {
   "cell_type": "code",
   "execution_count": 8,
   "metadata": {},
   "outputs": [],
   "source": [
    "data2=pd.DataFrame(results)"
   ]
  },
  {
   "cell_type": "code",
   "execution_count": 9,
   "metadata": {},
   "outputs": [
    {
     "data": {
      "text/html": [
       "<div>\n",
       "<style scoped>\n",
       "    .dataframe tbody tr th:only-of-type {\n",
       "        vertical-align: middle;\n",
       "    }\n",
       "\n",
       "    .dataframe tbody tr th {\n",
       "        vertical-align: top;\n",
       "    }\n",
       "\n",
       "    .dataframe thead th {\n",
       "        text-align: right;\n",
       "    }\n",
       "</style>\n",
       "<table border=\"1\" class=\"dataframe\">\n",
       "  <thead>\n",
       "    <tr style=\"text-align: right;\">\n",
       "      <th></th>\n",
       "      <th>pat_publn_id</th>\n",
       "      <th>publn_auth</th>\n",
       "      <th>publn_nr</th>\n",
       "      <th>publn_kind</th>\n",
       "    </tr>\n",
       "  </thead>\n",
       "  <tbody>\n",
       "    <tr>\n",
       "      <th>0</th>\n",
       "      <td>312062057</td>\n",
       "      <td>EP</td>\n",
       "      <td>0000003</td>\n",
       "      <td>A1</td>\n",
       "    </tr>\n",
       "    <tr>\n",
       "      <th>1</th>\n",
       "      <td>311747672</td>\n",
       "      <td>EP</td>\n",
       "      <td>0000004</td>\n",
       "      <td>A1</td>\n",
       "    </tr>\n",
       "    <tr>\n",
       "      <th>2</th>\n",
       "      <td>311822150</td>\n",
       "      <td>EP</td>\n",
       "      <td>0000031</td>\n",
       "      <td>A1</td>\n",
       "    </tr>\n",
       "    <tr>\n",
       "      <th>3</th>\n",
       "      <td>311825145</td>\n",
       "      <td>EP</td>\n",
       "      <td>0000040</td>\n",
       "      <td>A1</td>\n",
       "    </tr>\n",
       "    <tr>\n",
       "      <th>4</th>\n",
       "      <td>312062132</td>\n",
       "      <td>EP</td>\n",
       "      <td>0000067</td>\n",
       "      <td>A1</td>\n",
       "    </tr>\n",
       "  </tbody>\n",
       "</table>\n",
       "</div>"
      ],
      "text/plain": [
       "   pat_publn_id publn_auth publn_nr publn_kind\n",
       "0     312062057         EP  0000003         A1\n",
       "1     311747672         EP  0000004         A1\n",
       "2     311822150         EP  0000031         A1\n",
       "3     311825145         EP  0000040         A1\n",
       "4     312062132         EP  0000067         A1"
      ]
     },
     "execution_count": 9,
     "metadata": {},
     "output_type": "execute_result"
    }
   ],
   "source": [
    "data2.head()"
   ]
  },
  {
   "cell_type": "code",
   "execution_count": 10,
   "metadata": {},
   "outputs": [
    {
     "data": {
      "text/html": [
       "<div>\n",
       "<style scoped>\n",
       "    .dataframe tbody tr th:only-of-type {\n",
       "        vertical-align: middle;\n",
       "    }\n",
       "\n",
       "    .dataframe tbody tr th {\n",
       "        vertical-align: top;\n",
       "    }\n",
       "\n",
       "    .dataframe thead th {\n",
       "        text-align: right;\n",
       "    }\n",
       "</style>\n",
       "<table border=\"1\" class=\"dataframe\">\n",
       "  <thead>\n",
       "    <tr style=\"text-align: right;\">\n",
       "      <th></th>\n",
       "      <th>pat_publn_id</th>\n",
       "      <th>publn_auth</th>\n",
       "      <th>publn_nr</th>\n",
       "      <th>publn_kind</th>\n",
       "    </tr>\n",
       "  </thead>\n",
       "  <tbody>\n",
       "    <tr>\n",
       "      <th>24584</th>\n",
       "      <td>307102421</td>\n",
       "      <td>EP</td>\n",
       "      <td>0286634</td>\n",
       "      <td>A1</td>\n",
       "    </tr>\n",
       "  </tbody>\n",
       "</table>\n",
       "</div>"
      ],
      "text/plain": [
       "       pat_publn_id publn_auth publn_nr publn_kind\n",
       "24584     307102421         EP  0286634         A1"
      ]
     },
     "execution_count": 10,
     "metadata": {},
     "output_type": "execute_result"
    }
   ],
   "source": [
    "data2[data2[\"pat_publn_id\"]==307102421]"
   ]
  },
  {
   "cell_type": "code",
   "execution_count": 11,
   "metadata": {},
   "outputs": [
    {
     "data": {
      "text/html": [
       "<div>\n",
       "<style scoped>\n",
       "    .dataframe tbody tr th:only-of-type {\n",
       "        vertical-align: middle;\n",
       "    }\n",
       "\n",
       "    .dataframe tbody tr th {\n",
       "        vertical-align: top;\n",
       "    }\n",
       "\n",
       "    .dataframe thead th {\n",
       "        text-align: right;\n",
       "    }\n",
       "</style>\n",
       "<table border=\"1\" class=\"dataframe\">\n",
       "  <thead>\n",
       "    <tr style=\"text-align: right;\">\n",
       "      <th></th>\n",
       "      <th>docdb_family_id</th>\n",
       "      <th>earliest_pat_publn_id</th>\n",
       "      <th>earliest_filing_date</th>\n",
       "      <th>appln_auth</th>\n",
       "      <th>granted</th>\n",
       "    </tr>\n",
       "  </thead>\n",
       "  <tbody>\n",
       "    <tr>\n",
       "      <th>0</th>\n",
       "      <td>574528.0</td>\n",
       "      <td>307102421.0</td>\n",
       "      <td>1985-04-10</td>\n",
       "      <td>EP</td>\n",
       "      <td>Y</td>\n",
       "    </tr>\n",
       "    <tr>\n",
       "      <th>1</th>\n",
       "      <td>574586.0</td>\n",
       "      <td>387396319.0</td>\n",
       "      <td>1987-06-08</td>\n",
       "      <td>EP</td>\n",
       "      <td>Y</td>\n",
       "    </tr>\n",
       "    <tr>\n",
       "      <th>2</th>\n",
       "      <td>574660.0</td>\n",
       "      <td>387398325.0</td>\n",
       "      <td>1986-08-04</td>\n",
       "      <td>EP</td>\n",
       "      <td>Y</td>\n",
       "    </tr>\n",
       "    <tr>\n",
       "      <th>3</th>\n",
       "      <td>1226456.0</td>\n",
       "      <td>303518198.0</td>\n",
       "      <td>1991-08-29</td>\n",
       "      <td>EP</td>\n",
       "      <td>Y</td>\n",
       "    </tr>\n",
       "    <tr>\n",
       "      <th>4</th>\n",
       "      <td>1226485.0</td>\n",
       "      <td>302640285.0</td>\n",
       "      <td>1992-08-12</td>\n",
       "      <td>EP</td>\n",
       "      <td>Y</td>\n",
       "    </tr>\n",
       "  </tbody>\n",
       "</table>\n",
       "</div>"
      ],
      "text/plain": [
       "   docdb_family_id  earliest_pat_publn_id earliest_filing_date appln_auth  \\\n",
       "0         574528.0            307102421.0           1985-04-10         EP   \n",
       "1         574586.0            387396319.0           1987-06-08         EP   \n",
       "2         574660.0            387398325.0           1986-08-04         EP   \n",
       "3        1226456.0            303518198.0           1991-08-29         EP   \n",
       "4        1226485.0            302640285.0           1992-08-12         EP   \n",
       "\n",
       "  granted  \n",
       "0       Y  \n",
       "1       Y  \n",
       "2       Y  \n",
       "3       Y  \n",
       "4       Y  "
      ]
     },
     "execution_count": 11,
     "metadata": {},
     "output_type": "execute_result"
    }
   ],
   "source": [
    "data.head()"
   ]
  },
  {
   "cell_type": "code",
   "execution_count": 12,
   "metadata": {},
   "outputs": [
    {
     "name": "stdout",
     "output_type": "stream",
     "text": [
      "229282\n",
      "229282\n"
     ]
    }
   ],
   "source": [
    "print(len(data))\n",
    "print(len(data2))"
   ]
  },
  {
   "cell_type": "code",
   "execution_count": 13,
   "metadata": {},
   "outputs": [],
   "source": [
    "data.rename(columns={'earliest_pat_publn_id': 'pat_publn_id'}, inplace=True)"
   ]
  },
  {
   "cell_type": "code",
   "execution_count": 14,
   "metadata": {},
   "outputs": [
    {
     "data": {
      "text/html": [
       "<div>\n",
       "<style scoped>\n",
       "    .dataframe tbody tr th:only-of-type {\n",
       "        vertical-align: middle;\n",
       "    }\n",
       "\n",
       "    .dataframe tbody tr th {\n",
       "        vertical-align: top;\n",
       "    }\n",
       "\n",
       "    .dataframe thead th {\n",
       "        text-align: right;\n",
       "    }\n",
       "</style>\n",
       "<table border=\"1\" class=\"dataframe\">\n",
       "  <thead>\n",
       "    <tr style=\"text-align: right;\">\n",
       "      <th></th>\n",
       "      <th>docdb_family_id</th>\n",
       "      <th>pat_publn_id</th>\n",
       "      <th>earliest_filing_date</th>\n",
       "      <th>appln_auth</th>\n",
       "      <th>granted</th>\n",
       "    </tr>\n",
       "  </thead>\n",
       "  <tbody>\n",
       "    <tr>\n",
       "      <th>0</th>\n",
       "      <td>574528.0</td>\n",
       "      <td>307102421.0</td>\n",
       "      <td>1985-04-10</td>\n",
       "      <td>EP</td>\n",
       "      <td>Y</td>\n",
       "    </tr>\n",
       "    <tr>\n",
       "      <th>1</th>\n",
       "      <td>574586.0</td>\n",
       "      <td>387396319.0</td>\n",
       "      <td>1987-06-08</td>\n",
       "      <td>EP</td>\n",
       "      <td>Y</td>\n",
       "    </tr>\n",
       "    <tr>\n",
       "      <th>2</th>\n",
       "      <td>574660.0</td>\n",
       "      <td>387398325.0</td>\n",
       "      <td>1986-08-04</td>\n",
       "      <td>EP</td>\n",
       "      <td>Y</td>\n",
       "    </tr>\n",
       "    <tr>\n",
       "      <th>3</th>\n",
       "      <td>1226456.0</td>\n",
       "      <td>303518198.0</td>\n",
       "      <td>1991-08-29</td>\n",
       "      <td>EP</td>\n",
       "      <td>Y</td>\n",
       "    </tr>\n",
       "    <tr>\n",
       "      <th>4</th>\n",
       "      <td>1226485.0</td>\n",
       "      <td>302640285.0</td>\n",
       "      <td>1992-08-12</td>\n",
       "      <td>EP</td>\n",
       "      <td>Y</td>\n",
       "    </tr>\n",
       "  </tbody>\n",
       "</table>\n",
       "</div>"
      ],
      "text/plain": [
       "   docdb_family_id  pat_publn_id earliest_filing_date appln_auth granted\n",
       "0         574528.0   307102421.0           1985-04-10         EP       Y\n",
       "1         574586.0   387396319.0           1987-06-08         EP       Y\n",
       "2         574660.0   387398325.0           1986-08-04         EP       Y\n",
       "3        1226456.0   303518198.0           1991-08-29         EP       Y\n",
       "4        1226485.0   302640285.0           1992-08-12         EP       Y"
      ]
     },
     "execution_count": 14,
     "metadata": {},
     "output_type": "execute_result"
    }
   ],
   "source": [
    "data.head()"
   ]
  },
  {
   "cell_type": "code",
   "execution_count": 15,
   "metadata": {},
   "outputs": [],
   "source": [
    "#performing inner join between two datasets\n",
    "merged_df = pd.merge(data,data2, on=['pat_publn_id'], how='inner')"
   ]
  },
  {
   "cell_type": "code",
   "execution_count": 16,
   "metadata": {},
   "outputs": [
    {
     "data": {
      "text/plain": [
       "229282"
      ]
     },
     "execution_count": 16,
     "metadata": {},
     "output_type": "execute_result"
    }
   ],
   "source": [
    "len(merged_df)"
   ]
  },
  {
   "cell_type": "code",
   "execution_count": 17,
   "metadata": {},
   "outputs": [
    {
     "data": {
      "text/html": [
       "<div>\n",
       "<style scoped>\n",
       "    .dataframe tbody tr th:only-of-type {\n",
       "        vertical-align: middle;\n",
       "    }\n",
       "\n",
       "    .dataframe tbody tr th {\n",
       "        vertical-align: top;\n",
       "    }\n",
       "\n",
       "    .dataframe thead th {\n",
       "        text-align: right;\n",
       "    }\n",
       "</style>\n",
       "<table border=\"1\" class=\"dataframe\">\n",
       "  <thead>\n",
       "    <tr style=\"text-align: right;\">\n",
       "      <th></th>\n",
       "      <th>docdb_family_id</th>\n",
       "      <th>pat_publn_id</th>\n",
       "      <th>earliest_filing_date</th>\n",
       "      <th>appln_auth</th>\n",
       "      <th>granted</th>\n",
       "      <th>publn_auth</th>\n",
       "      <th>publn_nr</th>\n",
       "      <th>publn_kind</th>\n",
       "    </tr>\n",
       "  </thead>\n",
       "  <tbody>\n",
       "    <tr>\n",
       "      <th>0</th>\n",
       "      <td>574528.0</td>\n",
       "      <td>307102421.0</td>\n",
       "      <td>1985-04-10</td>\n",
       "      <td>EP</td>\n",
       "      <td>Y</td>\n",
       "      <td>EP</td>\n",
       "      <td>0286634</td>\n",
       "      <td>A1</td>\n",
       "    </tr>\n",
       "    <tr>\n",
       "      <th>1</th>\n",
       "      <td>574586.0</td>\n",
       "      <td>387396319.0</td>\n",
       "      <td>1987-06-08</td>\n",
       "      <td>EP</td>\n",
       "      <td>Y</td>\n",
       "      <td>EP</td>\n",
       "      <td>0320505</td>\n",
       "      <td>A1</td>\n",
       "    </tr>\n",
       "    <tr>\n",
       "      <th>2</th>\n",
       "      <td>574660.0</td>\n",
       "      <td>387398325.0</td>\n",
       "      <td>1986-08-04</td>\n",
       "      <td>EP</td>\n",
       "      <td>Y</td>\n",
       "      <td>EP</td>\n",
       "      <td>0401206</td>\n",
       "      <td>A1</td>\n",
       "    </tr>\n",
       "    <tr>\n",
       "      <th>3</th>\n",
       "      <td>1226456.0</td>\n",
       "      <td>303518198.0</td>\n",
       "      <td>1991-08-29</td>\n",
       "      <td>EP</td>\n",
       "      <td>Y</td>\n",
       "      <td>EP</td>\n",
       "      <td>0670744</td>\n",
       "      <td>A1</td>\n",
       "    </tr>\n",
       "    <tr>\n",
       "      <th>4</th>\n",
       "      <td>1226485.0</td>\n",
       "      <td>302640285.0</td>\n",
       "      <td>1992-08-12</td>\n",
       "      <td>EP</td>\n",
       "      <td>Y</td>\n",
       "      <td>EP</td>\n",
       "      <td>0607158</td>\n",
       "      <td>A1</td>\n",
       "    </tr>\n",
       "  </tbody>\n",
       "</table>\n",
       "</div>"
      ],
      "text/plain": [
       "   docdb_family_id  pat_publn_id earliest_filing_date appln_auth granted  \\\n",
       "0         574528.0   307102421.0           1985-04-10         EP       Y   \n",
       "1         574586.0   387396319.0           1987-06-08         EP       Y   \n",
       "2         574660.0   387398325.0           1986-08-04         EP       Y   \n",
       "3        1226456.0   303518198.0           1991-08-29         EP       Y   \n",
       "4        1226485.0   302640285.0           1992-08-12         EP       Y   \n",
       "\n",
       "  publn_auth publn_nr publn_kind  \n",
       "0         EP  0286634         A1  \n",
       "1         EP  0320505         A1  \n",
       "2         EP  0401206         A1  \n",
       "3         EP  0670744         A1  \n",
       "4         EP  0607158         A1  "
      ]
     },
     "execution_count": 17,
     "metadata": {},
     "output_type": "execute_result"
    }
   ],
   "source": [
    "merged_df.head()"
   ]
  },
  {
   "cell_type": "code",
   "execution_count": 19,
   "metadata": {},
   "outputs": [],
   "source": [
    "merged_df['key']=merged_df['publn_auth']+merged_df['publn_nr']+merged_df['publn_kind']"
   ]
  },
  {
   "cell_type": "code",
   "execution_count": 20,
   "metadata": {},
   "outputs": [
    {
     "data": {
      "text/html": [
       "<div>\n",
       "<style scoped>\n",
       "    .dataframe tbody tr th:only-of-type {\n",
       "        vertical-align: middle;\n",
       "    }\n",
       "\n",
       "    .dataframe tbody tr th {\n",
       "        vertical-align: top;\n",
       "    }\n",
       "\n",
       "    .dataframe thead th {\n",
       "        text-align: right;\n",
       "    }\n",
       "</style>\n",
       "<table border=\"1\" class=\"dataframe\">\n",
       "  <thead>\n",
       "    <tr style=\"text-align: right;\">\n",
       "      <th></th>\n",
       "      <th>docdb_family_id</th>\n",
       "      <th>pat_publn_id</th>\n",
       "      <th>earliest_filing_date</th>\n",
       "      <th>appln_auth</th>\n",
       "      <th>granted</th>\n",
       "      <th>publn_auth</th>\n",
       "      <th>publn_nr</th>\n",
       "      <th>publn_kind</th>\n",
       "      <th>key</th>\n",
       "    </tr>\n",
       "  </thead>\n",
       "  <tbody>\n",
       "    <tr>\n",
       "      <th>0</th>\n",
       "      <td>574528.0</td>\n",
       "      <td>307102421.0</td>\n",
       "      <td>1985-04-10</td>\n",
       "      <td>EP</td>\n",
       "      <td>Y</td>\n",
       "      <td>EP</td>\n",
       "      <td>0286634</td>\n",
       "      <td>A1</td>\n",
       "      <td>EP0286634A1</td>\n",
       "    </tr>\n",
       "    <tr>\n",
       "      <th>1</th>\n",
       "      <td>574586.0</td>\n",
       "      <td>387396319.0</td>\n",
       "      <td>1987-06-08</td>\n",
       "      <td>EP</td>\n",
       "      <td>Y</td>\n",
       "      <td>EP</td>\n",
       "      <td>0320505</td>\n",
       "      <td>A1</td>\n",
       "      <td>EP0320505A1</td>\n",
       "    </tr>\n",
       "    <tr>\n",
       "      <th>2</th>\n",
       "      <td>574660.0</td>\n",
       "      <td>387398325.0</td>\n",
       "      <td>1986-08-04</td>\n",
       "      <td>EP</td>\n",
       "      <td>Y</td>\n",
       "      <td>EP</td>\n",
       "      <td>0401206</td>\n",
       "      <td>A1</td>\n",
       "      <td>EP0401206A1</td>\n",
       "    </tr>\n",
       "    <tr>\n",
       "      <th>3</th>\n",
       "      <td>1226456.0</td>\n",
       "      <td>303518198.0</td>\n",
       "      <td>1991-08-29</td>\n",
       "      <td>EP</td>\n",
       "      <td>Y</td>\n",
       "      <td>EP</td>\n",
       "      <td>0670744</td>\n",
       "      <td>A1</td>\n",
       "      <td>EP0670744A1</td>\n",
       "    </tr>\n",
       "    <tr>\n",
       "      <th>4</th>\n",
       "      <td>1226485.0</td>\n",
       "      <td>302640285.0</td>\n",
       "      <td>1992-08-12</td>\n",
       "      <td>EP</td>\n",
       "      <td>Y</td>\n",
       "      <td>EP</td>\n",
       "      <td>0607158</td>\n",
       "      <td>A1</td>\n",
       "      <td>EP0607158A1</td>\n",
       "    </tr>\n",
       "  </tbody>\n",
       "</table>\n",
       "</div>"
      ],
      "text/plain": [
       "   docdb_family_id  pat_publn_id earliest_filing_date appln_auth granted  \\\n",
       "0         574528.0   307102421.0           1985-04-10         EP       Y   \n",
       "1         574586.0   387396319.0           1987-06-08         EP       Y   \n",
       "2         574660.0   387398325.0           1986-08-04         EP       Y   \n",
       "3        1226456.0   303518198.0           1991-08-29         EP       Y   \n",
       "4        1226485.0   302640285.0           1992-08-12         EP       Y   \n",
       "\n",
       "  publn_auth publn_nr publn_kind          key  \n",
       "0         EP  0286634         A1  EP0286634A1  \n",
       "1         EP  0320505         A1  EP0320505A1  \n",
       "2         EP  0401206         A1  EP0401206A1  \n",
       "3         EP  0670744         A1  EP0670744A1  \n",
       "4         EP  0607158         A1  EP0607158A1  "
      ]
     },
     "execution_count": 20,
     "metadata": {},
     "output_type": "execute_result"
    }
   ],
   "source": [
    "merged_df.head()"
   ]
  },
  {
   "cell_type": "code",
   "execution_count": null,
   "metadata": {},
   "outputs": [],
   "source": [
    "merged_df.to_csv(\"data_final.csv\")"
   ]
  },
  {
   "cell_type": "code",
   "execution_count": 74,
   "metadata": {},
   "outputs": [],
   "source": [
    "#reading the data which contains the keys that need to be passed to logicmill server\n",
    "data_final=pd.read_csv(\"data_final.csv\")"
   ]
  },
  {
   "cell_type": "code",
   "execution_count": 75,
   "metadata": {},
   "outputs": [
    {
     "data": {
      "text/html": [
       "<div>\n",
       "<style scoped>\n",
       "    .dataframe tbody tr th:only-of-type {\n",
       "        vertical-align: middle;\n",
       "    }\n",
       "\n",
       "    .dataframe tbody tr th {\n",
       "        vertical-align: top;\n",
       "    }\n",
       "\n",
       "    .dataframe thead th {\n",
       "        text-align: right;\n",
       "    }\n",
       "</style>\n",
       "<table border=\"1\" class=\"dataframe\">\n",
       "  <thead>\n",
       "    <tr style=\"text-align: right;\">\n",
       "      <th></th>\n",
       "      <th>Unnamed: 0</th>\n",
       "      <th>docdb_family_id</th>\n",
       "      <th>pat_publn_id</th>\n",
       "      <th>earliest_filing_date</th>\n",
       "      <th>appln_auth</th>\n",
       "      <th>granted</th>\n",
       "      <th>publn_auth</th>\n",
       "      <th>publn_nr</th>\n",
       "      <th>publn_kind</th>\n",
       "      <th>key</th>\n",
       "    </tr>\n",
       "  </thead>\n",
       "  <tbody>\n",
       "    <tr>\n",
       "      <th>0</th>\n",
       "      <td>0</td>\n",
       "      <td>574528.0</td>\n",
       "      <td>307102421.0</td>\n",
       "      <td>1985-04-10</td>\n",
       "      <td>EP</td>\n",
       "      <td>Y</td>\n",
       "      <td>EP</td>\n",
       "      <td>286634</td>\n",
       "      <td>A1</td>\n",
       "      <td>EP0286634A1</td>\n",
       "    </tr>\n",
       "    <tr>\n",
       "      <th>1</th>\n",
       "      <td>1</td>\n",
       "      <td>574586.0</td>\n",
       "      <td>387396319.0</td>\n",
       "      <td>1987-06-08</td>\n",
       "      <td>EP</td>\n",
       "      <td>Y</td>\n",
       "      <td>EP</td>\n",
       "      <td>320505</td>\n",
       "      <td>A1</td>\n",
       "      <td>EP0320505A1</td>\n",
       "    </tr>\n",
       "    <tr>\n",
       "      <th>2</th>\n",
       "      <td>2</td>\n",
       "      <td>574660.0</td>\n",
       "      <td>387398325.0</td>\n",
       "      <td>1986-08-04</td>\n",
       "      <td>EP</td>\n",
       "      <td>Y</td>\n",
       "      <td>EP</td>\n",
       "      <td>401206</td>\n",
       "      <td>A1</td>\n",
       "      <td>EP0401206A1</td>\n",
       "    </tr>\n",
       "    <tr>\n",
       "      <th>3</th>\n",
       "      <td>3</td>\n",
       "      <td>1226456.0</td>\n",
       "      <td>303518198.0</td>\n",
       "      <td>1991-08-29</td>\n",
       "      <td>EP</td>\n",
       "      <td>Y</td>\n",
       "      <td>EP</td>\n",
       "      <td>670744</td>\n",
       "      <td>A1</td>\n",
       "      <td>EP0670744A1</td>\n",
       "    </tr>\n",
       "    <tr>\n",
       "      <th>4</th>\n",
       "      <td>4</td>\n",
       "      <td>1226485.0</td>\n",
       "      <td>302640285.0</td>\n",
       "      <td>1992-08-12</td>\n",
       "      <td>EP</td>\n",
       "      <td>Y</td>\n",
       "      <td>EP</td>\n",
       "      <td>607158</td>\n",
       "      <td>A1</td>\n",
       "      <td>EP0607158A1</td>\n",
       "    </tr>\n",
       "  </tbody>\n",
       "</table>\n",
       "</div>"
      ],
      "text/plain": [
       "   Unnamed: 0  docdb_family_id  pat_publn_id earliest_filing_date appln_auth  \\\n",
       "0           0         574528.0   307102421.0           1985-04-10         EP   \n",
       "1           1         574586.0   387396319.0           1987-06-08         EP   \n",
       "2           2         574660.0   387398325.0           1986-08-04         EP   \n",
       "3           3        1226456.0   303518198.0           1991-08-29         EP   \n",
       "4           4        1226485.0   302640285.0           1992-08-12         EP   \n",
       "\n",
       "  granted publn_auth  publn_nr publn_kind          key  \n",
       "0       Y         EP    286634         A1  EP0286634A1  \n",
       "1       Y         EP    320505         A1  EP0320505A1  \n",
       "2       Y         EP    401206         A1  EP0401206A1  \n",
       "3       Y         EP    670744         A1  EP0670744A1  \n",
       "4       Y         EP    607158         A1  EP0607158A1  "
      ]
     },
     "execution_count": 75,
     "metadata": {},
     "output_type": "execute_result"
    }
   ],
   "source": [
    "data_final.head()"
   ]
  },
  {
   "cell_type": "code",
   "execution_count": 76,
   "metadata": {},
   "outputs": [],
   "source": [
    "#storing keys in the form of list\n",
    "keys=list(data_final['key'][0:20])"
   ]
  },
  {
   "cell_type": "code",
   "execution_count": 77,
   "metadata": {},
   "outputs": [
    {
     "data": {
      "text/plain": [
       "['EP0286634A1',\n",
       " 'EP0320505A1',\n",
       " 'EP0401206A1',\n",
       " 'EP0670744A1',\n",
       " 'EP0607158A1',\n",
       " 'EP0537145A1',\n",
       " 'EP470080A1',\n",
       " 'EP0541533A1',\n",
       " 'EP0580570A1',\n",
       " 'EP0597835A1',\n",
       " 'EP0599834A1',\n",
       " 'EP0555233A1',\n",
       " 'EP0574583A1',\n",
       " 'EP0607134A1',\n",
       " 'EP0602033A1',\n",
       " 'EP0683881A1',\n",
       " 'EP0684902A1',\n",
       " 'EP0688172A1',\n",
       " 'EP0675992A1',\n",
       " 'EP0823839A1']"
      ]
     },
     "execution_count": 77,
     "metadata": {},
     "output_type": "execute_result"
    }
   ],
   "source": [
    "keys"
   ]
  },
  {
   "cell_type": "code",
   "execution_count": 78,
   "metadata": {},
   "outputs": [],
   "source": [
    "from elasticsearch import Elasticsearch, NotFoundError\n",
    "d={} #to store the patent and its corresponding k similar patents as key value pairs\n",
    "patents_not_found=[] #to store patents which were not found when searching in logicmill\n",
    "embeddings_not_found=[] #to store the patents which were found but for which embeddings were not found"
   ]
  },
  {
   "cell_type": "code",
   "execution_count": 79,
   "metadata": {},
   "outputs": [
    {
     "name": "stdout",
     "output_type": "stream",
     "text": [
      "[{'_index': 'docdb_cos', '_id': 'EP0574583A1', '_score': 0.9991764, '_ignored': ['abstract.keyword']}, {'_index': 'docdb_cos', '_id': 'WO9312941A1', '_score': 0.9973502, '_ignored': ['abstract.keyword']}, {'_index': 'docdb_cos', '_id': 'EP0439049A1', '_score': 0.98186874, '_ignored': ['abstract.keyword']}, {'_index': 'docdb_cos', '_id': 'EP2465692A1', '_score': 0.9802433, '_ignored': ['abstract.keyword']}, {'_index': 'docdb_cos', '_id': 'US4427754A', '_score': 0.97942746, '_ignored': ['abstract.keyword']}, {'_index': 'docdb_cos', '_id': 'EP2409851A2', '_score': 0.9791851, '_ignored': ['abstract.keyword']}, {'_index': 'docdb_cos', '_id': 'EP1813434A1', '_score': 0.97904027, '_ignored': ['abstract.keyword']}, {'_index': 'docdb_cos', '_id': 'US2008152847A1', '_score': 0.9786043, '_ignored': ['abstract.keyword']}, {'_index': 'docdb_cos', '_id': 'US7517833B2', '_score': 0.97850096, '_ignored': ['abstract.keyword']}, {'_index': 'docdb_cos', '_id': 'US2010291326A1', '_score': 0.97843826, '_ignored': ['abstract.keyword']}]\n"
     ]
    }
   ],
   "source": [
    "for i in keys:\n",
    "    client = Elasticsearch(\n",
    "        hosts=f\"https://es2.logic-mill.net:443\",\n",
    "        basic_auth=(\"elastic\", \"MTqCwEli2DWAJTFGKwIa\"),\n",
    "        retry_on_status=[500, 501, 502, 503, 504, 524],\n",
    "        retry_on_timeout=True,\n",
    "        request_timeout=60,\n",
    "    )\n",
    "    try:\n",
    "        res = client.get(\n",
    "            index='docdb_cos',\n",
    "            id=i,\n",
    "            _source=[\"embedding\"],\n",
    "        )\n",
    "        #print('embedding'in res['_source'].keys())\n",
    "        #print(res)\n",
    "        if 'embedding'in res['_source'].keys():\n",
    "\n",
    "            #print(res[\"_source\"][\"embedding\"])\n",
    "            embedding = res[\"_source\"][\"embedding\"]\n",
    "\n",
    "            k = 10\n",
    "            query = {\n",
    "                    \"field\": \"embedding\",\n",
    "                    \"num_candidates\": min(k * 2, 10_000),\n",
    "                    \"query_vector\": embedding\n",
    "                }\n",
    "            search = client.search(\n",
    "                index=\"docdb_cos\",\n",
    "                knn=query,\n",
    "                source=False,\n",
    "                size=k\n",
    "            )\n",
    "\n",
    "            print(search[\"hits\"][\"hits\"])\n",
    "            l=[] # to store all the similar patents corresponding to the patent with key=i\n",
    "            for j in search[\"hits\"][\"hits\"]:\n",
    "                l.append(j['_id'])\n",
    "            d[i]=l\n",
    "                \n",
    "        else:\n",
    "            embeddings_not_found.append(i)\n",
    "    except NotFoundError:\n",
    "        patents_not_found.append(i)\n"
   ]
  },
  {
   "cell_type": "code",
   "execution_count": 80,
   "metadata": {},
   "outputs": [
    {
     "data": {
      "text/plain": [
       "{'EP0574583A1': ['EP0574583A1',\n",
       "  'WO9312941A1',\n",
       "  'EP0439049A1',\n",
       "  'EP2465692A1',\n",
       "  'US4427754A',\n",
       "  'EP2409851A2',\n",
       "  'EP1813434A1',\n",
       "  'US2008152847A1',\n",
       "  'US7517833B2',\n",
       "  'US2010291326A1']}"
      ]
     },
     "execution_count": 80,
     "metadata": {},
     "output_type": "execute_result"
    }
   ],
   "source": [
    "d"
   ]
  },
  {
   "cell_type": "code",
   "execution_count": 81,
   "metadata": {},
   "outputs": [
    {
     "name": "stdout",
     "output_type": "stream",
     "text": [
      "1\n",
      "2\n",
      "17\n"
     ]
    }
   ],
   "source": [
    "print(len(d))\n",
    "print(len(patents_not_found))\n",
    "print(len(embeddings_not_found))"
   ]
  },
  {
   "cell_type": "code",
   "execution_count": 72,
   "metadata": {},
   "outputs": [
    {
     "data": {
      "text/plain": [
       "['EP470080A1', 'EP0823839A1']"
      ]
     },
     "execution_count": 72,
     "metadata": {},
     "output_type": "execute_result"
    }
   ],
   "source": [
    "patents_not_found"
   ]
  },
  {
   "cell_type": "code",
   "execution_count": 73,
   "metadata": {},
   "outputs": [
    {
     "data": {
      "text/plain": [
       "['EP0286634A1',\n",
       " 'EP0320505A1',\n",
       " 'EP0401206A1',\n",
       " 'EP0670744A1',\n",
       " 'EP0607158A1',\n",
       " 'EP0537145A1',\n",
       " 'EP0541533A1',\n",
       " 'EP0580570A1',\n",
       " 'EP0597835A1',\n",
       " 'EP0599834A1',\n",
       " 'EP0555233A1',\n",
       " 'EP0607134A1',\n",
       " 'EP0602033A1',\n",
       " 'EP0683881A1',\n",
       " 'EP0684902A1',\n",
       " 'EP0688172A1',\n",
       " 'EP0675992A1']"
      ]
     },
     "execution_count": 73,
     "metadata": {},
     "output_type": "execute_result"
    }
   ],
   "source": [
    "embeddings_not_found"
   ]
  },
  {
   "cell_type": "code",
   "execution_count": 44,
   "metadata": {},
   "outputs": [
    {
     "name": "stdout",
     "output_type": "stream",
     "text": [
      "[{'_index': 'docdb_cos', '_id': 'EP0574583A1', '_score': 0.9991764, '_ignored': ['abstract.keyword']}, {'_index': 'docdb_cos', '_id': 'WO9312941A1', '_score': 0.9973502, '_ignored': ['abstract.keyword']}, {'_index': 'docdb_cos', '_id': 'EP0439049A1', '_score': 0.98186874, '_ignored': ['abstract.keyword']}, {'_index': 'docdb_cos', '_id': 'EP2465692A1', '_score': 0.9802433, '_ignored': ['abstract.keyword']}, {'_index': 'docdb_cos', '_id': 'US4427754A', '_score': 0.97942746, '_ignored': ['abstract.keyword']}, {'_index': 'docdb_cos', '_id': 'EP2409851A2', '_score': 0.9791851, '_ignored': ['abstract.keyword']}, {'_index': 'docdb_cos', '_id': 'EP1813434A1', '_score': 0.97904027, '_ignored': ['abstract.keyword']}, {'_index': 'docdb_cos', '_id': 'US2008152847A1', '_score': 0.9786043, '_ignored': ['abstract.keyword']}, {'_index': 'docdb_cos', '_id': 'US7517833B2', '_score': 0.97850096, '_ignored': ['abstract.keyword']}, {'_index': 'docdb_cos', '_id': 'US2010291326A1', '_score': 0.97843826, '_ignored': ['abstract.keyword']}]\n"
     ]
    }
   ],
   "source": [
    "from elasticsearch import Elasticsearch\n",
    "\n",
    "client = Elasticsearch(\n",
    "    hosts=f\"https://es2.logic-mill.net:443\",\n",
    "    basic_auth=(\"elastic\", \"MTqCwEli2DWAJTFGKwIa\"),\n",
    "    retry_on_status=[500, 501, 502, 503, 504, 524],\n",
    "    retry_on_timeout=True,\n",
    "    request_timeout=60,\n",
    ")\n",
    "res = client.get(\n",
    "    index='docdb_cos',\n",
    "    id=\"EP0574583A1\",\n",
    "    _source=[\"embedding\"],\n",
    ")\n",
    "#print('embedding'in res['_source'].keys())\n",
    "#print(res)\n",
    "#print(res[\"_source\"][\"embedding\"])\n",
    "embedding = res[\"_source\"][\"embedding\"]\n",
    "\n",
    "k = 10\n",
    "query = {\n",
    "        \"field\": \"embedding\",\n",
    "        \"num_candidates\": min(k * 2, 10_000),\n",
    "        \"query_vector\": embedding\n",
    "    }\n",
    "search = client.search(\n",
    "    index=\"docdb_cos\",\n",
    "    knn=query,\n",
    "    source=False,\n",
    "    size=k\n",
    ")\n",
    "a=search[\"hits\"][\"hits\"]\n",
    "print(search[\"hits\"][\"hits\"])"
   ]
  },
  {
   "cell_type": "code",
   "execution_count": null,
   "metadata": {},
   "outputs": [],
   "source": []
  }
 ],
 "metadata": {
  "kernelspec": {
   "display_name": "Python 3",
   "language": "python",
   "name": "python3"
  },
  "language_info": {
   "codemirror_mode": {
    "name": "ipython",
    "version": 3
   },
   "file_extension": ".py",
   "mimetype": "text/x-python",
   "name": "python",
   "nbconvert_exporter": "python",
   "pygments_lexer": "ipython3",
   "version": "3.11.5"
  }
 },
 "nbformat": 4,
 "nbformat_minor": 2
}
