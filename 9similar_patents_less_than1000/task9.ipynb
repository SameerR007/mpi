{
 "cells": [
  {
   "cell_type": "code",
   "execution_count": 48,
   "metadata": {},
   "outputs": [],
   "source": [
    "import pandas as pd"
   ]
  },
  {
   "cell_type": "code",
   "execution_count": 49,
   "metadata": {},
   "outputs": [],
   "source": [
    "data_tech_class=pd.read_stata(\"ipc_unique.dta\")"
   ]
  },
  {
   "cell_type": "code",
   "execution_count": 55,
   "metadata": {},
   "outputs": [
    {
     "data": {
      "text/html": [
       "<div>\n",
       "<style scoped>\n",
       "    .dataframe tbody tr th:only-of-type {\n",
       "        vertical-align: middle;\n",
       "    }\n",
       "\n",
       "    .dataframe tbody tr th {\n",
       "        vertical-align: top;\n",
       "    }\n",
       "\n",
       "    .dataframe thead th {\n",
       "        text-align: right;\n",
       "    }\n",
       "</style>\n",
       "<table border=\"1\" class=\"dataframe\">\n",
       "  <thead>\n",
       "    <tr style=\"text-align: right;\">\n",
       "      <th></th>\n",
       "      <th>docdb_family_id</th>\n",
       "      <th>mainarea34</th>\n",
       "    </tr>\n",
       "  </thead>\n",
       "  <tbody>\n",
       "    <tr>\n",
       "      <th>0</th>\n",
       "      <td>8554171</td>\n",
       "      <td>Electrical Engineering</td>\n",
       "    </tr>\n",
       "    <tr>\n",
       "      <th>1</th>\n",
       "      <td>27517085</td>\n",
       "      <td>Chemistry</td>\n",
       "    </tr>\n",
       "    <tr>\n",
       "      <th>2</th>\n",
       "      <td>7915918</td>\n",
       "      <td>Chemistry</td>\n",
       "    </tr>\n",
       "    <tr>\n",
       "      <th>3</th>\n",
       "      <td>22889365</td>\n",
       "      <td>Electrical Engineering</td>\n",
       "    </tr>\n",
       "    <tr>\n",
       "      <th>4</th>\n",
       "      <td>23788431</td>\n",
       "      <td>Electrical Engineering</td>\n",
       "    </tr>\n",
       "  </tbody>\n",
       "</table>\n",
       "</div>"
      ],
      "text/plain": [
       "   docdb_family_id              mainarea34\n",
       "0          8554171  Electrical Engineering\n",
       "1         27517085               Chemistry\n",
       "2          7915918               Chemistry\n",
       "3         22889365  Electrical Engineering\n",
       "4         23788431  Electrical Engineering"
      ]
     },
     "execution_count": 55,
     "metadata": {},
     "output_type": "execute_result"
    }
   ],
   "source": [
    "data_tech_class.head()"
   ]
  },
  {
   "cell_type": "code",
   "execution_count": 51,
   "metadata": {},
   "outputs": [],
   "source": [
    "data_tech_class=data_tech_class[['docdb_family_id','mainarea34']]"
   ]
  },
  {
   "cell_type": "code",
   "execution_count": 52,
   "metadata": {},
   "outputs": [
    {
     "data": {
      "text/html": [
       "<div>\n",
       "<style scoped>\n",
       "    .dataframe tbody tr th:only-of-type {\n",
       "        vertical-align: middle;\n",
       "    }\n",
       "\n",
       "    .dataframe tbody tr th {\n",
       "        vertical-align: top;\n",
       "    }\n",
       "\n",
       "    .dataframe thead th {\n",
       "        text-align: right;\n",
       "    }\n",
       "</style>\n",
       "<table border=\"1\" class=\"dataframe\">\n",
       "  <thead>\n",
       "    <tr style=\"text-align: right;\">\n",
       "      <th></th>\n",
       "      <th>docdb_family_id</th>\n",
       "      <th>mainarea34</th>\n",
       "    </tr>\n",
       "  </thead>\n",
       "  <tbody>\n",
       "    <tr>\n",
       "      <th>0</th>\n",
       "      <td>8554171</td>\n",
       "      <td>Electrical Engineering</td>\n",
       "    </tr>\n",
       "    <tr>\n",
       "      <th>1</th>\n",
       "      <td>27517085</td>\n",
       "      <td>Chemistry</td>\n",
       "    </tr>\n",
       "    <tr>\n",
       "      <th>2</th>\n",
       "      <td>7915918</td>\n",
       "      <td>Chemistry</td>\n",
       "    </tr>\n",
       "    <tr>\n",
       "      <th>3</th>\n",
       "      <td>22889365</td>\n",
       "      <td>Electrical Engineering</td>\n",
       "    </tr>\n",
       "    <tr>\n",
       "      <th>4</th>\n",
       "      <td>23788431</td>\n",
       "      <td>Electrical Engineering</td>\n",
       "    </tr>\n",
       "  </tbody>\n",
       "</table>\n",
       "</div>"
      ],
      "text/plain": [
       "   docdb_family_id              mainarea34\n",
       "0          8554171  Electrical Engineering\n",
       "1         27517085               Chemistry\n",
       "2          7915918               Chemistry\n",
       "3         22889365  Electrical Engineering\n",
       "4         23788431  Electrical Engineering"
      ]
     },
     "execution_count": 52,
     "metadata": {},
     "output_type": "execute_result"
    }
   ],
   "source": [
    "data_tech_class.head()"
   ]
  },
  {
   "cell_type": "code",
   "execution_count": 53,
   "metadata": {},
   "outputs": [],
   "source": [
    "data_octamine=pd.read_stata(\"ep_ma5_all.dta\")"
   ]
  },
  {
   "cell_type": "code",
   "execution_count": 54,
   "metadata": {},
   "outputs": [
    {
     "data": {
      "text/html": [
       "<div>\n",
       "<style scoped>\n",
       "    .dataframe tbody tr th:only-of-type {\n",
       "        vertical-align: middle;\n",
       "    }\n",
       "\n",
       "    .dataframe tbody tr th {\n",
       "        vertical-align: top;\n",
       "    }\n",
       "\n",
       "    .dataframe thead th {\n",
       "        text-align: right;\n",
       "    }\n",
       "</style>\n",
       "<table border=\"1\" class=\"dataframe\">\n",
       "  <thead>\n",
       "    <tr style=\"text-align: right;\">\n",
       "      <th></th>\n",
       "      <th>docdb_family_id1</th>\n",
       "      <th>docdb_family_id2</th>\n",
       "      <th>simMeasure</th>\n",
       "    </tr>\n",
       "  </thead>\n",
       "  <tbody>\n",
       "    <tr>\n",
       "      <th>0</th>\n",
       "      <td>574528</td>\n",
       "      <td>38353081</td>\n",
       "      <td>355</td>\n",
       "    </tr>\n",
       "    <tr>\n",
       "      <th>1</th>\n",
       "      <td>574528</td>\n",
       "      <td>37907999</td>\n",
       "      <td>353</td>\n",
       "    </tr>\n",
       "    <tr>\n",
       "      <th>2</th>\n",
       "      <td>574528</td>\n",
       "      <td>10530091</td>\n",
       "      <td>345</td>\n",
       "    </tr>\n",
       "    <tr>\n",
       "      <th>3</th>\n",
       "      <td>574528</td>\n",
       "      <td>26220749</td>\n",
       "      <td>331</td>\n",
       "    </tr>\n",
       "    <tr>\n",
       "      <th>4</th>\n",
       "      <td>574528</td>\n",
       "      <td>8562083</td>\n",
       "      <td>322</td>\n",
       "    </tr>\n",
       "  </tbody>\n",
       "</table>\n",
       "</div>"
      ],
      "text/plain": [
       "   docdb_family_id1  docdb_family_id2  simMeasure\n",
       "0            574528          38353081         355\n",
       "1            574528          37907999         353\n",
       "2            574528          10530091         345\n",
       "3            574528          26220749         331\n",
       "4            574528           8562083         322"
      ]
     },
     "execution_count": 54,
     "metadata": {},
     "output_type": "execute_result"
    }
   ],
   "source": [
    "data_octamine.head()"
   ]
  },
  {
   "cell_type": "code",
   "execution_count": 56,
   "metadata": {},
   "outputs": [
    {
     "data": {
      "text/plain": [
       "228955259"
      ]
     },
     "execution_count": 56,
     "metadata": {},
     "output_type": "execute_result"
    }
   ],
   "source": [
    "len(data_octamine)"
   ]
  },
  {
   "cell_type": "code",
   "execution_count": null,
   "metadata": {},
   "outputs": [],
   "source": [
    "#we check what are the tech classes of patents used by octamine"
   ]
  },
  {
   "cell_type": "code",
   "execution_count": 57,
   "metadata": {},
   "outputs": [],
   "source": [
    "data_merged1=pd.merge(data_octamine,data_tech_class,left_on=\"docdb_family_id1\",right_on=\"docdb_family_id\")"
   ]
  },
  {
   "cell_type": "code",
   "execution_count": 60,
   "metadata": {},
   "outputs": [
    {
     "data": {
      "text/plain": [
       "1325015457"
      ]
     },
     "execution_count": 60,
     "metadata": {},
     "output_type": "execute_result"
    }
   ],
   "source": [
    "len(data_merged1)"
   ]
  },
  {
   "cell_type": "code",
   "execution_count": 61,
   "metadata": {},
   "outputs": [
    {
     "data": {
      "text/plain": [
       "228955259"
      ]
     },
     "execution_count": 61,
     "metadata": {},
     "output_type": "execute_result"
    }
   ],
   "source": [
    "len(data_octamine)"
   ]
  },
  {
   "cell_type": "code",
   "execution_count": 62,
   "metadata": {},
   "outputs": [
    {
     "data": {
      "text/plain": [
       "True"
      ]
     },
     "execution_count": 62,
     "metadata": {},
     "output_type": "execute_result"
    }
   ],
   "source": [
    "1325015457>228955259"
   ]
  },
  {
   "cell_type": "code",
   "execution_count": 63,
   "metadata": {},
   "outputs": [
    {
     "data": {
      "text/plain": [
       "docdb_family_id\n",
       "21841414    472\n",
       "25646068    461\n",
       "53408550    451\n",
       "29253594    427\n",
       "45327470    379\n",
       "           ... \n",
       "60539540      1\n",
       "21092904      1\n",
       "21092905      1\n",
       "21092906      1\n",
       "87315323      1\n",
       "Name: count, Length: 76640602, dtype: int64"
      ]
     },
     "execution_count": 63,
     "metadata": {},
     "output_type": "execute_result"
    }
   ],
   "source": [
    "data_tech_class['docdb_family_id'].value_counts()"
   ]
  },
  {
   "cell_type": "code",
   "execution_count": 64,
   "metadata": {},
   "outputs": [
    {
     "data": {
      "text/html": [
       "<div>\n",
       "<style scoped>\n",
       "    .dataframe tbody tr th:only-of-type {\n",
       "        vertical-align: middle;\n",
       "    }\n",
       "\n",
       "    .dataframe tbody tr th {\n",
       "        vertical-align: top;\n",
       "    }\n",
       "\n",
       "    .dataframe thead th {\n",
       "        text-align: right;\n",
       "    }\n",
       "</style>\n",
       "<table border=\"1\" class=\"dataframe\">\n",
       "  <thead>\n",
       "    <tr style=\"text-align: right;\">\n",
       "      <th></th>\n",
       "      <th>docdb_family_id1</th>\n",
       "      <th>docdb_family_id2</th>\n",
       "      <th>simMeasure</th>\n",
       "      <th>docdb_family_id</th>\n",
       "      <th>mainarea34</th>\n",
       "    </tr>\n",
       "  </thead>\n",
       "  <tbody>\n",
       "    <tr>\n",
       "      <th>0</th>\n",
       "      <td>574528</td>\n",
       "      <td>38353081</td>\n",
       "      <td>355</td>\n",
       "      <td>574528</td>\n",
       "      <td>Other Fields</td>\n",
       "    </tr>\n",
       "    <tr>\n",
       "      <th>1</th>\n",
       "      <td>574528</td>\n",
       "      <td>38353081</td>\n",
       "      <td>355</td>\n",
       "      <td>574528</td>\n",
       "      <td>Other Fields</td>\n",
       "    </tr>\n",
       "    <tr>\n",
       "      <th>2</th>\n",
       "      <td>574528</td>\n",
       "      <td>38353081</td>\n",
       "      <td>355</td>\n",
       "      <td>574528</td>\n",
       "      <td>Other Fields</td>\n",
       "    </tr>\n",
       "    <tr>\n",
       "      <th>3</th>\n",
       "      <td>574528</td>\n",
       "      <td>38353081</td>\n",
       "      <td>355</td>\n",
       "      <td>574528</td>\n",
       "      <td>Other Fields</td>\n",
       "    </tr>\n",
       "    <tr>\n",
       "      <th>4</th>\n",
       "      <td>574528</td>\n",
       "      <td>38353081</td>\n",
       "      <td>355</td>\n",
       "      <td>574528</td>\n",
       "      <td>Other Fields</td>\n",
       "    </tr>\n",
       "  </tbody>\n",
       "</table>\n",
       "</div>"
      ],
      "text/plain": [
       "   docdb_family_id1  docdb_family_id2  simMeasure  docdb_family_id  \\\n",
       "0            574528          38353081         355           574528   \n",
       "1            574528          38353081         355           574528   \n",
       "2            574528          38353081         355           574528   \n",
       "3            574528          38353081         355           574528   \n",
       "4            574528          38353081         355           574528   \n",
       "\n",
       "     mainarea34  \n",
       "0  Other Fields  \n",
       "1  Other Fields  \n",
       "2  Other Fields  \n",
       "3  Other Fields  \n",
       "4  Other Fields  "
      ]
     },
     "execution_count": 64,
     "metadata": {},
     "output_type": "execute_result"
    }
   ],
   "source": [
    "data_merged1.head()"
   ]
  },
  {
   "cell_type": "code",
   "execution_count": 65,
   "metadata": {},
   "outputs": [
    {
     "data": {
      "text/html": [
       "<div>\n",
       "<style scoped>\n",
       "    .dataframe tbody tr th:only-of-type {\n",
       "        vertical-align: middle;\n",
       "    }\n",
       "\n",
       "    .dataframe tbody tr th {\n",
       "        vertical-align: top;\n",
       "    }\n",
       "\n",
       "    .dataframe thead th {\n",
       "        text-align: right;\n",
       "    }\n",
       "</style>\n",
       "<table border=\"1\" class=\"dataframe\">\n",
       "  <thead>\n",
       "    <tr style=\"text-align: right;\">\n",
       "      <th></th>\n",
       "      <th>docdb_family_id1</th>\n",
       "      <th>docdb_family_id2</th>\n",
       "      <th>simMeasure</th>\n",
       "      <th>docdb_family_id</th>\n",
       "      <th>docdb_familyid1_techclass</th>\n",
       "    </tr>\n",
       "  </thead>\n",
       "  <tbody>\n",
       "    <tr>\n",
       "      <th>0</th>\n",
       "      <td>574528</td>\n",
       "      <td>38353081</td>\n",
       "      <td>355</td>\n",
       "      <td>574528</td>\n",
       "      <td>Other Fields</td>\n",
       "    </tr>\n",
       "    <tr>\n",
       "      <th>1</th>\n",
       "      <td>574528</td>\n",
       "      <td>38353081</td>\n",
       "      <td>355</td>\n",
       "      <td>574528</td>\n",
       "      <td>Other Fields</td>\n",
       "    </tr>\n",
       "    <tr>\n",
       "      <th>2</th>\n",
       "      <td>574528</td>\n",
       "      <td>38353081</td>\n",
       "      <td>355</td>\n",
       "      <td>574528</td>\n",
       "      <td>Other Fields</td>\n",
       "    </tr>\n",
       "    <tr>\n",
       "      <th>3</th>\n",
       "      <td>574528</td>\n",
       "      <td>38353081</td>\n",
       "      <td>355</td>\n",
       "      <td>574528</td>\n",
       "      <td>Other Fields</td>\n",
       "    </tr>\n",
       "    <tr>\n",
       "      <th>4</th>\n",
       "      <td>574528</td>\n",
       "      <td>38353081</td>\n",
       "      <td>355</td>\n",
       "      <td>574528</td>\n",
       "      <td>Other Fields</td>\n",
       "    </tr>\n",
       "  </tbody>\n",
       "</table>\n",
       "</div>"
      ],
      "text/plain": [
       "   docdb_family_id1  docdb_family_id2  simMeasure  docdb_family_id  \\\n",
       "0            574528          38353081         355           574528   \n",
       "1            574528          38353081         355           574528   \n",
       "2            574528          38353081         355           574528   \n",
       "3            574528          38353081         355           574528   \n",
       "4            574528          38353081         355           574528   \n",
       "\n",
       "  docdb_familyid1_techclass  \n",
       "0              Other Fields  \n",
       "1              Other Fields  \n",
       "2              Other Fields  \n",
       "3              Other Fields  \n",
       "4              Other Fields  "
      ]
     },
     "execution_count": 65,
     "metadata": {},
     "output_type": "execute_result"
    }
   ],
   "source": [
    "data_merged1.rename(columns={'mainarea34':'docdb_familyid1_techclass'},inplace=True)\n",
    "data_merged1.head()"
   ]
  },
  {
   "cell_type": "code",
   "execution_count": 66,
   "metadata": {},
   "outputs": [
    {
     "data": {
      "text/html": [
       "<div>\n",
       "<style scoped>\n",
       "    .dataframe tbody tr th:only-of-type {\n",
       "        vertical-align: middle;\n",
       "    }\n",
       "\n",
       "    .dataframe tbody tr th {\n",
       "        vertical-align: top;\n",
       "    }\n",
       "\n",
       "    .dataframe thead th {\n",
       "        text-align: right;\n",
       "    }\n",
       "</style>\n",
       "<table border=\"1\" class=\"dataframe\">\n",
       "  <thead>\n",
       "    <tr style=\"text-align: right;\">\n",
       "      <th></th>\n",
       "      <th>docdb_family_id1</th>\n",
       "      <th>docdb_family_id2</th>\n",
       "      <th>docdb_familyid1_techclass</th>\n",
       "    </tr>\n",
       "  </thead>\n",
       "  <tbody>\n",
       "    <tr>\n",
       "      <th>0</th>\n",
       "      <td>574528</td>\n",
       "      <td>38353081</td>\n",
       "      <td>Other Fields</td>\n",
       "    </tr>\n",
       "    <tr>\n",
       "      <th>1</th>\n",
       "      <td>574528</td>\n",
       "      <td>38353081</td>\n",
       "      <td>Other Fields</td>\n",
       "    </tr>\n",
       "    <tr>\n",
       "      <th>2</th>\n",
       "      <td>574528</td>\n",
       "      <td>38353081</td>\n",
       "      <td>Other Fields</td>\n",
       "    </tr>\n",
       "    <tr>\n",
       "      <th>3</th>\n",
       "      <td>574528</td>\n",
       "      <td>38353081</td>\n",
       "      <td>Other Fields</td>\n",
       "    </tr>\n",
       "    <tr>\n",
       "      <th>4</th>\n",
       "      <td>574528</td>\n",
       "      <td>38353081</td>\n",
       "      <td>Other Fields</td>\n",
       "    </tr>\n",
       "    <tr>\n",
       "      <th>...</th>\n",
       "      <td>...</td>\n",
       "      <td>...</td>\n",
       "      <td>...</td>\n",
       "    </tr>\n",
       "    <tr>\n",
       "      <th>1325015452</th>\n",
       "      <td>49584502</td>\n",
       "      <td>9317575</td>\n",
       "      <td>Other Fields</td>\n",
       "    </tr>\n",
       "    <tr>\n",
       "      <th>1325015453</th>\n",
       "      <td>49584502</td>\n",
       "      <td>7698909</td>\n",
       "      <td>Other Fields</td>\n",
       "    </tr>\n",
       "    <tr>\n",
       "      <th>1325015454</th>\n",
       "      <td>49584502</td>\n",
       "      <td>3512249</td>\n",
       "      <td>Other Fields</td>\n",
       "    </tr>\n",
       "    <tr>\n",
       "      <th>1325015455</th>\n",
       "      <td>49584502</td>\n",
       "      <td>43877100</td>\n",
       "      <td>Other Fields</td>\n",
       "    </tr>\n",
       "    <tr>\n",
       "      <th>1325015456</th>\n",
       "      <td>49584502</td>\n",
       "      <td>38051546</td>\n",
       "      <td>Other Fields</td>\n",
       "    </tr>\n",
       "  </tbody>\n",
       "</table>\n",
       "<p>1325015457 rows × 3 columns</p>\n",
       "</div>"
      ],
      "text/plain": [
       "            docdb_family_id1  docdb_family_id2 docdb_familyid1_techclass\n",
       "0                     574528          38353081              Other Fields\n",
       "1                     574528          38353081              Other Fields\n",
       "2                     574528          38353081              Other Fields\n",
       "3                     574528          38353081              Other Fields\n",
       "4                     574528          38353081              Other Fields\n",
       "...                      ...               ...                       ...\n",
       "1325015452          49584502           9317575              Other Fields\n",
       "1325015453          49584502           7698909              Other Fields\n",
       "1325015454          49584502           3512249              Other Fields\n",
       "1325015455          49584502          43877100              Other Fields\n",
       "1325015456          49584502          38051546              Other Fields\n",
       "\n",
       "[1325015457 rows x 3 columns]"
      ]
     },
     "execution_count": 66,
     "metadata": {},
     "output_type": "execute_result"
    }
   ],
   "source": [
    "data_merged1[['docdb_family_id1','docdb_family_id2','docdb_familyid1_techclass']]"
   ]
  },
  {
   "cell_type": "code",
   "execution_count": 67,
   "metadata": {},
   "outputs": [],
   "source": [
    "data_merged2=data_merged1[['docdb_family_id1','docdb_family_id2','docdb_familyid1_techclass']]"
   ]
  },
  {
   "cell_type": "code",
   "execution_count": 68,
   "metadata": {},
   "outputs": [],
   "source": [
    "data_merged3=pd.merge(data_octamine,data_tech_class,left_on=\"docdb_family_id2\",right_on=\"docdb_family_id\")"
   ]
  },
  {
   "cell_type": "code",
   "execution_count": 69,
   "metadata": {},
   "outputs": [
    {
     "data": {
      "text/html": [
       "<div>\n",
       "<style scoped>\n",
       "    .dataframe tbody tr th:only-of-type {\n",
       "        vertical-align: middle;\n",
       "    }\n",
       "\n",
       "    .dataframe tbody tr th {\n",
       "        vertical-align: top;\n",
       "    }\n",
       "\n",
       "    .dataframe thead th {\n",
       "        text-align: right;\n",
       "    }\n",
       "</style>\n",
       "<table border=\"1\" class=\"dataframe\">\n",
       "  <thead>\n",
       "    <tr style=\"text-align: right;\">\n",
       "      <th></th>\n",
       "      <th>docdb_family_id1</th>\n",
       "      <th>docdb_family_id2</th>\n",
       "      <th>simMeasure</th>\n",
       "      <th>docdb_family_id</th>\n",
       "      <th>mainarea34</th>\n",
       "    </tr>\n",
       "  </thead>\n",
       "  <tbody>\n",
       "    <tr>\n",
       "      <th>0</th>\n",
       "      <td>574528</td>\n",
       "      <td>38353081</td>\n",
       "      <td>355</td>\n",
       "      <td>38353081</td>\n",
       "      <td>Other Fields</td>\n",
       "    </tr>\n",
       "    <tr>\n",
       "      <th>1</th>\n",
       "      <td>574528</td>\n",
       "      <td>38353081</td>\n",
       "      <td>355</td>\n",
       "      <td>38353081</td>\n",
       "      <td>Other Fields</td>\n",
       "    </tr>\n",
       "    <tr>\n",
       "      <th>2</th>\n",
       "      <td>574528</td>\n",
       "      <td>37907999</td>\n",
       "      <td>353</td>\n",
       "      <td>37907999</td>\n",
       "      <td>Other Fields</td>\n",
       "    </tr>\n",
       "    <tr>\n",
       "      <th>3</th>\n",
       "      <td>574528</td>\n",
       "      <td>37907999</td>\n",
       "      <td>353</td>\n",
       "      <td>37907999</td>\n",
       "      <td>Other Fields</td>\n",
       "    </tr>\n",
       "    <tr>\n",
       "      <th>4</th>\n",
       "      <td>574528</td>\n",
       "      <td>37907999</td>\n",
       "      <td>353</td>\n",
       "      <td>37907999</td>\n",
       "      <td>Other Fields</td>\n",
       "    </tr>\n",
       "  </tbody>\n",
       "</table>\n",
       "</div>"
      ],
      "text/plain": [
       "   docdb_family_id1  docdb_family_id2  simMeasure  docdb_family_id  \\\n",
       "0            574528          38353081         355         38353081   \n",
       "1            574528          38353081         355         38353081   \n",
       "2            574528          37907999         353         37907999   \n",
       "3            574528          37907999         353         37907999   \n",
       "4            574528          37907999         353         37907999   \n",
       "\n",
       "     mainarea34  \n",
       "0  Other Fields  \n",
       "1  Other Fields  \n",
       "2  Other Fields  \n",
       "3  Other Fields  \n",
       "4  Other Fields  "
      ]
     },
     "execution_count": 69,
     "metadata": {},
     "output_type": "execute_result"
    }
   ],
   "source": [
    "data_merged3.head()"
   ]
  },
  {
   "cell_type": "code",
   "execution_count": 70,
   "metadata": {},
   "outputs": [
    {
     "data": {
      "text/html": [
       "<div>\n",
       "<style scoped>\n",
       "    .dataframe tbody tr th:only-of-type {\n",
       "        vertical-align: middle;\n",
       "    }\n",
       "\n",
       "    .dataframe tbody tr th {\n",
       "        vertical-align: top;\n",
       "    }\n",
       "\n",
       "    .dataframe thead th {\n",
       "        text-align: right;\n",
       "    }\n",
       "</style>\n",
       "<table border=\"1\" class=\"dataframe\">\n",
       "  <thead>\n",
       "    <tr style=\"text-align: right;\">\n",
       "      <th></th>\n",
       "      <th>docdb_family_id1</th>\n",
       "      <th>docdb_family_id2</th>\n",
       "      <th>simMeasure</th>\n",
       "      <th>docdb_family_id</th>\n",
       "      <th>docdb_familyid2_techclass</th>\n",
       "    </tr>\n",
       "  </thead>\n",
       "  <tbody>\n",
       "    <tr>\n",
       "      <th>0</th>\n",
       "      <td>574528</td>\n",
       "      <td>38353081</td>\n",
       "      <td>355</td>\n",
       "      <td>38353081</td>\n",
       "      <td>Other Fields</td>\n",
       "    </tr>\n",
       "    <tr>\n",
       "      <th>1</th>\n",
       "      <td>574528</td>\n",
       "      <td>38353081</td>\n",
       "      <td>355</td>\n",
       "      <td>38353081</td>\n",
       "      <td>Other Fields</td>\n",
       "    </tr>\n",
       "    <tr>\n",
       "      <th>2</th>\n",
       "      <td>574528</td>\n",
       "      <td>37907999</td>\n",
       "      <td>353</td>\n",
       "      <td>37907999</td>\n",
       "      <td>Other Fields</td>\n",
       "    </tr>\n",
       "    <tr>\n",
       "      <th>3</th>\n",
       "      <td>574528</td>\n",
       "      <td>37907999</td>\n",
       "      <td>353</td>\n",
       "      <td>37907999</td>\n",
       "      <td>Other Fields</td>\n",
       "    </tr>\n",
       "    <tr>\n",
       "      <th>4</th>\n",
       "      <td>574528</td>\n",
       "      <td>37907999</td>\n",
       "      <td>353</td>\n",
       "      <td>37907999</td>\n",
       "      <td>Other Fields</td>\n",
       "    </tr>\n",
       "  </tbody>\n",
       "</table>\n",
       "</div>"
      ],
      "text/plain": [
       "   docdb_family_id1  docdb_family_id2  simMeasure  docdb_family_id  \\\n",
       "0            574528          38353081         355         38353081   \n",
       "1            574528          38353081         355         38353081   \n",
       "2            574528          37907999         353         37907999   \n",
       "3            574528          37907999         353         37907999   \n",
       "4            574528          37907999         353         37907999   \n",
       "\n",
       "  docdb_familyid2_techclass  \n",
       "0              Other Fields  \n",
       "1              Other Fields  \n",
       "2              Other Fields  \n",
       "3              Other Fields  \n",
       "4              Other Fields  "
      ]
     },
     "execution_count": 70,
     "metadata": {},
     "output_type": "execute_result"
    }
   ],
   "source": [
    "data_merged3.rename(columns={'mainarea34':'docdb_familyid2_techclass'},inplace=True)\n",
    "data_merged3.head()"
   ]
  },
  {
   "cell_type": "code",
   "execution_count": 71,
   "metadata": {},
   "outputs": [
    {
     "data": {
      "text/html": [
       "<div>\n",
       "<style scoped>\n",
       "    .dataframe tbody tr th:only-of-type {\n",
       "        vertical-align: middle;\n",
       "    }\n",
       "\n",
       "    .dataframe tbody tr th {\n",
       "        vertical-align: top;\n",
       "    }\n",
       "\n",
       "    .dataframe thead th {\n",
       "        text-align: right;\n",
       "    }\n",
       "</style>\n",
       "<table border=\"1\" class=\"dataframe\">\n",
       "  <thead>\n",
       "    <tr style=\"text-align: right;\">\n",
       "      <th></th>\n",
       "      <th>docdb_family_id1</th>\n",
       "      <th>docdb_family_id2</th>\n",
       "      <th>docdb_familyid2_techclass</th>\n",
       "    </tr>\n",
       "  </thead>\n",
       "  <tbody>\n",
       "    <tr>\n",
       "      <th>0</th>\n",
       "      <td>574528</td>\n",
       "      <td>38353081</td>\n",
       "      <td>Other Fields</td>\n",
       "    </tr>\n",
       "    <tr>\n",
       "      <th>1</th>\n",
       "      <td>574528</td>\n",
       "      <td>38353081</td>\n",
       "      <td>Other Fields</td>\n",
       "    </tr>\n",
       "    <tr>\n",
       "      <th>2</th>\n",
       "      <td>574528</td>\n",
       "      <td>37907999</td>\n",
       "      <td>Other Fields</td>\n",
       "    </tr>\n",
       "    <tr>\n",
       "      <th>3</th>\n",
       "      <td>574528</td>\n",
       "      <td>37907999</td>\n",
       "      <td>Other Fields</td>\n",
       "    </tr>\n",
       "    <tr>\n",
       "      <th>4</th>\n",
       "      <td>574528</td>\n",
       "      <td>37907999</td>\n",
       "      <td>Other Fields</td>\n",
       "    </tr>\n",
       "    <tr>\n",
       "      <th>...</th>\n",
       "      <td>...</td>\n",
       "      <td>...</td>\n",
       "      <td>...</td>\n",
       "    </tr>\n",
       "    <tr>\n",
       "      <th>1269975978</th>\n",
       "      <td>49584502</td>\n",
       "      <td>38051546</td>\n",
       "      <td>Other Fields</td>\n",
       "    </tr>\n",
       "    <tr>\n",
       "      <th>1269975979</th>\n",
       "      <td>49584502</td>\n",
       "      <td>38051546</td>\n",
       "      <td>Other Fields</td>\n",
       "    </tr>\n",
       "    <tr>\n",
       "      <th>1269975980</th>\n",
       "      <td>49584502</td>\n",
       "      <td>38051546</td>\n",
       "      <td>Other Fields</td>\n",
       "    </tr>\n",
       "    <tr>\n",
       "      <th>1269975981</th>\n",
       "      <td>49584502</td>\n",
       "      <td>38051546</td>\n",
       "      <td>Other Fields</td>\n",
       "    </tr>\n",
       "    <tr>\n",
       "      <th>1269975982</th>\n",
       "      <td>49584502</td>\n",
       "      <td>38051546</td>\n",
       "      <td>Other Fields</td>\n",
       "    </tr>\n",
       "  </tbody>\n",
       "</table>\n",
       "<p>1269975983 rows × 3 columns</p>\n",
       "</div>"
      ],
      "text/plain": [
       "            docdb_family_id1  docdb_family_id2 docdb_familyid2_techclass\n",
       "0                     574528          38353081              Other Fields\n",
       "1                     574528          38353081              Other Fields\n",
       "2                     574528          37907999              Other Fields\n",
       "3                     574528          37907999              Other Fields\n",
       "4                     574528          37907999              Other Fields\n",
       "...                      ...               ...                       ...\n",
       "1269975978          49584502          38051546              Other Fields\n",
       "1269975979          49584502          38051546              Other Fields\n",
       "1269975980          49584502          38051546              Other Fields\n",
       "1269975981          49584502          38051546              Other Fields\n",
       "1269975982          49584502          38051546              Other Fields\n",
       "\n",
       "[1269975983 rows x 3 columns]"
      ]
     },
     "execution_count": 71,
     "metadata": {},
     "output_type": "execute_result"
    }
   ],
   "source": [
    "data_merged3[['docdb_family_id1','docdb_family_id2','docdb_familyid2_techclass']]"
   ]
  },
  {
   "cell_type": "code",
   "execution_count": 72,
   "metadata": {},
   "outputs": [],
   "source": [
    "data_merged4=data_merged3[['docdb_family_id1','docdb_family_id2','docdb_familyid2_techclass']]"
   ]
  },
  {
   "cell_type": "code",
   "execution_count": 73,
   "metadata": {},
   "outputs": [
    {
     "data": {
      "text/html": [
       "<div>\n",
       "<style scoped>\n",
       "    .dataframe tbody tr th:only-of-type {\n",
       "        vertical-align: middle;\n",
       "    }\n",
       "\n",
       "    .dataframe tbody tr th {\n",
       "        vertical-align: top;\n",
       "    }\n",
       "\n",
       "    .dataframe thead th {\n",
       "        text-align: right;\n",
       "    }\n",
       "</style>\n",
       "<table border=\"1\" class=\"dataframe\">\n",
       "  <thead>\n",
       "    <tr style=\"text-align: right;\">\n",
       "      <th></th>\n",
       "      <th>docdb_family_id1</th>\n",
       "      <th>docdb_family_id2</th>\n",
       "      <th>docdb_familyid1_techclass</th>\n",
       "    </tr>\n",
       "  </thead>\n",
       "  <tbody>\n",
       "    <tr>\n",
       "      <th>0</th>\n",
       "      <td>574528</td>\n",
       "      <td>38353081</td>\n",
       "      <td>Other Fields</td>\n",
       "    </tr>\n",
       "    <tr>\n",
       "      <th>1</th>\n",
       "      <td>574528</td>\n",
       "      <td>38353081</td>\n",
       "      <td>Other Fields</td>\n",
       "    </tr>\n",
       "    <tr>\n",
       "      <th>2</th>\n",
       "      <td>574528</td>\n",
       "      <td>38353081</td>\n",
       "      <td>Other Fields</td>\n",
       "    </tr>\n",
       "    <tr>\n",
       "      <th>3</th>\n",
       "      <td>574528</td>\n",
       "      <td>38353081</td>\n",
       "      <td>Other Fields</td>\n",
       "    </tr>\n",
       "    <tr>\n",
       "      <th>4</th>\n",
       "      <td>574528</td>\n",
       "      <td>38353081</td>\n",
       "      <td>Other Fields</td>\n",
       "    </tr>\n",
       "  </tbody>\n",
       "</table>\n",
       "</div>"
      ],
      "text/plain": [
       "   docdb_family_id1  docdb_family_id2 docdb_familyid1_techclass\n",
       "0            574528          38353081              Other Fields\n",
       "1            574528          38353081              Other Fields\n",
       "2            574528          38353081              Other Fields\n",
       "3            574528          38353081              Other Fields\n",
       "4            574528          38353081              Other Fields"
      ]
     },
     "execution_count": 73,
     "metadata": {},
     "output_type": "execute_result"
    }
   ],
   "source": [
    "data_merged2.head()"
   ]
  },
  {
   "cell_type": "code",
   "execution_count": 74,
   "metadata": {},
   "outputs": [
    {
     "data": {
      "text/html": [
       "<div>\n",
       "<style scoped>\n",
       "    .dataframe tbody tr th:only-of-type {\n",
       "        vertical-align: middle;\n",
       "    }\n",
       "\n",
       "    .dataframe tbody tr th {\n",
       "        vertical-align: top;\n",
       "    }\n",
       "\n",
       "    .dataframe thead th {\n",
       "        text-align: right;\n",
       "    }\n",
       "</style>\n",
       "<table border=\"1\" class=\"dataframe\">\n",
       "  <thead>\n",
       "    <tr style=\"text-align: right;\">\n",
       "      <th></th>\n",
       "      <th>docdb_family_id1</th>\n",
       "      <th>docdb_family_id2</th>\n",
       "      <th>docdb_familyid2_techclass</th>\n",
       "    </tr>\n",
       "  </thead>\n",
       "  <tbody>\n",
       "    <tr>\n",
       "      <th>0</th>\n",
       "      <td>574528</td>\n",
       "      <td>38353081</td>\n",
       "      <td>Other Fields</td>\n",
       "    </tr>\n",
       "    <tr>\n",
       "      <th>1</th>\n",
       "      <td>574528</td>\n",
       "      <td>38353081</td>\n",
       "      <td>Other Fields</td>\n",
       "    </tr>\n",
       "    <tr>\n",
       "      <th>2</th>\n",
       "      <td>574528</td>\n",
       "      <td>37907999</td>\n",
       "      <td>Other Fields</td>\n",
       "    </tr>\n",
       "    <tr>\n",
       "      <th>3</th>\n",
       "      <td>574528</td>\n",
       "      <td>37907999</td>\n",
       "      <td>Other Fields</td>\n",
       "    </tr>\n",
       "    <tr>\n",
       "      <th>4</th>\n",
       "      <td>574528</td>\n",
       "      <td>37907999</td>\n",
       "      <td>Other Fields</td>\n",
       "    </tr>\n",
       "  </tbody>\n",
       "</table>\n",
       "</div>"
      ],
      "text/plain": [
       "   docdb_family_id1  docdb_family_id2 docdb_familyid2_techclass\n",
       "0            574528          38353081              Other Fields\n",
       "1            574528          38353081              Other Fields\n",
       "2            574528          37907999              Other Fields\n",
       "3            574528          37907999              Other Fields\n",
       "4            574528          37907999              Other Fields"
      ]
     },
     "execution_count": 74,
     "metadata": {},
     "output_type": "execute_result"
    }
   ],
   "source": [
    "data_merged4.head()"
   ]
  },
  {
   "cell_type": "code",
   "execution_count": 75,
   "metadata": {},
   "outputs": [
    {
     "data": {
      "text/plain": [
       "docdb_familyid1_techclass\n",
       "Other Fields              929736351\n",
       "Mechanical engineering    187580331\n",
       "Chemistry                  90019398\n",
       "Instruments                62948775\n",
       "Electrical Engineering     54729602\n",
       "Name: count, dtype: int64"
      ]
     },
     "execution_count": 75,
     "metadata": {},
     "output_type": "execute_result"
    }
   ],
   "source": [
    "data_merged2['docdb_familyid1_techclass'].value_counts()"
   ]
  },
  {
   "cell_type": "code",
   "execution_count": 77,
   "metadata": {},
   "outputs": [
    {
     "data": {
      "text/plain": [
       "docdb_familyid2_techclass\n",
       "Other Fields              940381107\n",
       "Mechanical engineering    165311295\n",
       "Chemistry                  71369670\n",
       "Electrical Engineering     47976721\n",
       "Instruments                44936390\n",
       "Name: count, dtype: int64"
      ]
     },
     "execution_count": 77,
     "metadata": {},
     "output_type": "execute_result"
    }
   ],
   "source": [
    "data_merged4['docdb_familyid2_techclass'].value_counts()"
   ]
  },
  {
   "cell_type": "code",
   "execution_count": null,
   "metadata": {},
   "outputs": [],
   "source": [
    "#tech classes for the patents used in octamine are diverse"
   ]
  },
  {
   "cell_type": "code",
   "execution_count": 22,
   "metadata": {},
   "outputs": [
    {
     "data": {
      "text/plain": [
       "228955259"
      ]
     },
     "execution_count": 22,
     "metadata": {},
     "output_type": "execute_result"
    }
   ],
   "source": [
    "len(data_octamine)"
   ]
  },
  {
   "cell_type": "code",
   "execution_count": 23,
   "metadata": {},
   "outputs": [
    {
     "data": {
      "text/plain": [
       "1325015457"
      ]
     },
     "execution_count": 23,
     "metadata": {},
     "output_type": "execute_result"
    }
   ],
   "source": [
    "len(data_merged2)"
   ]
  },
  {
   "cell_type": "code",
   "execution_count": 24,
   "metadata": {},
   "outputs": [
    {
     "data": {
      "text/plain": [
       "1269975983"
      ]
     },
     "execution_count": 24,
     "metadata": {},
     "output_type": "execute_result"
    }
   ],
   "source": [
    "len(data_merged4)"
   ]
  },
  {
   "cell_type": "code",
   "execution_count": 78,
   "metadata": {},
   "outputs": [
    {
     "data": {
      "text/plain": [
       "109101031"
      ]
     },
     "execution_count": 78,
     "metadata": {},
     "output_type": "execute_result"
    }
   ],
   "source": [
    "len(data_tech_class)"
   ]
  },
  {
   "cell_type": "code",
   "execution_count": 79,
   "metadata": {},
   "outputs": [
    {
     "data": {
      "text/html": [
       "<div>\n",
       "<style scoped>\n",
       "    .dataframe tbody tr th:only-of-type {\n",
       "        vertical-align: middle;\n",
       "    }\n",
       "\n",
       "    .dataframe tbody tr th {\n",
       "        vertical-align: top;\n",
       "    }\n",
       "\n",
       "    .dataframe thead th {\n",
       "        text-align: right;\n",
       "    }\n",
       "</style>\n",
       "<table border=\"1\" class=\"dataframe\">\n",
       "  <thead>\n",
       "    <tr style=\"text-align: right;\">\n",
       "      <th></th>\n",
       "      <th>docdb_family_id1</th>\n",
       "      <th>docdb_family_id2</th>\n",
       "      <th>docdb_familyid1_techclass</th>\n",
       "    </tr>\n",
       "  </thead>\n",
       "  <tbody>\n",
       "    <tr>\n",
       "      <th>0</th>\n",
       "      <td>574528</td>\n",
       "      <td>38353081</td>\n",
       "      <td>Other Fields</td>\n",
       "    </tr>\n",
       "    <tr>\n",
       "      <th>1</th>\n",
       "      <td>574528</td>\n",
       "      <td>38353081</td>\n",
       "      <td>Other Fields</td>\n",
       "    </tr>\n",
       "    <tr>\n",
       "      <th>2</th>\n",
       "      <td>574528</td>\n",
       "      <td>38353081</td>\n",
       "      <td>Other Fields</td>\n",
       "    </tr>\n",
       "    <tr>\n",
       "      <th>3</th>\n",
       "      <td>574528</td>\n",
       "      <td>38353081</td>\n",
       "      <td>Other Fields</td>\n",
       "    </tr>\n",
       "    <tr>\n",
       "      <th>4</th>\n",
       "      <td>574528</td>\n",
       "      <td>38353081</td>\n",
       "      <td>Other Fields</td>\n",
       "    </tr>\n",
       "  </tbody>\n",
       "</table>\n",
       "</div>"
      ],
      "text/plain": [
       "   docdb_family_id1  docdb_family_id2 docdb_familyid1_techclass\n",
       "0            574528          38353081              Other Fields\n",
       "1            574528          38353081              Other Fields\n",
       "2            574528          38353081              Other Fields\n",
       "3            574528          38353081              Other Fields\n",
       "4            574528          38353081              Other Fields"
      ]
     },
     "execution_count": 79,
     "metadata": {},
     "output_type": "execute_result"
    }
   ],
   "source": [
    "data_merged2.head()"
   ]
  },
  {
   "cell_type": "code",
   "execution_count": 80,
   "metadata": {},
   "outputs": [
    {
     "data": {
      "text/html": [
       "<div>\n",
       "<style scoped>\n",
       "    .dataframe tbody tr th:only-of-type {\n",
       "        vertical-align: middle;\n",
       "    }\n",
       "\n",
       "    .dataframe tbody tr th {\n",
       "        vertical-align: top;\n",
       "    }\n",
       "\n",
       "    .dataframe thead th {\n",
       "        text-align: right;\n",
       "    }\n",
       "</style>\n",
       "<table border=\"1\" class=\"dataframe\">\n",
       "  <thead>\n",
       "    <tr style=\"text-align: right;\">\n",
       "      <th></th>\n",
       "      <th>docdb_family_id1</th>\n",
       "      <th>docdb_family_id2</th>\n",
       "      <th>docdb_familyid2_techclass</th>\n",
       "    </tr>\n",
       "  </thead>\n",
       "  <tbody>\n",
       "    <tr>\n",
       "      <th>0</th>\n",
       "      <td>574528</td>\n",
       "      <td>38353081</td>\n",
       "      <td>Other Fields</td>\n",
       "    </tr>\n",
       "    <tr>\n",
       "      <th>1</th>\n",
       "      <td>574528</td>\n",
       "      <td>38353081</td>\n",
       "      <td>Other Fields</td>\n",
       "    </tr>\n",
       "    <tr>\n",
       "      <th>2</th>\n",
       "      <td>574528</td>\n",
       "      <td>37907999</td>\n",
       "      <td>Other Fields</td>\n",
       "    </tr>\n",
       "    <tr>\n",
       "      <th>3</th>\n",
       "      <td>574528</td>\n",
       "      <td>37907999</td>\n",
       "      <td>Other Fields</td>\n",
       "    </tr>\n",
       "    <tr>\n",
       "      <th>4</th>\n",
       "      <td>574528</td>\n",
       "      <td>37907999</td>\n",
       "      <td>Other Fields</td>\n",
       "    </tr>\n",
       "  </tbody>\n",
       "</table>\n",
       "</div>"
      ],
      "text/plain": [
       "   docdb_family_id1  docdb_family_id2 docdb_familyid2_techclass\n",
       "0            574528          38353081              Other Fields\n",
       "1            574528          38353081              Other Fields\n",
       "2            574528          37907999              Other Fields\n",
       "3            574528          37907999              Other Fields\n",
       "4            574528          37907999              Other Fields"
      ]
     },
     "execution_count": 80,
     "metadata": {},
     "output_type": "execute_result"
    }
   ],
   "source": [
    "data_merged4.head()"
   ]
  },
  {
   "cell_type": "code",
   "execution_count": null,
   "metadata": {},
   "outputs": [],
   "source": []
  }
 ],
 "metadata": {
  "kernelspec": {
   "display_name": "Python 3",
   "language": "python",
   "name": "python3"
  },
  "language_info": {
   "codemirror_mode": {
    "name": "ipython",
    "version": 3
   },
   "file_extension": ".py",
   "mimetype": "text/x-python",
   "name": "python",
   "nbconvert_exporter": "python",
   "pygments_lexer": "ipython3",
   "version": "3.10.12"
  }
 },
 "nbformat": 4,
 "nbformat_minor": 2
}
