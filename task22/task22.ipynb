{
 "cells": [
  {
   "cell_type": "code",
   "execution_count": null,
   "metadata": {},
   "outputs": [],
   "source": [
    "import pandas as pd\n",
    "data=pd.read_pickle(\"21similar_patents_updated.pkl\")"
   ]
  },
  {
   "cell_type": "code",
   "execution_count": 2,
   "metadata": {},
   "outputs": [
    {
     "data": {
      "text/html": [
       "<div>\n",
       "<style scoped>\n",
       "    .dataframe tbody tr th:only-of-type {\n",
       "        vertical-align: middle;\n",
       "    }\n",
       "\n",
       "    .dataframe tbody tr th {\n",
       "        vertical-align: top;\n",
       "    }\n",
       "\n",
       "    .dataframe thead th {\n",
       "        text-align: right;\n",
       "    }\n",
       "</style>\n",
       "<table border=\"1\" class=\"dataframe\">\n",
       "  <thead>\n",
       "    <tr style=\"text-align: right;\">\n",
       "      <th></th>\n",
       "      <th>docdb_family_id</th>\n",
       "      <th>earliest_pat_publn_id</th>\n",
       "      <th>earliest_filing_date</th>\n",
       "      <th>appln_auth</th>\n",
       "      <th>granted</th>\n",
       "      <th>similar_patents</th>\n",
       "    </tr>\n",
       "  </thead>\n",
       "  <tbody>\n",
       "    <tr>\n",
       "      <th>0</th>\n",
       "      <td>574528.0</td>\n",
       "      <td>307102421.0</td>\n",
       "      <td>1985-04-10</td>\n",
       "      <td>EP</td>\n",
       "      <td>Y</td>\n",
       "      <td>[(574528, 1.999717), (9306402, 1.9822814), (84...</td>\n",
       "    </tr>\n",
       "    <tr>\n",
       "      <th>1</th>\n",
       "      <td>574586.0</td>\n",
       "      <td>387396319.0</td>\n",
       "      <td>1987-06-08</td>\n",
       "      <td>EP</td>\n",
       "      <td>Y</td>\n",
       "      <td>[(574586, 1.9997215), (63363761, 1.97839), (83...</td>\n",
       "    </tr>\n",
       "    <tr>\n",
       "      <th>2</th>\n",
       "      <td>574660.0</td>\n",
       "      <td>387398325.0</td>\n",
       "      <td>1986-08-04</td>\n",
       "      <td>EP</td>\n",
       "      <td>Y</td>\n",
       "      <td>[(574660, 1.9997239), (6240233, 1.9768794), (2...</td>\n",
       "    </tr>\n",
       "    <tr>\n",
       "      <th>3</th>\n",
       "      <td>1226456.0</td>\n",
       "      <td>303518198.0</td>\n",
       "      <td>1991-08-29</td>\n",
       "      <td>EP</td>\n",
       "      <td>Y</td>\n",
       "      <td>[(1226456, 1.9997258), (4856238, 1.9822338), (...</td>\n",
       "    </tr>\n",
       "    <tr>\n",
       "      <th>4</th>\n",
       "      <td>1226485.0</td>\n",
       "      <td>302640285.0</td>\n",
       "      <td>1992-08-12</td>\n",
       "      <td>EP</td>\n",
       "      <td>Y</td>\n",
       "      <td>[(1226485, 1.9996202), (6328120, 1.987576), (2...</td>\n",
       "    </tr>\n",
       "  </tbody>\n",
       "</table>\n",
       "</div>"
      ],
      "text/plain": [
       "   docdb_family_id  earliest_pat_publn_id earliest_filing_date appln_auth  \\\n",
       "0         574528.0            307102421.0           1985-04-10         EP   \n",
       "1         574586.0            387396319.0           1987-06-08         EP   \n",
       "2         574660.0            387398325.0           1986-08-04         EP   \n",
       "3        1226456.0            303518198.0           1991-08-29         EP   \n",
       "4        1226485.0            302640285.0           1992-08-12         EP   \n",
       "\n",
       "  granted                                    similar_patents  \n",
       "0       Y  [(574528, 1.999717), (9306402, 1.9822814), (84...  \n",
       "1       Y  [(574586, 1.9997215), (63363761, 1.97839), (83...  \n",
       "2       Y  [(574660, 1.9997239), (6240233, 1.9768794), (2...  \n",
       "3       Y  [(1226456, 1.9997258), (4856238, 1.9822338), (...  \n",
       "4       Y  [(1226485, 1.9996202), (6328120, 1.987576), (2...  "
      ]
     },
     "execution_count": 2,
     "metadata": {},
     "output_type": "execute_result"
    }
   ],
   "source": [
    "data.head()"
   ]
  },
  {
   "cell_type": "code",
   "execution_count": 3,
   "metadata": {},
   "outputs": [
    {
     "data": {
      "text/plain": [
       "docdb_family_id            0\n",
       "earliest_pat_publn_id      0\n",
       "earliest_filing_date       0\n",
       "appln_auth                 0\n",
       "granted                    0\n",
       "similar_patents          125\n",
       "dtype: int64"
      ]
     },
     "execution_count": 3,
     "metadata": {},
     "output_type": "execute_result"
    }
   ],
   "source": [
    "data.isna().sum()"
   ]
  },
  {
   "cell_type": "code",
   "execution_count": 4,
   "metadata": {},
   "outputs": [
    {
     "data": {
      "text/plain": [
       "125"
      ]
     },
     "execution_count": 4,
     "metadata": {},
     "output_type": "execute_result"
    }
   ],
   "source": [
    "len(pd.read_pickle(\"error_ids.pkl\"))"
   ]
  },
  {
   "cell_type": "code",
   "execution_count": 5,
   "metadata": {},
   "outputs": [
    {
     "data": {
      "text/plain": [
       "2000"
      ]
     },
     "execution_count": 5,
     "metadata": {},
     "output_type": "execute_result"
    }
   ],
   "source": [
    "len(data[\"similar_patents\"][0])"
   ]
  },
  {
   "cell_type": "code",
   "execution_count": 6,
   "metadata": {},
   "outputs": [],
   "source": [
    "def unique_patents(lst):\n",
    "    # Check if lst is a valid list or iterable\n",
    "    if isinstance(lst, list):\n",
    "        return len(lst)\n",
    "    else:\n",
    "        # Handle the case where the value is not a list (e.g., NaN or float)\n",
    "        return 0  # or return np.nan if you want to keep it as NaN for invalid entries\n"
   ]
  },
  {
   "cell_type": "code",
   "execution_count": 7,
   "metadata": {},
   "outputs": [],
   "source": [
    "data[\"num_unique_patents\"]=data[\"similar_patents\"].apply(unique_patents)"
   ]
  },
  {
   "cell_type": "code",
   "execution_count": 8,
   "metadata": {},
   "outputs": [
    {
     "data": {
      "text/html": [
       "<div>\n",
       "<style scoped>\n",
       "    .dataframe tbody tr th:only-of-type {\n",
       "        vertical-align: middle;\n",
       "    }\n",
       "\n",
       "    .dataframe tbody tr th {\n",
       "        vertical-align: top;\n",
       "    }\n",
       "\n",
       "    .dataframe thead th {\n",
       "        text-align: right;\n",
       "    }\n",
       "</style>\n",
       "<table border=\"1\" class=\"dataframe\">\n",
       "  <thead>\n",
       "    <tr style=\"text-align: right;\">\n",
       "      <th></th>\n",
       "      <th>docdb_family_id</th>\n",
       "      <th>earliest_pat_publn_id</th>\n",
       "      <th>earliest_filing_date</th>\n",
       "      <th>appln_auth</th>\n",
       "      <th>granted</th>\n",
       "      <th>similar_patents</th>\n",
       "      <th>num_unique_patents</th>\n",
       "    </tr>\n",
       "  </thead>\n",
       "  <tbody>\n",
       "    <tr>\n",
       "      <th>0</th>\n",
       "      <td>574528.0</td>\n",
       "      <td>307102421.0</td>\n",
       "      <td>1985-04-10</td>\n",
       "      <td>EP</td>\n",
       "      <td>Y</td>\n",
       "      <td>[(574528, 1.999717), (9306402, 1.9822814), (84...</td>\n",
       "      <td>2000</td>\n",
       "    </tr>\n",
       "    <tr>\n",
       "      <th>1</th>\n",
       "      <td>574586.0</td>\n",
       "      <td>387396319.0</td>\n",
       "      <td>1987-06-08</td>\n",
       "      <td>EP</td>\n",
       "      <td>Y</td>\n",
       "      <td>[(574586, 1.9997215), (63363761, 1.97839), (83...</td>\n",
       "      <td>2000</td>\n",
       "    </tr>\n",
       "    <tr>\n",
       "      <th>2</th>\n",
       "      <td>574660.0</td>\n",
       "      <td>387398325.0</td>\n",
       "      <td>1986-08-04</td>\n",
       "      <td>EP</td>\n",
       "      <td>Y</td>\n",
       "      <td>[(574660, 1.9997239), (6240233, 1.9768794), (2...</td>\n",
       "      <td>1658</td>\n",
       "    </tr>\n",
       "    <tr>\n",
       "      <th>3</th>\n",
       "      <td>1226456.0</td>\n",
       "      <td>303518198.0</td>\n",
       "      <td>1991-08-29</td>\n",
       "      <td>EP</td>\n",
       "      <td>Y</td>\n",
       "      <td>[(1226456, 1.9997258), (4856238, 1.9822338), (...</td>\n",
       "      <td>2000</td>\n",
       "    </tr>\n",
       "    <tr>\n",
       "      <th>4</th>\n",
       "      <td>1226485.0</td>\n",
       "      <td>302640285.0</td>\n",
       "      <td>1992-08-12</td>\n",
       "      <td>EP</td>\n",
       "      <td>Y</td>\n",
       "      <td>[(1226485, 1.9996202), (6328120, 1.987576), (2...</td>\n",
       "      <td>2000</td>\n",
       "    </tr>\n",
       "  </tbody>\n",
       "</table>\n",
       "</div>"
      ],
      "text/plain": [
       "   docdb_family_id  earliest_pat_publn_id earliest_filing_date appln_auth  \\\n",
       "0         574528.0            307102421.0           1985-04-10         EP   \n",
       "1         574586.0            387396319.0           1987-06-08         EP   \n",
       "2         574660.0            387398325.0           1986-08-04         EP   \n",
       "3        1226456.0            303518198.0           1991-08-29         EP   \n",
       "4        1226485.0            302640285.0           1992-08-12         EP   \n",
       "\n",
       "  granted                                    similar_patents  \\\n",
       "0       Y  [(574528, 1.999717), (9306402, 1.9822814), (84...   \n",
       "1       Y  [(574586, 1.9997215), (63363761, 1.97839), (83...   \n",
       "2       Y  [(574660, 1.9997239), (6240233, 1.9768794), (2...   \n",
       "3       Y  [(1226456, 1.9997258), (4856238, 1.9822338), (...   \n",
       "4       Y  [(1226485, 1.9996202), (6328120, 1.987576), (2...   \n",
       "\n",
       "   num_unique_patents  \n",
       "0                2000  \n",
       "1                2000  \n",
       "2                1658  \n",
       "3                2000  \n",
       "4                2000  "
      ]
     },
     "execution_count": 8,
     "metadata": {},
     "output_type": "execute_result"
    }
   ],
   "source": [
    "data.head()"
   ]
  },
  {
   "cell_type": "code",
   "execution_count": 9,
   "metadata": {},
   "outputs": [],
   "source": [
    "data_notfound=data[data[\"num_unique_patents\"]==0]"
   ]
  },
  {
   "cell_type": "code",
   "execution_count": 10,
   "metadata": {},
   "outputs": [],
   "source": [
    "data_lessthan1000=data[(data[\"num_unique_patents\"]>0) & (data[\"num_unique_patents\"]<1000)]"
   ]
  },
  {
   "cell_type": "code",
   "execution_count": 11,
   "metadata": {},
   "outputs": [],
   "source": [
    "data_atleast1000=data[data[\"num_unique_patents\"]>=1000]"
   ]
  },
  {
   "cell_type": "code",
   "execution_count": null,
   "metadata": {},
   "outputs": [],
   "source": [
    "(data_notfound.reset_index(drop=True)).to_pickle(\"22patents_NotFound.pkl\")"
   ]
  },
  {
   "cell_type": "code",
   "execution_count": null,
   "metadata": {},
   "outputs": [],
   "source": [
    "(data_atleast1000.reset_index(drop=True)).to_pickle(\"22patents_atleast1000.pkl\")"
   ]
  },
  {
   "cell_type": "code",
   "execution_count": null,
   "metadata": {},
   "outputs": [],
   "source": [
    "(data_lessthan1000.reset_index(drop=True)).to_pickle(\"22patents_lessthan1000.pkl\")"
   ]
  },
  {
   "cell_type": "code",
   "execution_count": null,
   "metadata": {},
   "outputs": [],
   "source": []
  }
 ],
 "metadata": {
  "kernelspec": {
   "display_name": "Python 3",
   "language": "python",
   "name": "python3"
  },
  "language_info": {
   "codemirror_mode": {
    "name": "ipython",
    "version": 3
   },
   "file_extension": ".py",
   "mimetype": "text/x-python",
   "name": "python",
   "nbconvert_exporter": "python",
   "pygments_lexer": "ipython3",
   "version": "3.10.12"
  }
 },
 "nbformat": 4,
 "nbformat_minor": 2
}
