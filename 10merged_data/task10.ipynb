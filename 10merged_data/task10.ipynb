{
 "cells": [
  {
   "cell_type": "code",
   "execution_count": 1,
   "metadata": {},
   "outputs": [],
   "source": [
    "import pandas as pd"
   ]
  },
  {
   "cell_type": "code",
   "execution_count": null,
   "metadata": {},
   "outputs": [],
   "source": [
    "data=pd.read_csv(\"8similar_patents_with_techclasses.csv\")"
   ]
  },
  {
   "cell_type": "code",
   "execution_count": 3,
   "metadata": {},
   "outputs": [
    {
     "data": {
      "text/plain": [
       "124310"
      ]
     },
     "execution_count": 3,
     "metadata": {},
     "output_type": "execute_result"
    }
   ],
   "source": [
    "len(data)"
   ]
  },
  {
   "cell_type": "code",
   "execution_count": 4,
   "metadata": {},
   "outputs": [
    {
     "data": {
      "text/html": [
       "<div>\n",
       "<style scoped>\n",
       "    .dataframe tbody tr th:only-of-type {\n",
       "        vertical-align: middle;\n",
       "    }\n",
       "\n",
       "    .dataframe tbody tr th {\n",
       "        vertical-align: top;\n",
       "    }\n",
       "\n",
       "    .dataframe thead th {\n",
       "        text-align: right;\n",
       "    }\n",
       "</style>\n",
       "<table border=\"1\" class=\"dataframe\">\n",
       "  <thead>\n",
       "    <tr style=\"text-align: right;\">\n",
       "      <th></th>\n",
       "      <th>key</th>\n",
       "      <th>appln_id</th>\n",
       "      <th>mainarea34</th>\n",
       "      <th>docdb_family_id</th>\n",
       "      <th>pat_publn_id</th>\n",
       "      <th>earliest_filing_date</th>\n",
       "      <th>appln_auth</th>\n",
       "      <th>granted</th>\n",
       "      <th>publn_auth</th>\n",
       "      <th>publn_nr</th>\n",
       "      <th>publn_kind</th>\n",
       "      <th>similar_patents</th>\n",
       "      <th>similar_patents_familyIDs</th>\n",
       "      <th>num_unique_familyIDs</th>\n",
       "    </tr>\n",
       "  </thead>\n",
       "  <tbody>\n",
       "    <tr>\n",
       "      <th>0</th>\n",
       "      <td>EP1321051A2</td>\n",
       "      <td>19</td>\n",
       "      <td>Other Fields</td>\n",
       "      <td>19188314.0</td>\n",
       "      <td>286949845.0</td>\n",
       "      <td>2001-12-21</td>\n",
       "      <td>EP</td>\n",
       "      <td>Y</td>\n",
       "      <td>EP</td>\n",
       "      <td>1321051</td>\n",
       "      <td>A2</td>\n",
       "      <td>['US5759163A', 'WO9410865A1', 'EP0664965A1', '...</td>\n",
       "      <td>['25279710', '25522562', '22699396', '22758306...</td>\n",
       "      <td>1854</td>\n",
       "    </tr>\n",
       "    <tr>\n",
       "      <th>1</th>\n",
       "      <td>EP1323868A1</td>\n",
       "      <td>20</td>\n",
       "      <td>Other Fields</td>\n",
       "      <td>19774416.0</td>\n",
       "      <td>287579451.0</td>\n",
       "      <td>2001-12-20</td>\n",
       "      <td>EP</td>\n",
       "      <td>Y</td>\n",
       "      <td>EP</td>\n",
       "      <td>1323868</td>\n",
       "      <td>A1</td>\n",
       "      <td>['EP0226251A1', 'EP0672795A1', 'WO8002359A1', ...</td>\n",
       "      <td>['19846985', '19863945', '6070111', '27544489'...</td>\n",
       "      <td>1899</td>\n",
       "    </tr>\n",
       "    <tr>\n",
       "      <th>2</th>\n",
       "      <td>EP1240845A1</td>\n",
       "      <td>23</td>\n",
       "      <td>Other Fields</td>\n",
       "      <td>8861213.0</td>\n",
       "      <td>289129312.0</td>\n",
       "      <td>2001-03-16</td>\n",
       "      <td>EP</td>\n",
       "      <td>Y</td>\n",
       "      <td>EP</td>\n",
       "      <td>1240845</td>\n",
       "      <td>A1</td>\n",
       "      <td>['WO0187245A3', 'WO0187245A2', 'US2002010556A1...</td>\n",
       "      <td>['27075299', '27075299', '24279046', '26914213...</td>\n",
       "      <td>1620</td>\n",
       "    </tr>\n",
       "    <tr>\n",
       "      <th>3</th>\n",
       "      <td>EP1452428A1</td>\n",
       "      <td>33</td>\n",
       "      <td>Mechanical engineering</td>\n",
       "      <td>19184257.0</td>\n",
       "      <td>287898353.0</td>\n",
       "      <td>2001-12-10</td>\n",
       "      <td>EP</td>\n",
       "      <td>Y</td>\n",
       "      <td>EP</td>\n",
       "      <td>1452428</td>\n",
       "      <td>A1</td>\n",
       "      <td>['US2004079004A1', 'WO03049990A1', 'EP1304282A...</td>\n",
       "      <td>['19184257', '19184257', '19140954', '18907837...</td>\n",
       "      <td>1837</td>\n",
       "    </tr>\n",
       "    <tr>\n",
       "      <th>4</th>\n",
       "      <td>EP1733650A1</td>\n",
       "      <td>76</td>\n",
       "      <td>Other Fields</td>\n",
       "      <td>35589510.0</td>\n",
       "      <td>279068442.0</td>\n",
       "      <td>2005-06-15</td>\n",
       "      <td>EP</td>\n",
       "      <td>Y</td>\n",
       "      <td>EP</td>\n",
       "      <td>1733650</td>\n",
       "      <td>A1</td>\n",
       "      <td>['WO9603606A1', 'EP0181477A2', 'WO9321868A1', ...</td>\n",
       "      <td>['3515062', '6247500', '3501175', '25076445', ...</td>\n",
       "      <td>1685</td>\n",
       "    </tr>\n",
       "  </tbody>\n",
       "</table>\n",
       "</div>"
      ],
      "text/plain": [
       "           key  appln_id              mainarea34  docdb_family_id  \\\n",
       "0  EP1321051A2        19            Other Fields       19188314.0   \n",
       "1  EP1323868A1        20            Other Fields       19774416.0   \n",
       "2  EP1240845A1        23            Other Fields        8861213.0   \n",
       "3  EP1452428A1        33  Mechanical engineering       19184257.0   \n",
       "4  EP1733650A1        76            Other Fields       35589510.0   \n",
       "\n",
       "   pat_publn_id earliest_filing_date appln_auth granted publn_auth  publn_nr  \\\n",
       "0   286949845.0           2001-12-21         EP       Y         EP   1321051   \n",
       "1   287579451.0           2001-12-20         EP       Y         EP   1323868   \n",
       "2   289129312.0           2001-03-16         EP       Y         EP   1240845   \n",
       "3   287898353.0           2001-12-10         EP       Y         EP   1452428   \n",
       "4   279068442.0           2005-06-15         EP       Y         EP   1733650   \n",
       "\n",
       "  publn_kind                                    similar_patents  \\\n",
       "0         A2  ['US5759163A', 'WO9410865A1', 'EP0664965A1', '...   \n",
       "1         A1  ['EP0226251A1', 'EP0672795A1', 'WO8002359A1', ...   \n",
       "2         A1  ['WO0187245A3', 'WO0187245A2', 'US2002010556A1...   \n",
       "3         A1  ['US2004079004A1', 'WO03049990A1', 'EP1304282A...   \n",
       "4         A1  ['WO9603606A1', 'EP0181477A2', 'WO9321868A1', ...   \n",
       "\n",
       "                           similar_patents_familyIDs  num_unique_familyIDs  \n",
       "0  ['25279710', '25522562', '22699396', '22758306...                  1854  \n",
       "1  ['19846985', '19863945', '6070111', '27544489'...                  1899  \n",
       "2  ['27075299', '27075299', '24279046', '26914213...                  1620  \n",
       "3  ['19184257', '19184257', '19140954', '18907837...                  1837  \n",
       "4  ['3515062', '6247500', '3501175', '25076445', ...                  1685  "
      ]
     },
     "execution_count": 4,
     "metadata": {},
     "output_type": "execute_result"
    }
   ],
   "source": [
    "data.head()"
   ]
  },
  {
   "cell_type": "code",
   "execution_count": 5,
   "metadata": {},
   "outputs": [],
   "source": [
    "data.reset_index(drop=True,inplace=True)"
   ]
  },
  {
   "cell_type": "code",
   "execution_count": 6,
   "metadata": {},
   "outputs": [],
   "source": [
    "dataconcat=data[data[\"num_unique_familyIDs\"]>=1000]"
   ]
  },
  {
   "cell_type": "code",
   "execution_count": 7,
   "metadata": {},
   "outputs": [],
   "source": [
    "dataconcat.reset_index(drop=True,inplace=True)"
   ]
  },
  {
   "cell_type": "code",
   "execution_count": 8,
   "metadata": {},
   "outputs": [
    {
     "data": {
      "text/plain": [
       "122057"
      ]
     },
     "execution_count": 8,
     "metadata": {},
     "output_type": "execute_result"
    }
   ],
   "source": [
    "len(dataconcat)"
   ]
  },
  {
   "cell_type": "code",
   "execution_count": 9,
   "metadata": {},
   "outputs": [
    {
     "data": {
      "text/html": [
       "<div>\n",
       "<style scoped>\n",
       "    .dataframe tbody tr th:only-of-type {\n",
       "        vertical-align: middle;\n",
       "    }\n",
       "\n",
       "    .dataframe tbody tr th {\n",
       "        vertical-align: top;\n",
       "    }\n",
       "\n",
       "    .dataframe thead th {\n",
       "        text-align: right;\n",
       "    }\n",
       "</style>\n",
       "<table border=\"1\" class=\"dataframe\">\n",
       "  <thead>\n",
       "    <tr style=\"text-align: right;\">\n",
       "      <th></th>\n",
       "      <th>key</th>\n",
       "      <th>appln_id</th>\n",
       "      <th>mainarea34</th>\n",
       "      <th>docdb_family_id</th>\n",
       "      <th>pat_publn_id</th>\n",
       "      <th>earliest_filing_date</th>\n",
       "      <th>appln_auth</th>\n",
       "      <th>granted</th>\n",
       "      <th>publn_auth</th>\n",
       "      <th>publn_nr</th>\n",
       "      <th>publn_kind</th>\n",
       "      <th>similar_patents</th>\n",
       "      <th>similar_patents_familyIDs</th>\n",
       "      <th>num_unique_familyIDs</th>\n",
       "    </tr>\n",
       "  </thead>\n",
       "  <tbody>\n",
       "    <tr>\n",
       "      <th>122052</th>\n",
       "      <td>EP2690227A2</td>\n",
       "      <td>409586682</td>\n",
       "      <td>Other Fields</td>\n",
       "      <td>48798396.0</td>\n",
       "      <td>413547728.0</td>\n",
       "      <td>2012-07-23</td>\n",
       "      <td>EP</td>\n",
       "      <td>N</td>\n",
       "      <td>EP</td>\n",
       "      <td>2690227</td>\n",
       "      <td>A2</td>\n",
       "      <td>['WO2008099102A3', 'WO2008099102A2', 'EP127800...</td>\n",
       "      <td>['38421144', '38421144', '8180675', '6181715',...</td>\n",
       "      <td>1591</td>\n",
       "    </tr>\n",
       "    <tr>\n",
       "      <th>122053</th>\n",
       "      <td>EP2674561A1</td>\n",
       "      <td>409625036</td>\n",
       "      <td>Other Fields</td>\n",
       "      <td>49582504.0</td>\n",
       "      <td>412522858.0</td>\n",
       "      <td>2006-02-08</td>\n",
       "      <td>EP</td>\n",
       "      <td>Y</td>\n",
       "      <td>EP</td>\n",
       "      <td>2674561</td>\n",
       "      <td>A1</td>\n",
       "      <td>['EP2674561A1', 'EP2211009A2', 'WO2004027193A1...</td>\n",
       "      <td>['49582504', '41864948', '32010904', '35169320...</td>\n",
       "      <td>1596</td>\n",
       "    </tr>\n",
       "    <tr>\n",
       "      <th>122054</th>\n",
       "      <td>EP2687126A2</td>\n",
       "      <td>410143740</td>\n",
       "      <td>Other Fields</td>\n",
       "      <td>49553546.0</td>\n",
       "      <td>413566611.0</td>\n",
       "      <td>2009-12-23</td>\n",
       "      <td>EP</td>\n",
       "      <td>Y</td>\n",
       "      <td>EP</td>\n",
       "      <td>2687126</td>\n",
       "      <td>A2</td>\n",
       "      <td>['US2011314623A1', 'WO2011079027A3', 'EP267406...</td>\n",
       "      <td>['43513866', '43513866', '43513866', '43513866...</td>\n",
       "      <td>1373</td>\n",
       "    </tr>\n",
       "    <tr>\n",
       "      <th>122055</th>\n",
       "      <td>EP2690246A1</td>\n",
       "      <td>410870038</td>\n",
       "      <td>Other Fields</td>\n",
       "      <td>49775738.0</td>\n",
       "      <td>413564354.0</td>\n",
       "      <td>2007-04-26</td>\n",
       "      <td>EP</td>\n",
       "      <td>Y</td>\n",
       "      <td>EP</td>\n",
       "      <td>2690246</td>\n",
       "      <td>A1</td>\n",
       "      <td>['US2010116449A1', 'WO2008131759A1', 'US201206...</td>\n",
       "      <td>['38926439', '38926439', '44509049', '27734972...</td>\n",
       "      <td>1644</td>\n",
       "    </tr>\n",
       "    <tr>\n",
       "      <th>122056</th>\n",
       "      <td>EP2816434A2</td>\n",
       "      <td>422047316</td>\n",
       "      <td>Instruments</td>\n",
       "      <td>42937309.0</td>\n",
       "      <td>423914137.0</td>\n",
       "      <td>2005-12-02</td>\n",
       "      <td>EP</td>\n",
       "      <td>N</td>\n",
       "      <td>EP</td>\n",
       "      <td>2816434</td>\n",
       "      <td>A2</td>\n",
       "      <td>['US2010037418A1', 'WO2011020040A1', 'US865655...</td>\n",
       "      <td>['42937309', '42937309', '46204671', '55409644...</td>\n",
       "      <td>1120</td>\n",
       "    </tr>\n",
       "  </tbody>\n",
       "</table>\n",
       "</div>"
      ],
      "text/plain": [
       "                key   appln_id    mainarea34  docdb_family_id  pat_publn_id  \\\n",
       "122052  EP2690227A2  409586682  Other Fields       48798396.0   413547728.0   \n",
       "122053  EP2674561A1  409625036  Other Fields       49582504.0   412522858.0   \n",
       "122054  EP2687126A2  410143740  Other Fields       49553546.0   413566611.0   \n",
       "122055  EP2690246A1  410870038  Other Fields       49775738.0   413564354.0   \n",
       "122056  EP2816434A2  422047316   Instruments       42937309.0   423914137.0   \n",
       "\n",
       "       earliest_filing_date appln_auth granted publn_auth  publn_nr  \\\n",
       "122052           2012-07-23         EP       N         EP   2690227   \n",
       "122053           2006-02-08         EP       Y         EP   2674561   \n",
       "122054           2009-12-23         EP       Y         EP   2687126   \n",
       "122055           2007-04-26         EP       Y         EP   2690246   \n",
       "122056           2005-12-02         EP       N         EP   2816434   \n",
       "\n",
       "       publn_kind                                    similar_patents  \\\n",
       "122052         A2  ['WO2008099102A3', 'WO2008099102A2', 'EP127800...   \n",
       "122053         A1  ['EP2674561A1', 'EP2211009A2', 'WO2004027193A1...   \n",
       "122054         A2  ['US2011314623A1', 'WO2011079027A3', 'EP267406...   \n",
       "122055         A1  ['US2010116449A1', 'WO2008131759A1', 'US201206...   \n",
       "122056         A2  ['US2010037418A1', 'WO2011020040A1', 'US865655...   \n",
       "\n",
       "                                similar_patents_familyIDs  \\\n",
       "122052  ['38421144', '38421144', '8180675', '6181715',...   \n",
       "122053  ['49582504', '41864948', '32010904', '35169320...   \n",
       "122054  ['43513866', '43513866', '43513866', '43513866...   \n",
       "122055  ['38926439', '38926439', '44509049', '27734972...   \n",
       "122056  ['42937309', '42937309', '46204671', '55409644...   \n",
       "\n",
       "        num_unique_familyIDs  \n",
       "122052                  1591  \n",
       "122053                  1596  \n",
       "122054                  1373  \n",
       "122055                  1644  \n",
       "122056                  1120  "
      ]
     },
     "execution_count": 9,
     "metadata": {},
     "output_type": "execute_result"
    }
   ],
   "source": [
    "dataconcat.tail()"
   ]
  },
  {
   "cell_type": "code",
   "execution_count": 10,
   "metadata": {},
   "outputs": [
    {
     "data": {
      "text/plain": [
       "2253"
      ]
     },
     "execution_count": 10,
     "metadata": {},
     "output_type": "execute_result"
    }
   ],
   "source": [
    "len(data[data[\"num_unique_familyIDs\"]<1000])"
   ]
  },
  {
   "cell_type": "code",
   "execution_count": 11,
   "metadata": {},
   "outputs": [
    {
     "data": {
      "text/plain": [
       "124310"
      ]
     },
     "execution_count": 11,
     "metadata": {},
     "output_type": "execute_result"
    }
   ],
   "source": [
    "122057+2253"
   ]
  },
  {
   "cell_type": "code",
   "execution_count": 12,
   "metadata": {},
   "outputs": [],
   "source": [
    "dataconcat1=pd.read_csv(\"dataconcat1.csv\")"
   ]
  },
  {
   "cell_type": "code",
   "execution_count": 13,
   "metadata": {},
   "outputs": [],
   "source": [
    "dataconcat1.reset_index(drop=True,inplace=True)"
   ]
  },
  {
   "cell_type": "code",
   "execution_count": 14,
   "metadata": {},
   "outputs": [],
   "source": [
    "dataconcat2=pd.read_csv(\"dataconcat2.csv\")"
   ]
  },
  {
   "cell_type": "code",
   "execution_count": 15,
   "metadata": {},
   "outputs": [],
   "source": [
    "dataconcat2.reset_index(drop=True,inplace=True)"
   ]
  },
  {
   "cell_type": "code",
   "execution_count": 16,
   "metadata": {},
   "outputs": [],
   "source": [
    "final_data = pd.concat([dataconcat, dataconcat1, dataconcat2], axis=0, ignore_index=True)"
   ]
  },
  {
   "cell_type": "code",
   "execution_count": 17,
   "metadata": {},
   "outputs": [
    {
     "data": {
      "text/html": [
       "<div>\n",
       "<style scoped>\n",
       "    .dataframe tbody tr th:only-of-type {\n",
       "        vertical-align: middle;\n",
       "    }\n",
       "\n",
       "    .dataframe tbody tr th {\n",
       "        vertical-align: top;\n",
       "    }\n",
       "\n",
       "    .dataframe thead th {\n",
       "        text-align: right;\n",
       "    }\n",
       "</style>\n",
       "<table border=\"1\" class=\"dataframe\">\n",
       "  <thead>\n",
       "    <tr style=\"text-align: right;\">\n",
       "      <th></th>\n",
       "      <th>key</th>\n",
       "      <th>appln_id</th>\n",
       "      <th>mainarea34</th>\n",
       "      <th>docdb_family_id</th>\n",
       "      <th>pat_publn_id</th>\n",
       "      <th>earliest_filing_date</th>\n",
       "      <th>appln_auth</th>\n",
       "      <th>granted</th>\n",
       "      <th>publn_auth</th>\n",
       "      <th>publn_nr</th>\n",
       "      <th>publn_kind</th>\n",
       "      <th>similar_patents</th>\n",
       "      <th>similar_patents_familyIDs</th>\n",
       "      <th>num_unique_familyIDs</th>\n",
       "    </tr>\n",
       "  </thead>\n",
       "  <tbody>\n",
       "    <tr>\n",
       "      <th>0</th>\n",
       "      <td>EP1321051A2</td>\n",
       "      <td>19</td>\n",
       "      <td>Other Fields</td>\n",
       "      <td>19188314.0</td>\n",
       "      <td>286949845.0</td>\n",
       "      <td>2001-12-21</td>\n",
       "      <td>EP</td>\n",
       "      <td>Y</td>\n",
       "      <td>EP</td>\n",
       "      <td>1321051</td>\n",
       "      <td>A2</td>\n",
       "      <td>['US5759163A', 'WO9410865A1', 'EP0664965A1', '...</td>\n",
       "      <td>['25279710', '25522562', '22699396', '22758306...</td>\n",
       "      <td>1854</td>\n",
       "    </tr>\n",
       "    <tr>\n",
       "      <th>1</th>\n",
       "      <td>EP1323868A1</td>\n",
       "      <td>20</td>\n",
       "      <td>Other Fields</td>\n",
       "      <td>19774416.0</td>\n",
       "      <td>287579451.0</td>\n",
       "      <td>2001-12-20</td>\n",
       "      <td>EP</td>\n",
       "      <td>Y</td>\n",
       "      <td>EP</td>\n",
       "      <td>1323868</td>\n",
       "      <td>A1</td>\n",
       "      <td>['EP0226251A1', 'EP0672795A1', 'WO8002359A1', ...</td>\n",
       "      <td>['19846985', '19863945', '6070111', '27544489'...</td>\n",
       "      <td>1899</td>\n",
       "    </tr>\n",
       "    <tr>\n",
       "      <th>2</th>\n",
       "      <td>EP1240845A1</td>\n",
       "      <td>23</td>\n",
       "      <td>Other Fields</td>\n",
       "      <td>8861213.0</td>\n",
       "      <td>289129312.0</td>\n",
       "      <td>2001-03-16</td>\n",
       "      <td>EP</td>\n",
       "      <td>Y</td>\n",
       "      <td>EP</td>\n",
       "      <td>1240845</td>\n",
       "      <td>A1</td>\n",
       "      <td>['WO0187245A3', 'WO0187245A2', 'US2002010556A1...</td>\n",
       "      <td>['27075299', '27075299', '24279046', '26914213...</td>\n",
       "      <td>1620</td>\n",
       "    </tr>\n",
       "    <tr>\n",
       "      <th>3</th>\n",
       "      <td>EP1452428A1</td>\n",
       "      <td>33</td>\n",
       "      <td>Mechanical engineering</td>\n",
       "      <td>19184257.0</td>\n",
       "      <td>287898353.0</td>\n",
       "      <td>2001-12-10</td>\n",
       "      <td>EP</td>\n",
       "      <td>Y</td>\n",
       "      <td>EP</td>\n",
       "      <td>1452428</td>\n",
       "      <td>A1</td>\n",
       "      <td>['US2004079004A1', 'WO03049990A1', 'EP1304282A...</td>\n",
       "      <td>['19184257', '19184257', '19140954', '18907837...</td>\n",
       "      <td>1837</td>\n",
       "    </tr>\n",
       "    <tr>\n",
       "      <th>4</th>\n",
       "      <td>EP1733650A1</td>\n",
       "      <td>76</td>\n",
       "      <td>Other Fields</td>\n",
       "      <td>35589510.0</td>\n",
       "      <td>279068442.0</td>\n",
       "      <td>2005-06-15</td>\n",
       "      <td>EP</td>\n",
       "      <td>Y</td>\n",
       "      <td>EP</td>\n",
       "      <td>1733650</td>\n",
       "      <td>A1</td>\n",
       "      <td>['WO9603606A1', 'EP0181477A2', 'WO9321868A1', ...</td>\n",
       "      <td>['3515062', '6247500', '3501175', '25076445', ...</td>\n",
       "      <td>1685</td>\n",
       "    </tr>\n",
       "  </tbody>\n",
       "</table>\n",
       "</div>"
      ],
      "text/plain": [
       "           key  appln_id              mainarea34  docdb_family_id  \\\n",
       "0  EP1321051A2        19            Other Fields       19188314.0   \n",
       "1  EP1323868A1        20            Other Fields       19774416.0   \n",
       "2  EP1240845A1        23            Other Fields        8861213.0   \n",
       "3  EP1452428A1        33  Mechanical engineering       19184257.0   \n",
       "4  EP1733650A1        76            Other Fields       35589510.0   \n",
       "\n",
       "   pat_publn_id earliest_filing_date appln_auth granted publn_auth  publn_nr  \\\n",
       "0   286949845.0           2001-12-21         EP       Y         EP   1321051   \n",
       "1   287579451.0           2001-12-20         EP       Y         EP   1323868   \n",
       "2   289129312.0           2001-03-16         EP       Y         EP   1240845   \n",
       "3   287898353.0           2001-12-10         EP       Y         EP   1452428   \n",
       "4   279068442.0           2005-06-15         EP       Y         EP   1733650   \n",
       "\n",
       "  publn_kind                                    similar_patents  \\\n",
       "0         A2  ['US5759163A', 'WO9410865A1', 'EP0664965A1', '...   \n",
       "1         A1  ['EP0226251A1', 'EP0672795A1', 'WO8002359A1', ...   \n",
       "2         A1  ['WO0187245A3', 'WO0187245A2', 'US2002010556A1...   \n",
       "3         A1  ['US2004079004A1', 'WO03049990A1', 'EP1304282A...   \n",
       "4         A1  ['WO9603606A1', 'EP0181477A2', 'WO9321868A1', ...   \n",
       "\n",
       "                           similar_patents_familyIDs  num_unique_familyIDs  \n",
       "0  ['25279710', '25522562', '22699396', '22758306...                  1854  \n",
       "1  ['19846985', '19863945', '6070111', '27544489'...                  1899  \n",
       "2  ['27075299', '27075299', '24279046', '26914213...                  1620  \n",
       "3  ['19184257', '19184257', '19140954', '18907837...                  1837  \n",
       "4  ['3515062', '6247500', '3501175', '25076445', ...                  1685  "
      ]
     },
     "execution_count": 17,
     "metadata": {},
     "output_type": "execute_result"
    }
   ],
   "source": [
    "final_data.head()"
   ]
  },
  {
   "cell_type": "code",
   "execution_count": 18,
   "metadata": {},
   "outputs": [],
   "source": [
    "final_data.reset_index(drop=True,inplace=True)"
   ]
  },
  {
   "cell_type": "code",
   "execution_count": 19,
   "metadata": {},
   "outputs": [
    {
     "data": {
      "text/html": [
       "<div>\n",
       "<style scoped>\n",
       "    .dataframe tbody tr th:only-of-type {\n",
       "        vertical-align: middle;\n",
       "    }\n",
       "\n",
       "    .dataframe tbody tr th {\n",
       "        vertical-align: top;\n",
       "    }\n",
       "\n",
       "    .dataframe thead th {\n",
       "        text-align: right;\n",
       "    }\n",
       "</style>\n",
       "<table border=\"1\" class=\"dataframe\">\n",
       "  <thead>\n",
       "    <tr style=\"text-align: right;\">\n",
       "      <th></th>\n",
       "      <th>key</th>\n",
       "      <th>appln_id</th>\n",
       "      <th>mainarea34</th>\n",
       "      <th>docdb_family_id</th>\n",
       "      <th>pat_publn_id</th>\n",
       "      <th>earliest_filing_date</th>\n",
       "      <th>appln_auth</th>\n",
       "      <th>granted</th>\n",
       "      <th>publn_auth</th>\n",
       "      <th>publn_nr</th>\n",
       "      <th>publn_kind</th>\n",
       "      <th>similar_patents</th>\n",
       "      <th>similar_patents_familyIDs</th>\n",
       "      <th>num_unique_familyIDs</th>\n",
       "    </tr>\n",
       "  </thead>\n",
       "  <tbody>\n",
       "    <tr>\n",
       "      <th>124101</th>\n",
       "      <td>EP1002560A2</td>\n",
       "      <td>17406457</td>\n",
       "      <td>Other Fields</td>\n",
       "      <td>18225474.0</td>\n",
       "      <td>294024103.0</td>\n",
       "      <td>1998-11-19</td>\n",
       "      <td>EP</td>\n",
       "      <td>Y</td>\n",
       "      <td>EP</td>\n",
       "      <td>1002560</td>\n",
       "      <td>A2</td>\n",
       "      <td>['EP0836871A2', 'EP0992266A2', 'EP0773514A1', ...</td>\n",
       "      <td>['17032685', '17694119', '9484499', '11909963'...</td>\n",
       "      <td>1247</td>\n",
       "    </tr>\n",
       "    <tr>\n",
       "      <th>124102</th>\n",
       "      <td>EP1017003A2</td>\n",
       "      <td>17407549</td>\n",
       "      <td>Electrical Engineering</td>\n",
       "      <td>18500622.0</td>\n",
       "      <td>291916156.0</td>\n",
       "      <td>1998-12-28</td>\n",
       "      <td>EP</td>\n",
       "      <td>N</td>\n",
       "      <td>EP</td>\n",
       "      <td>1017003</td>\n",
       "      <td>A2</td>\n",
       "      <td>['EP0735760A1', 'WO9631060A1', 'EP0554615A2', ...</td>\n",
       "      <td>['8220149', '8220149', '25167522', '8220154', ...</td>\n",
       "      <td>1217</td>\n",
       "    </tr>\n",
       "    <tr>\n",
       "      <th>124103</th>\n",
       "      <td>EP0978301A1</td>\n",
       "      <td>17415477</td>\n",
       "      <td>Electrical Engineering</td>\n",
       "      <td>12004924.0</td>\n",
       "      <td>294368343.0</td>\n",
       "      <td>1998-01-30</td>\n",
       "      <td>EP</td>\n",
       "      <td>Y</td>\n",
       "      <td>EP</td>\n",
       "      <td>978301</td>\n",
       "      <td>A1</td>\n",
       "      <td>['WO9938588A1', 'EP0927955A2', 'EP0943362A2', ...</td>\n",
       "      <td>['12004924', '11473040', '13447531', '16751590...</td>\n",
       "      <td>1162</td>\n",
       "    </tr>\n",
       "    <tr>\n",
       "      <th>124104</th>\n",
       "      <td>EP0999518A1</td>\n",
       "      <td>17427116</td>\n",
       "      <td>Electrical Engineering</td>\n",
       "      <td>15170543.0</td>\n",
       "      <td>292987412.0</td>\n",
       "      <td>1998-05-19</td>\n",
       "      <td>EP</td>\n",
       "      <td>N</td>\n",
       "      <td>EP</td>\n",
       "      <td>999518</td>\n",
       "      <td>A1</td>\n",
       "      <td>['WO9960522A1', 'EP0666547A2', 'EP0635983A2', ...</td>\n",
       "      <td>['15170543', '11766566', '22244262', '25350364...</td>\n",
       "      <td>1752</td>\n",
       "    </tr>\n",
       "    <tr>\n",
       "      <th>124105</th>\n",
       "      <td>EP1033679A1</td>\n",
       "      <td>17442746</td>\n",
       "      <td>Electrical Engineering</td>\n",
       "      <td>17518030.0</td>\n",
       "      <td>293885331.0</td>\n",
       "      <td>1998-09-28</td>\n",
       "      <td>EP</td>\n",
       "      <td>N</td>\n",
       "      <td>EP</td>\n",
       "      <td>1033679</td>\n",
       "      <td>A1</td>\n",
       "      <td>['WO0019370A1', 'EP0664526A2', 'EP0952555A1', ...</td>\n",
       "      <td>['17518030', '22673242', '27462059', '13449705...</td>\n",
       "      <td>1359</td>\n",
       "    </tr>\n",
       "  </tbody>\n",
       "</table>\n",
       "</div>"
      ],
      "text/plain": [
       "                key  appln_id              mainarea34  docdb_family_id  \\\n",
       "124101  EP1002560A2  17406457            Other Fields       18225474.0   \n",
       "124102  EP1017003A2  17407549  Electrical Engineering       18500622.0   \n",
       "124103  EP0978301A1  17415477  Electrical Engineering       12004924.0   \n",
       "124104  EP0999518A1  17427116  Electrical Engineering       15170543.0   \n",
       "124105  EP1033679A1  17442746  Electrical Engineering       17518030.0   \n",
       "\n",
       "        pat_publn_id earliest_filing_date appln_auth granted publn_auth  \\\n",
       "124101   294024103.0           1998-11-19         EP       Y         EP   \n",
       "124102   291916156.0           1998-12-28         EP       N         EP   \n",
       "124103   294368343.0           1998-01-30         EP       Y         EP   \n",
       "124104   292987412.0           1998-05-19         EP       N         EP   \n",
       "124105   293885331.0           1998-09-28         EP       N         EP   \n",
       "\n",
       "        publn_nr publn_kind  \\\n",
       "124101   1002560         A2   \n",
       "124102   1017003         A2   \n",
       "124103    978301         A1   \n",
       "124104    999518         A1   \n",
       "124105   1033679         A1   \n",
       "\n",
       "                                          similar_patents  \\\n",
       "124101  ['EP0836871A2', 'EP0992266A2', 'EP0773514A1', ...   \n",
       "124102  ['EP0735760A1', 'WO9631060A1', 'EP0554615A2', ...   \n",
       "124103  ['WO9938588A1', 'EP0927955A2', 'EP0943362A2', ...   \n",
       "124104  ['WO9960522A1', 'EP0666547A2', 'EP0635983A2', ...   \n",
       "124105  ['WO0019370A1', 'EP0664526A2', 'EP0952555A1', ...   \n",
       "\n",
       "                                similar_patents_familyIDs  \\\n",
       "124101  ['17032685', '17694119', '9484499', '11909963'...   \n",
       "124102  ['8220149', '8220149', '25167522', '8220154', ...   \n",
       "124103  ['12004924', '11473040', '13447531', '16751590...   \n",
       "124104  ['15170543', '11766566', '22244262', '25350364...   \n",
       "124105  ['17518030', '22673242', '27462059', '13449705...   \n",
       "\n",
       "        num_unique_familyIDs  \n",
       "124101                  1247  \n",
       "124102                  1217  \n",
       "124103                  1162  \n",
       "124104                  1752  \n",
       "124105                  1359  "
      ]
     },
     "execution_count": 19,
     "metadata": {},
     "output_type": "execute_result"
    }
   ],
   "source": [
    "final_data.tail()"
   ]
  },
  {
   "cell_type": "code",
   "execution_count": 20,
   "metadata": {},
   "outputs": [
    {
     "data": {
      "text/plain": [
       "124106"
      ]
     },
     "execution_count": 20,
     "metadata": {},
     "output_type": "execute_result"
    }
   ],
   "source": [
    "len(final_data)"
   ]
  },
  {
   "cell_type": "code",
   "execution_count": 21,
   "metadata": {},
   "outputs": [],
   "source": [
    "data204=pd.read_csv(\"data3.csv\")"
   ]
  },
  {
   "cell_type": "code",
   "execution_count": 22,
   "metadata": {},
   "outputs": [],
   "source": [
    "data204.reset_index(drop=True, inplace=True)"
   ]
  },
  {
   "cell_type": "code",
   "execution_count": 23,
   "metadata": {},
   "outputs": [
    {
     "data": {
      "text/plain": [
       "204"
      ]
     },
     "execution_count": 23,
     "metadata": {},
     "output_type": "execute_result"
    }
   ],
   "source": [
    "len(data204)"
   ]
  },
  {
   "cell_type": "code",
   "execution_count": 24,
   "metadata": {},
   "outputs": [
    {
     "data": {
      "text/plain": [
       "124310"
      ]
     },
     "execution_count": 24,
     "metadata": {},
     "output_type": "execute_result"
    }
   ],
   "source": [
    "124106+204"
   ]
  },
  {
   "cell_type": "code",
   "execution_count": null,
   "metadata": {},
   "outputs": [],
   "source": [
    "final_data.to_csv(\"10merged_data.csv\", index=False)"
   ]
  },
  {
   "cell_type": "code",
   "execution_count": 26,
   "metadata": {},
   "outputs": [],
   "source": [
    "data204.to_csv(\"data204.csv\",index=False)"
   ]
  },
  {
   "cell_type": "code",
   "execution_count": null,
   "metadata": {},
   "outputs": [],
   "source": []
  }
 ],
 "metadata": {
  "kernelspec": {
   "display_name": "Python 3",
   "language": "python",
   "name": "python3"
  },
  "language_info": {
   "codemirror_mode": {
    "name": "ipython",
    "version": 3
   },
   "file_extension": ".py",
   "mimetype": "text/x-python",
   "name": "python",
   "nbconvert_exporter": "python",
   "pygments_lexer": "ipython3",
   "version": "3.10.12"
  }
 },
 "nbformat": 4,
 "nbformat_minor": 2
}
